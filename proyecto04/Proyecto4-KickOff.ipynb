{
 "cells": [
  {
   "cell_type": "markdown",
   "metadata": {},
   "source": [
    "# Proyecto 4 KickOff\n",
    "\n",
    "## Sistema de Recomendación\n",
    "\n",
    "Un **Sistema de Recomendación** es un programa o software que crea recomendaciones de productos, servicios, información o contenido a los usuarios, basado en sus preferencias y comportamientos previos (visitar, comprar, dar like, ...)\n",
    "\n",
    "Por ejemplo, el proveedor de servicios de medios, **Netflix**, usa sistemas de referencia para recomendar películas o programas de televisión para usuarios individuales que probablemente los vean. La empresa de comercio electrónico **Amazon** usa sistemas de recomendación para predecir y mostrar una lista de productos que es probable que el cliente compre. El servicio de transmisión de música, **Pandora**, utiliza sistemas de recomendación de música para sus oyentes.\n",
    "\n",
    "![](netflix.jpg)\n",
    "\n",
    "Algunos datos reales: En Netflix se recomiendan 2/3 de las películas vistas. En Google, las recomendaciones de noticias mejoraron la tasa de clics (CTR) en un 38%. Para Amazon, el 35% de las ventas provienen de recomendaciones.\n",
    "\n",
    "Mediante análisis de datos y aprendizaje automático el sistema determina qué productos (items) son más relevantes para un usuario en particular y recomendarlos en consecuencia.\n",
    "\n",
    "Hay principalmente 3 tipos de sistemas de recomendación:\n",
    "\n",
    "1. los basados en contenido (**Content-based**), que utilizan la descripción/atributos de los productos para hacer recomendaciones por su similitud.\n",
    "\n",
    "![](Content-based-filtering-vs-Collaborative-filtering-Source.png)\n",
    "\n",
    "2. los sistemas de filtrado colaborativo por usuario (**User-based collaborative filtering**), que buscan usuarios similares (en su cesta de compra) y listan sus items preferidos (comprados).\n",
    "\n",
    "3. los sistemas de filtrado colaborativo por producto (**Item-Based Collaborative Filtering**), que buscan productos similares (en su historial de compradores).\n",
    "\n",
    "![](itemVSuser.jpg)\n",
    "\n",
    "Los sistemas de recomendación se utilizan en sitios web de comercio electrónico (Amazon) y en plataformas de entretenimiento en línea (YouTube) y redes sociales (Instagram). Su objetivo es hacer fácil al usuario encontrar lo que más le puede interesar."
   ]
  },
  {
   "cell_type": "markdown",
   "metadata": {},
   "source": [
    "***\n",
    "\n",
    "# Ejercicio:\n",
    "\n",
    "![](ejercicio.png)"
   ]
  },
  {
   "cell_type": "markdown",
   "metadata": {},
   "source": [
    "***\n",
    "\n",
    "# Model-based\n",
    "\n",
    "En realidad, hay un dos tipos más de sistemas de recomendación que se usan menos y son más difíciles de implementar: híbridos y model-based:\n",
    "\n",
    "- La falta de diversidad en las recomendaciones se resuelve mediante sistemas **híbridos** (collaborative filtering + content-based) que suman las recomendaciones de los dos sistemas.\n",
    "\n",
    "- En los **sistemas de recomendación model-based**, el modelo matemático se entrena con datos históricos de interacciones de los usuarios con los elementos para encontrar patrones y relaciones entre ellos. Estos sistemas son capaces de manejar grandes conjuntos de datos y hacer recomendaciones personalizadas para usuarios individuales en función de sus preferencias y comportamientos pasados, **sin tener en cuenta la existencia de otros productos y de otros usuarios de la plataforma**.\n",
    "\n",
    "![](model-hybrid.png)"
   ]
  },
  {
   "cell_type": "markdown",
   "metadata": {},
   "source": [
    "***\n",
    "\n",
    "## Proyecto 4\n",
    "\n",
    "La empresa XYZ se dedica a la fabricación y venta en línea de productos para regalos en cualquier ocasión. Está buscando un Data Scientist para implementar un plan estratégico con el que impulsar las ventas entre sus clientes actuales. En el proceso de selección del que tú eres un candidato, se propone la siguiente prueba técnica:\n",
    "\n",
    "Desarrollar un análisis estadístico para identificar los clientes más potenciales, los productos más consumidos y los meses de mayor frecuencia de compra. Construir un sistema de recomendación de productos según el historial del cliente. Y crear un modelo de detección de bundles.\n",
    "\n",
    "#### Objetivos (Especificaciones del desarrollo)\n",
    "\n",
    "1. Informe de contexto del dataset: productos más vendidos, países con más ventas, horarios pico, etc.\n",
    "\n",
    "2. Representar gráficamente productos y beneficios por compra.\n",
    "\n",
    "![](scatter-ventas.png)\n",
    "\n",
    "2. Obtener 10 productos recomendados (con su descripción) para los usuarios de una plataforma de comercio electrónico.\n",
    "\n",
    "3. Obtener recomendaciones de **bundles** definidos por los patrones de compra de los usuarios.\n",
    "\n",
    "#### DataSet\n",
    "\n",
    "Disponemos del fichero OnlineRetail.csv (datos anonimizados) que contiene las compras realizadas por los usuarios, así como los parámetros esenciales del producto adquirido.\n",
    "\n",
    "#### Hints\n",
    "\n",
    "1. Explorar los datos y realizar **limpieza de registros incompletos**. Visualizar valores faltantes con la librería **missingno**\n",
    "\n",
    "![](graph-missingno.png)\n",
    "\n",
    "2. Construir un mapa que muestre número de compras totales por país y otro con número de compras relativas (per capita) por país.\n",
    "\n",
    "![](mapa.png)\n",
    "\n",
    "3. Analizar los horarios y calendarios de compra, mediante histogramas y estacionalidad.\n",
    "\n",
    "![](ventas-por-meses.png)\n",
    "![](pieChart.png)\n",
    "\n",
    "4. Crear la **Customer-Item Matrix** mediante el método df.pivot_table\n",
    "\n",
    "![](pivot-table.png)\n",
    "\n",
    "5. Crear la **User to User Similarity Matrix** mediante la **distancia del coseno** con la librería sklearn\n",
    "\n",
    "![](An-example-of-user-similarity-matrix-of-k-RRI.png)\n",
    "\n",
    "6. Obtener las 10 recomendaciones de tipo **filtrado colaborativo por usuario**.\n",
    "\n",
    "7. Obtener las 10 recomendaciones de tipo **filtrado colaborativo por producto** creando previamente la **Item to Item Similarity Matrix**.\n",
    "\n",
    "8. Obtener las 10 recomendaciones de tipo **basado en contenido** utilizando métricas de texto (Levenshtein o vectorización TF-IDF)\n",
    "\n",
    "9. Realizar un **market basket analysis** para detectar **bundles** (packs) de productos. Algoritmos de clusterización como K-means podrían detectar los bundles más frecuentes."
   ]
  }
 ],
 "metadata": {
  "kernelspec": {
   "display_name": "Python 3 (ipykernel)",
   "language": "python",
   "name": "python3"
  },
  "language_info": {
   "codemirror_mode": {
    "name": "ipython",
    "version": 3
   },
   "file_extension": ".py",
   "mimetype": "text/x-python",
   "name": "python",
   "nbconvert_exporter": "python",
   "pygments_lexer": "ipython3",
   "version": "3.9.13"
  },
  "vscode": {
   "interpreter": {
    "hash": "916dbcbb3f70747c44a77c7bcd40155683ae19c65e1c03b4aa3499c5328201f1"
   }
  }
 },
 "nbformat": 4,
 "nbformat_minor": 2
}
