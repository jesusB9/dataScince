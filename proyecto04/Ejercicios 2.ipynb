{
 "cells": [
  {
   "cell_type": "code",
   "execution_count": 2,
   "id": "ec08b896",
   "metadata": {},
   "outputs": [],
   "source": [
    "import pandas as pd\n",
    "import numpy as np"
   ]
  },
  {
   "cell_type": "code",
   "execution_count": 3,
   "id": "4e1a5868",
   "metadata": {},
   "outputs": [],
   "source": [
    "#22,45,88,5,12,123."
   ]
  },
  {
   "cell_type": "code",
   "execution_count": 4,
   "id": "f5b55f3c",
   "metadata": {},
   "outputs": [
    {
     "name": "stdout",
     "output_type": "stream",
     "text": [
      "escribe los numeros: 22,45,88,5,12,123\n"
     ]
    }
   ],
   "source": [
    "entrada = input(\"escribe los numeros: \")"
   ]
  },
  {
   "cell_type": "code",
   "execution_count": 5,
   "id": "0ed4db65",
   "metadata": {},
   "outputs": [
    {
     "name": "stdout",
     "output_type": "stream",
     "text": [
      "22,45,88,5,12,123\n",
      "<class 'str'>\n"
     ]
    }
   ],
   "source": [
    "print(entrada)\n",
    "print(type(entrada))"
   ]
  },
  {
   "cell_type": "code",
   "execution_count": 7,
   "id": "60d7b9ad",
   "metadata": {},
   "outputs": [],
   "source": [
    "numeros = entrada.split(\",\")"
   ]
  },
  {
   "cell_type": "code",
   "execution_count": 8,
   "id": "48074193",
   "metadata": {},
   "outputs": [
    {
     "name": "stdout",
     "output_type": "stream",
     "text": [
      "<class 'list'>\n",
      "['22', '45', '88', '5', '12', '123']\n"
     ]
    }
   ],
   "source": [
    "print(type(numeros))\n",
    "print(numeros)"
   ]
  },
  {
   "cell_type": "code",
   "execution_count": null,
   "id": "3451e5c0",
   "metadata": {},
   "outputs": [],
   "source": []
  }
 ],
 "metadata": {
  "kernelspec": {
   "display_name": "Python 3 (ipykernel)",
   "language": "python",
   "name": "python3"
  },
  "language_info": {
   "codemirror_mode": {
    "name": "ipython",
    "version": 3
   },
   "file_extension": ".py",
   "mimetype": "text/x-python",
   "name": "python",
   "nbconvert_exporter": "python",
   "pygments_lexer": "ipython3",
   "version": "3.9.13"
  }
 },
 "nbformat": 4,
 "nbformat_minor": 5
}
