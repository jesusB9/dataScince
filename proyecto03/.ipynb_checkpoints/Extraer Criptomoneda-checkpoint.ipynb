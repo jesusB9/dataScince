{
 "cells": [
  {
   "cell_type": "code",
   "execution_count": 1,
   "id": "7d8cfc57",
   "metadata": {},
   "outputs": [],
   "source": [
    "# Importamos las librerias que vamos a necesirtar.\n",
    "import re\n",
    "from re import sub\n",
    "import pandas as pd\n",
    "import numpy as np\n",
    "import requests\n",
    "import urllib.request\n",
    "from bs4 import BeautifulSoup\n",
    "from html.parser import HTMLParser\n",
    "import sys"
   ]
  },
  {
   "cell_type": "code",
   "execution_count": 2,
   "id": "b4f798ba",
   "metadata": {},
   "outputs": [],
   "source": [
    "# Copiamos la URL y la almacenamos en una variable.\n",
    "url = 'https://coinmarketcap.com/es/'\n",
    "\n",
    "# Hacemos un request.get ala variable para que nos deje extraer su contenido total.\n",
    "resp = requests.get(url)"
   ]
  },
  {
   "cell_type": "code",
   "execution_count": 3,
   "id": "1f12fb5b",
   "metadata": {},
   "outputs": [
    {
     "data": {
      "text/plain": [
       "True"
      ]
     },
     "execution_count": 3,
     "metadata": {},
     "output_type": "execute_result"
    }
   ],
   "source": [
    "resp.ok"
   ]
  },
  {
   "cell_type": "code",
   "execution_count": 5,
   "id": "02f37348",
   "metadata": {
    "scrolled": true
   },
   "outputs": [],
   "source": [
    "# Usando BeautifulSoup ala resp para ver su contenido en html\n",
    "soup = BeautifulSoup(resp.content, 'html.parser')\n",
    "#soup.html"
   ]
  },
  {
   "cell_type": "code",
   "execution_count": 59,
   "id": "d621eaf8",
   "metadata": {
    "scrolled": true
   },
   "outputs": [],
   "source": [
    "#soup.find_all('p')"
   ]
  },
  {
   "cell_type": "code",
   "execution_count": 60,
   "id": "725667bb",
   "metadata": {
    "scrolled": true
   },
   "outputs": [
    {
     "name": "stdout",
     "output_type": "stream",
     "text": [
      "/es/\n",
      "/es/rankings/exchanges/\n",
      "/es/charts/\n",
      "/es/charts/\n",
      "/es/charts/#dominance-percentage\n",
      "None\n",
      "/es/\n",
      "/es/\n",
      "/es/\n",
      "/es/new/\n",
      "/es/cryptocurrency-category/\n",
      "/es/best-cryptos/\n",
      "/es/gainers-losers/\n",
      "/es/charts/\n",
      "/es/historical/\n",
      "/es/price-estimates/\n",
      "/es/polkadot-parachains/polkadot/\n",
      "/es/legal-tender-countries/\n",
      "/es/fiat-currencies/\n",
      "/es/nft/\n",
      "/es/nft/collections/\n",
      "/es/nft/upcoming/\n",
      "/es/chain-ranking/\n",
      "/es/rankings/exchanges/\n",
      "/es/rankings/exchanges/\n",
      "/es/rankings/exchanges/derivatives/\n",
      "/es/rankings/exchanges/dex/\n",
      "/community/es\n",
      "/community/es\n",
      "/community/es/articles\n",
      "/es/converter/\n",
      "https://coinmarketcap.com/mobile/\n",
      "https://blockchain.coinmarketcap.com\n",
      "https://jobs.coinmarketcap.com\n",
      "https://coinmarketcap.com/api/\n",
      "/es/widget/\n",
      "/es/airdrop/\n",
      "/es/account/rewards/\n",
      "/es/referral/\n",
      "https://coinmarketcap.com/earn/\n",
      "/es/ico-calendar/\n",
      "/es/events/\n",
      "https://coinmarketcap.com/alexandria/\n",
      "/es/headlines/news/\n",
      "https://coinmarketcap.com/alexandria/categories/cmc-research\n",
      "/es/conferences/\n",
      "https://www.youtube.com/channel/UCnhdZlwVd6ocXGhdSyV9Axg?sub_confirmation=1\n",
      "https://coinmarketcap.com/alexandria/categories/market-musing\n",
      "https://coinmarketcap.com/alexandria/glossary\n",
      "/es/how-to-buy-bitcoin/\n",
      "/es/newsletter/\n",
      "/es/methodology/\n",
      "/es/\n",
      "/es/\n",
      "/es/rankings/exchanges/\n",
      "/es/charts/\n",
      "/es/charts/\n",
      "/es/charts/#dominance-percentage\n",
      "None\n",
      "None\n",
      "None\n",
      "/community/es/recommended-accounts\n",
      "None\n",
      "None\n",
      "None\n",
      "/community/es\n",
      "None\n",
      "/community/es/search/top/icon\n",
      "None\n",
      "https://t.co/Tw7rmm2H7C\n",
      "/community/es/articles\n",
      "None\n",
      "/es/currencies/playdapp\n",
      "/community/es/recommended-accounts\n",
      "None\n",
      "None\n",
      "None\n",
      "/es/watchlist/\n",
      "/es/portfolio-tracker/\n",
      "/es/watchlist/\n",
      "/es/portfolio-tracker/\n",
      "/es/\n",
      "/es/cryptocurrency-category/\n",
      "/es/view/defi/\n",
      "/es/view/collectibles-nfts/\n",
      "/es/view/metaverse/\n",
      "/es/view/polkadot-ecosystem/\n",
      "/es/view/bnb-chain/\n",
      "/es/view/solana-ecosystem/\n",
      "/es/view/avalanche-ecosystem/\n",
      "/es/currencies/bitcoin/\n",
      "/es/currencies/bitcoin/markets/\n",
      "/es/currencies/bitcoin/markets/\n",
      "/es/currencies/bitcoin/?period=7d\n",
      "/es/currencies/ethereum/\n",
      "/es/currencies/ethereum/markets/\n",
      "/es/currencies/ethereum/markets/\n",
      "/es/currencies/ethereum/?period=7d\n",
      "/es/currencies/tether/\n",
      "/es/currencies/tether/markets/\n",
      "/es/currencies/tether/markets/\n",
      "/es/currencies/tether/?period=7d\n",
      "/es/currencies/bnb/\n",
      "/es/currencies/bnb/markets/\n",
      "/es/currencies/bnb/markets/\n",
      "/es/currencies/bnb/?period=7d\n",
      "/es/currencies/usd-coin/\n",
      "/es/currencies/usd-coin/markets/\n",
      "/es/currencies/usd-coin/markets/\n",
      "/es/currencies/usd-coin/?period=7d\n",
      "/es/currencies/xrp/\n",
      "/es/currencies/xrp/markets/\n",
      "/es/currencies/xrp/markets/\n",
      "/es/currencies/xrp/?period=7d\n",
      "/es/currencies/binance-usd/\n",
      "/es/currencies/binance-usd/markets/\n",
      "/es/currencies/binance-usd/markets/\n",
      "/es/currencies/binance-usd/?period=7d\n",
      "/es/currencies/cardano/\n",
      "/es/currencies/cardano/markets/\n",
      "/es/currencies/cardano/markets/\n",
      "/es/currencies/cardano/?period=7d\n",
      "/es/currencies/dogecoin/\n",
      "/es/currencies/dogecoin/markets/\n",
      "/es/currencies/dogecoin/markets/\n",
      "/es/currencies/dogecoin/?period=7d\n",
      "/es/currencies/polygon/\n",
      "/es/currencies/polygon/markets/\n",
      "/es/currencies/polygon/markets/\n",
      "/es/currencies/polygon/?period=7d\n",
      "/es/currencies/litecoin/\n",
      "/es/currencies/multi-collateral-dai/\n",
      "/es/currencies/solana/\n",
      "/es/currencies/polkadot-new/\n",
      "/es/currencies/tron/\n",
      "/es/currencies/shiba-inu/\n",
      "/es/currencies/uniswap/\n",
      "/es/currencies/avalanche/\n",
      "/es/currencies/unus-sed-leo/\n",
      "/es/currencies/cosmos/\n",
      "/es/currencies/wrapped-bitcoin/\n",
      "/es/currencies/chainlink/\n",
      "/es/currencies/monero/\n",
      "/es/currencies/ethereum-classic/\n",
      "/es/currencies/toncoin/\n",
      "/es/currencies/stellar/\n",
      "/es/currencies/bitcoin-cash/\n",
      "/es/currencies/apecoin-ape/\n",
      "/es/currencies/okb/\n",
      "/es/currencies/cronos/\n",
      "/es/currencies/lido-dao/\n",
      "/es/currencies/quant/\n",
      "/es/currencies/algorand/\n",
      "/es/currencies/near-protocol/\n",
      "/es/currencies/filecoin/\n",
      "/es/currencies/vechain/\n",
      "/es/currencies/internet-computer/\n",
      "/es/currencies/hedera/\n",
      "/es/currencies/eos/\n",
      "/es/currencies/terra-luna/\n",
      "/es/currencies/bitdao/\n",
      "/es/currencies/paxos-standard/\n",
      "/es/currencies/aave/\n",
      "/es/currencies/trueusd/\n",
      "/es/currencies/elrond-egld/\n",
      "/es/currencies/theta-network/\n",
      "/es/currencies/flow/\n",
      "/es/currencies/huobi-token/\n",
      "/es/currencies/bitcoin-sv/\n",
      "/es/currencies/chiliz/\n",
      "/es/currencies/tezos/\n",
      "/es/currencies/the-sandbox/\n",
      "/es/currencies/axie-infinity/\n",
      "/es/currencies/decentraland/\n",
      "/es/currencies/usdd/\n",
      "/es/currencies/kucoin-token/\n",
      "/es/currencies/zcash/\n",
      "/es/currencies/aptos/\n",
      "/es/currencies/fantom/\n",
      "/es/currencies/bittorrent-new/\n",
      "/es/currencies/gemini-dollar/\n",
      "/es/currencies/maker/\n",
      "/es/currencies/the-graph/\n",
      "/es/currencies/trust-wallet-token/\n",
      "/es/currencies/pancakeswap/\n",
      "/es/currencies/klaytn/\n",
      "/es/currencies/dash/\n",
      "/es/currencies/iota/\n",
      "/es/currencies/pax-gold/\n",
      "/es/currencies/ecash/\n",
      "/es/currencies/neo/\n",
      "/es/currencies/thorchain/\n",
      "/es/currencies/synthetix/\n",
      "/es/currencies/fei-usd/\n",
      "/es/currencies/mina/\n",
      "/es/currencies/nexo/\n",
      "/es/currencies/frax-share/\n",
      "/es/currencies/osmosis/\n",
      "/es/currencies/gmx/\n",
      "/es/currencies/immutable-x/\n",
      "/es/currencies/zilliqa/\n",
      "/es/currencies/gatetoken/\n",
      "/es/currencies/ethereum-pow/\n",
      "/es/currencies/curve-dao-token/\n",
      "/es/currencies/1inch/\n",
      "/es/currencies/xinfin/\n",
      "/es/currencies/stacks/\n",
      "/es/currencies/casper/\n",
      "/es/currencies/loopring/\n",
      "/es/currencies/optimism-ethereum/\n",
      "/es/currencies/basic-attention-token/\n",
      "/es/currencies/enjin-coin/\n",
      "/es/currencies/decred/\n",
      "/es/currencies/nem/\n",
      "/es/currencies/neutrino-usd/\n",
      "/es/currencies/wootrade/\n",
      "/es/currencies/kava/\n",
      "/es/currencies/holo/\n",
      "/es/currencies/helium/\n",
      "/es/currencies/balancer/\n",
      "None\n",
      "None\n",
      "/es/?page=2\n",
      "/es/?page=3\n",
      "/es/?page=4\n",
      "None\n",
      "/es/?page=89\n",
      "/es/?page=2\n",
      "None\n",
      "None\n",
      "/es/?page=2\n",
      "/es/?page=3\n",
      "/es/?page=4\n",
      "/es/?page=5\n",
      "/es/?page=6\n",
      "None\n",
      "/es/?page=89\n",
      "/es/?page=2\n",
      "https://support.coinmarketcap.com/hc/en-us/articles/360043395752-Price-Market-Pair-Cryptoasset-\n",
      "https://coinmarketcap.com/how-to-buy-bitcoin/\n",
      "https://coinmarketcap.com/glossary/\n",
      "https://coinmarketcap.com/alexandria/\n",
      "https://blockchain.coinmarketcap.com/\n",
      "https://support.coinmarketcap.com/hc/en-us/articles/360043836811-Market-Capitalization-Cryptoasset-Aggregate-\n",
      "https://support.coinmarketcap.com/hc/en-us/articles/360043659351-Listings-Criteria\n",
      "https://coinmarketcap.com/es/currencies/axie-infinity/\n",
      "https://coinmarketcap.com/currencies/smooth-love-potion/slp/php/\n",
      "https://blockchain.coinmarketcap.com/?utm_source=coinmarketcap&utm_content=footer\n",
      "https://coinmarketcap.com/api/\n",
      "https://coinmarketcap.com/indices/\n",
      "https://jobs.coinmarketcap.com/\n",
      "/es/sitemap/cryptocurrencies/\n",
      "/es/about/\n",
      "/es/terms/\n",
      "/es/privacy/\n",
      "https://support.coinmarketcap.com/hc/en-us/articles/4412939497755\n",
      "/es/disclaimer/\n",
      "/es/methodology/\n",
      "/jobs\n",
      "/request/\n",
      "/request/\n",
      "/es/faq/\n",
      "https://coinmarketcap.com/alexandria/glossary\n",
      "https://www.facebook.com/CoinMarketCap\n",
      "https://twitter.com/CoinMarketCap\n",
      "https://t.me/CoinMarketCapAnnouncements\n",
      "https://www.instagram.com/coinmarketcap/\n",
      "https://t.me/CoinMarketCapBot\n",
      "https://itunes.apple.com/app/coinmarketcap/id1282107098?ls=1&mt=8\n",
      "https://play.google.com/store/apps/details?id=com.coinmarketcap.android&hl=en_US\n",
      "None\n",
      "/es/privacy/\n"
     ]
    }
   ],
   "source": [
    "links = soup.find_all('a')\n",
    "for link in soup.find_all('a'):\n",
    "    print(link.get('href'))"
   ]
  },
  {
   "cell_type": "code",
   "execution_count": 61,
   "id": "41f9ec21",
   "metadata": {},
   "outputs": [
    {
     "name": "stdout",
     "output_type": "stream",
     "text": [
      "['/es/currencies/playdapp', '/es/currencies/bitcoin/', '/es/currencies/bitcoin/markets/', '/es/currencies/bitcoin/markets/', '/es/currencies/bitcoin/?period=7d', '/es/currencies/ethereum/', '/es/currencies/ethereum/markets/', '/es/currencies/ethereum/markets/', '/es/currencies/ethereum/?period=7d', '/es/currencies/tether/', '/es/currencies/tether/markets/', '/es/currencies/tether/markets/', '/es/currencies/tether/?period=7d', '/es/currencies/bnb/', '/es/currencies/bnb/markets/', '/es/currencies/bnb/markets/', '/es/currencies/bnb/?period=7d', '/es/currencies/usd-coin/', '/es/currencies/usd-coin/markets/', '/es/currencies/usd-coin/markets/', '/es/currencies/usd-coin/?period=7d', '/es/currencies/xrp/', '/es/currencies/xrp/markets/', '/es/currencies/xrp/markets/', '/es/currencies/xrp/?period=7d', '/es/currencies/binance-usd/', '/es/currencies/binance-usd/markets/', '/es/currencies/binance-usd/markets/', '/es/currencies/binance-usd/?period=7d', '/es/currencies/cardano/', '/es/currencies/cardano/markets/', '/es/currencies/cardano/markets/', '/es/currencies/cardano/?period=7d', '/es/currencies/dogecoin/', '/es/currencies/dogecoin/markets/', '/es/currencies/dogecoin/markets/', '/es/currencies/dogecoin/?period=7d', '/es/currencies/polygon/', '/es/currencies/polygon/markets/', '/es/currencies/polygon/markets/', '/es/currencies/polygon/?period=7d', '/es/currencies/litecoin/', '/es/currencies/multi-collateral-dai/', '/es/currencies/solana/', '/es/currencies/polkadot-new/', '/es/currencies/tron/', '/es/currencies/shiba-inu/', '/es/currencies/uniswap/', '/es/currencies/avalanche/', '/es/currencies/unus-sed-leo/', '/es/currencies/cosmos/', '/es/currencies/wrapped-bitcoin/', '/es/currencies/chainlink/', '/es/currencies/monero/', '/es/currencies/ethereum-classic/', '/es/currencies/toncoin/', '/es/currencies/stellar/', '/es/currencies/bitcoin-cash/', '/es/currencies/apecoin-ape/', '/es/currencies/okb/', '/es/currencies/cronos/', '/es/currencies/lido-dao/', '/es/currencies/quant/', '/es/currencies/algorand/', '/es/currencies/near-protocol/', '/es/currencies/filecoin/', '/es/currencies/vechain/', '/es/currencies/internet-computer/', '/es/currencies/hedera/', '/es/currencies/eos/', '/es/currencies/terra-luna/', '/es/currencies/bitdao/', '/es/currencies/paxos-standard/', '/es/currencies/aave/', '/es/currencies/trueusd/', '/es/currencies/elrond-egld/', '/es/currencies/theta-network/', '/es/currencies/flow/', '/es/currencies/huobi-token/', '/es/currencies/bitcoin-sv/', '/es/currencies/chiliz/', '/es/currencies/tezos/', '/es/currencies/the-sandbox/', '/es/currencies/axie-infinity/', '/es/currencies/decentraland/', '/es/currencies/usdd/', '/es/currencies/kucoin-token/', '/es/currencies/zcash/', '/es/currencies/aptos/', '/es/currencies/fantom/', '/es/currencies/bittorrent-new/', '/es/currencies/gemini-dollar/', '/es/currencies/maker/', '/es/currencies/the-graph/', '/es/currencies/trust-wallet-token/', '/es/currencies/pancakeswap/', '/es/currencies/klaytn/', '/es/currencies/dash/', '/es/currencies/iota/', '/es/currencies/pax-gold/', '/es/currencies/ecash/', '/es/currencies/neo/', '/es/currencies/thorchain/', '/es/currencies/synthetix/', '/es/currencies/fei-usd/', '/es/currencies/mina/', '/es/currencies/nexo/', '/es/currencies/frax-share/', '/es/currencies/osmosis/', '/es/currencies/gmx/', '/es/currencies/immutable-x/', '/es/currencies/zilliqa/', '/es/currencies/gatetoken/', '/es/currencies/ethereum-pow/', '/es/currencies/curve-dao-token/', '/es/currencies/1inch/', '/es/currencies/xinfin/', '/es/currencies/stacks/', '/es/currencies/casper/', '/es/currencies/loopring/', '/es/currencies/optimism-ethereum/', '/es/currencies/basic-attention-token/', '/es/currencies/enjin-coin/', '/es/currencies/decred/', '/es/currencies/nem/', '/es/currencies/neutrino-usd/', '/es/currencies/wootrade/', '/es/currencies/kava/', '/es/currencies/holo/', '/es/currencies/helium/', '/es/currencies/balancer/']\n"
     ]
    }
   ],
   "source": [
    "### for link in links:\n",
    "    #if link.has_attr(\"href\"):\n",
    "        #print(link[\"href\"])\n",
    "criptos = []\n",
    "for link in links:\n",
    "    if link.has_attr(\"href\"):\n",
    "        #print(type(link.get(\"href\")))\n",
    "        if link.get('href')[0:7]==\"/es/cur\":\n",
    "            criptos.append(link.get(\"href\"))\n",
    "print(criptos)"
   ]
  },
  {
   "cell_type": "code",
   "execution_count": 62,
   "id": "cd709997",
   "metadata": {},
   "outputs": [
    {
     "name": "stdout",
     "output_type": "stream",
     "text": [
      "[[], ['bitcoin'], ['bitcoin'], ['bitcoin'], ['bitcoin'], ['ethereum'], ['ethereum'], ['ethereum'], ['ethereum'], ['tether'], ['tether'], ['tether'], ['tether'], ['bnb'], ['bnb'], ['bnb'], ['bnb'], ['usd-coin'], ['usd-coin'], ['usd-coin'], ['usd-coin'], ['xrp'], ['xrp'], ['xrp'], ['xrp'], ['binance-usd'], ['binance-usd'], ['binance-usd'], ['binance-usd'], ['cardano'], ['cardano'], ['cardano'], ['cardano'], ['dogecoin'], ['dogecoin'], ['dogecoin'], ['dogecoin'], ['polygon'], ['polygon'], ['polygon'], ['polygon'], ['litecoin'], ['multi-collateral-dai'], ['solana'], ['polkadot-new'], ['tron'], ['shiba-inu'], ['uniswap'], ['avalanche'], ['unus-sed-leo'], ['cosmos'], ['wrapped-bitcoin'], ['chainlink'], ['monero'], ['ethereum-classic'], ['toncoin'], ['stellar'], ['bitcoin-cash'], ['apecoin-ape'], ['okb'], ['cronos'], ['lido-dao'], ['quant'], ['algorand'], ['near-protocol'], ['filecoin'], ['vechain'], ['internet-computer'], ['hedera'], ['eos'], ['terra-luna'], ['bitdao'], ['paxos-standard'], ['aave'], ['trueusd'], ['elrond-egld'], ['theta-network'], ['flow'], ['huobi-token'], ['bitcoin-sv'], ['chiliz'], ['tezos'], ['the-sandbox'], ['axie-infinity'], ['decentraland'], ['usdd'], ['kucoin-token'], ['zcash'], ['aptos'], ['fantom'], ['bittorrent-new'], ['gemini-dollar'], ['maker'], ['the-graph'], ['trust-wallet-token'], ['pancakeswap'], ['klaytn'], ['dash'], ['iota'], ['pax-gold'], ['ecash'], ['neo'], ['thorchain'], ['synthetix'], ['fei-usd'], ['mina'], ['nexo'], ['frax-share'], ['osmosis'], ['gmx'], ['immutable-x'], ['zilliqa'], ['gatetoken'], ['ethereum-pow'], ['curve-dao-token'], ['1inch'], ['xinfin'], ['stacks'], ['casper'], ['loopring'], ['optimism-ethereum'], ['basic-attention-token'], ['enjin-coin'], ['decred'], ['nem'], ['neutrino-usd'], ['wootrade'], ['kava'], ['holo'], ['helium'], ['balancer']]\n",
      "131\n"
     ]
    }
   ],
   "source": [
    "criptomonedas = []\n",
    "for cripto in criptos:\n",
    "    c = re.findall(\"currencies/(.+?)/\", cripto)\n",
    "    criptomonedas.append(c)\n",
    "print(criptomonedas)\n",
    "print(len(criptomonedas))"
   ]
  },
  {
   "cell_type": "code",
   "execution_count": 63,
   "id": "d2c7bbb4",
   "metadata": {},
   "outputs": [],
   "source": [
    "# Funcion para que me de los unicos valores de una lista.\n",
    "def unique(criptomonedas):\n",
    "\n",
    "    unique_list = []\n",
    "    for x in criptomonedas:\n",
    "        if x not in unique_list:    \n",
    "            unique_list.append(x)\n",
    "        \n",
    "    return (unique_list)\n"
   ]
  },
  {
   "cell_type": "code",
   "execution_count": 64,
   "id": "40043566",
   "metadata": {
    "scrolled": true
   },
   "outputs": [],
   "source": [
    "criptomonedas = unique(criptomonedas)"
   ]
  },
  {
   "cell_type": "code",
   "execution_count": 65,
   "id": "aaf109a5",
   "metadata": {},
   "outputs": [
    {
     "name": "stdout",
     "output_type": "stream",
     "text": [
      "[['bitcoin'], ['ethereum'], ['tether'], ['bnb'], ['usd-coin'], ['xrp'], ['binance-usd'], ['cardano'], ['dogecoin'], ['polygon'], ['litecoin'], ['multi-collateral-dai'], ['solana'], ['polkadot-new'], ['tron'], ['shiba-inu'], ['uniswap'], ['avalanche'], ['unus-sed-leo'], ['cosmos'], ['wrapped-bitcoin'], ['chainlink'], ['monero'], ['ethereum-classic'], ['toncoin'], ['stellar'], ['bitcoin-cash'], ['apecoin-ape'], ['okb'], ['cronos'], ['lido-dao'], ['quant'], ['algorand'], ['near-protocol'], ['filecoin'], ['vechain'], ['internet-computer'], ['hedera'], ['eos'], ['terra-luna'], ['bitdao'], ['paxos-standard'], ['aave'], ['trueusd'], ['elrond-egld'], ['theta-network'], ['flow'], ['huobi-token'], ['bitcoin-sv'], ['chiliz'], ['tezos'], ['the-sandbox'], ['axie-infinity'], ['decentraland'], ['usdd'], ['kucoin-token'], ['zcash'], ['aptos'], ['fantom'], ['bittorrent-new'], ['gemini-dollar'], ['maker'], ['the-graph'], ['trust-wallet-token'], ['pancakeswap'], ['klaytn'], ['dash'], ['iota'], ['pax-gold'], ['ecash'], ['neo'], ['thorchain'], ['synthetix'], ['fei-usd'], ['mina'], ['nexo'], ['frax-share'], ['osmosis'], ['gmx'], ['immutable-x'], ['zilliqa'], ['gatetoken'], ['ethereum-pow'], ['curve-dao-token'], ['1inch'], ['xinfin'], ['stacks'], ['casper'], ['loopring'], ['optimism-ethereum'], ['basic-attention-token'], ['enjin-coin'], ['decred'], ['nem'], ['neutrino-usd'], ['wootrade'], ['kava'], ['holo'], ['helium'], ['balancer']]\n"
     ]
    }
   ],
   "source": [
    "criptomonedas = criptomonedas[1:]\n",
    "print(criptomonedas)"
   ]
  },
  {
   "cell_type": "code",
   "execution_count": 66,
   "id": "e64dc756",
   "metadata": {},
   "outputs": [
    {
     "name": "stdout",
     "output_type": "stream",
     "text": [
      "https://coinmarketcap.com/es/?page=1\n",
      "https://coinmarketcap.com/es/?page=2\n",
      "https://coinmarketcap.com/es/?page=3\n",
      "https://coinmarketcap.com/es/?page=4\n",
      "https://coinmarketcap.com/es/?page=5\n",
      "https://coinmarketcap.com/es/?page=6\n",
      "https://coinmarketcap.com/es/?page=7\n",
      "https://coinmarketcap.com/es/?page=8\n",
      "https://coinmarketcap.com/es/?page=9\n",
      "https://coinmarketcap.com/es/?page=10\n"
     ]
    }
   ],
   "source": [
    "url = \"https://coinmarketcap.com/es/?page=1\"\n",
    "listaPaginas = []\n",
    "for i in [1,2,3,4,5,6,7,8,9,10]:\n",
    "    urlListado = url.replace(\"1\", str(i))\n",
    "    listaPaginas.append(urlListado)\n",
    "    print(urlListado)"
   ]
  },
  {
   "cell_type": "code",
   "execution_count": 67,
   "id": "bcbdd296",
   "metadata": {},
   "outputs": [
    {
     "data": {
      "text/plain": [
       "['https://coinmarketcap.com/es/?page=1',\n",
       " 'https://coinmarketcap.com/es/?page=2',\n",
       " 'https://coinmarketcap.com/es/?page=3',\n",
       " 'https://coinmarketcap.com/es/?page=4',\n",
       " 'https://coinmarketcap.com/es/?page=5',\n",
       " 'https://coinmarketcap.com/es/?page=6',\n",
       " 'https://coinmarketcap.com/es/?page=7',\n",
       " 'https://coinmarketcap.com/es/?page=8',\n",
       " 'https://coinmarketcap.com/es/?page=9',\n",
       " 'https://coinmarketcap.com/es/?page=10']"
      ]
     },
     "execution_count": 67,
     "metadata": {},
     "output_type": "execute_result"
    }
   ],
   "source": [
    "listaPaginas"
   ]
  },
  {
   "cell_type": "code",
   "execution_count": 68,
   "id": "879d20f5",
   "metadata": {},
   "outputs": [],
   "source": [
    "#Creamos una funcion para extraer las etiquetas que nos interesan desde las 10 primeras paginas.\n",
    "def conjuntoPaginas(listaPaginas):\n",
    "    \n",
    "    criptos = []\n",
    "    for url in listaPaginas:\n",
    "        resp = requests.get(url)\n",
    "        soup = BeautifulSoup(resp.content, 'html.parser')\n",
    "        links = soup.find_all('a')\n",
    "        for link in links:\n",
    "            if link.has_attr(\"href\"):\n",
    "                if link.get('href')[0:7]==\"/es/cur\":\n",
    "                    criptos.append(link.get(\"href\")) \n",
    "    return criptos"
   ]
  },
  {
   "cell_type": "code",
   "execution_count": 69,
   "id": "1a06e976",
   "metadata": {},
   "outputs": [],
   "source": [
    "criptomonedas2 = conjuntoPaginas(listaPaginas)"
   ]
  },
  {
   "cell_type": "code",
   "execution_count": 70,
   "id": "4a16cf45",
   "metadata": {},
   "outputs": [
    {
     "name": "stdout",
     "output_type": "stream",
     "text": [
      "[[], ['bitcoin'], ['bitcoin'], ['bitcoin'], ['bitcoin'], ['ethereum'], ['ethereum'], ['ethereum'], ['ethereum'], ['tether'], ['tether'], ['tether'], ['tether'], ['bnb'], ['bnb'], ['bnb'], ['bnb'], ['usd-coin'], ['usd-coin'], ['usd-coin'], ['usd-coin'], ['xrp'], ['xrp'], ['xrp'], ['xrp'], ['binance-usd'], ['binance-usd'], ['binance-usd'], ['binance-usd'], ['cardano'], ['cardano'], ['cardano'], ['cardano'], ['dogecoin'], ['dogecoin'], ['dogecoin'], ['dogecoin'], ['polygon'], ['polygon'], ['polygon'], ['polygon'], ['litecoin'], ['multi-collateral-dai'], ['solana'], ['polkadot-new'], ['tron'], ['shiba-inu'], ['uniswap'], ['avalanche'], ['unus-sed-leo'], ['wrapped-bitcoin'], ['cosmos'], ['chainlink'], ['monero'], ['ethereum-classic'], ['toncoin'], ['stellar'], ['bitcoin-cash'], ['apecoin-ape'], ['okb'], ['cronos'], ['lido-dao'], ['quant'], ['algorand'], ['near-protocol'], ['filecoin'], ['vechain'], ['internet-computer'], ['hedera'], ['eos'], ['terra-luna'], ['bitdao'], ['paxos-standard'], ['aave'], ['trueusd'], ['elrond-egld'], ['flow'], ['theta-network'], ['huobi-token'], ['bitcoin-sv'], ['chiliz'], ['tezos'], ['the-sandbox'], ['axie-infinity'], ['decentraland'], ['usdd'], ['kucoin-token'], ['zcash'], ['aptos'], ['fantom'], ['bittorrent-new'], ['gemini-dollar'], ['the-graph'], ['maker'], ['trust-wallet-token'], ['pancakeswap'], ['klaytn'], ['dash'], ['iota'], ['pax-gold'], ['ecash'], ['neo'], ['thorchain'], ['synthetix'], ['fei-usd'], ['mina'], ['nexo'], ['frax-share'], ['osmosis'], ['gmx'], ['immutable-x'], ['zilliqa'], ['gatetoken'], ['ethereum-pow'], ['curve-dao-token'], ['1inch'], ['xinfin'], ['stacks'], ['casper'], ['loopring'], ['basic-attention-token'], ['optimism-ethereum'], ['enjin-coin'], ['decred'], ['neutrino-usd'], ['nem'], ['wootrade'], ['kava'], ['holo'], ['helium'], ['balancer'], [], ['celo'], ['celo'], ['celo'], ['celo'], ['gala'], ['gala'], ['gala'], ['gala'], ['compound'], ['compound'], ['compound'], ['compound'], ['ravencoin'], ['ravencoin'], ['ravencoin'], ['ravencoin'], ['chain'], ['chain'], ['chain'], ['chain'], ['arweave'], ['arweave'], ['arweave'], ['arweave'], ['bitcoin-gold'], ['bitcoin-gold'], ['bitcoin-gold'], ['bitcoin-gold'], ['convex-finance'], ['convex-finance'], ['convex-finance'], ['convex-finance'], ['ethereum-name-service'], ['ethereum-name-service'], ['ethereum-name-service'], ['ethereum-name-service'], ['gnosis-gno'], ['gnosis-gno'], ['gnosis-gno'], ['gnosis-gno'], ['sushiswap'], ['iotex'], ['kusama'], ['oasis-network'], ['theta-fuel'], ['swissborg'], ['qtum'], ['yearn-finance'], ['terrausd'], ['binaryx'], ['kadena'], ['chia-network'], ['golem-network-tokens'], ['terra-luna-v2'], ['symbol'], ['bone-shibaswap'], ['just'], ['ankr'], ['moonbeam'], ['jasmy'], ['green-metaverse-token'], ['mask-network'], ['waves'], ['omg'], ['dogelon'], ['harmony'], ['astar'], ['icon'], ['zel'], ['hive-blockchain'], ['threshold'], ['ontology'], ['fetch'], ['audius'], ['polymath-network'], ['0x'], ['iostoken'], ['amp'], ['reserve-rights'], ['digibyte'], ['ssv-network'], ['ocean-protocol'], ['celsius'], ['siacoin'], ['livepeer'], ['safepal'], ['braintrust'], ['dao-maker'], ['bora'], ['apenft'], ['sxp'], ['rlc'], ['constitutiondao'], ['storj'], ['uma'], ['wax'], ['secret'], ['horizen'], ['render-token'], ['magic-token'], ['nervos-network'], ['voyager-token'], ['injective'], ['skale-network'], ['singularitynet'], ['lisk'], ['abbc-coin'], ['smooth-love-potion'], ['aragon'], ['nano'], ['tribe'], ['energy-web-token'], ['ribbon-finance'], ['vulcan-forged-pyr'], ['request'], ['pundix-new'], ['illuvium'], ['kyber-network-crystal-v2'], ['aelf'], ['mx-token'], ['api3'], ['numeraire'], ['dydx'], ['playdapp'], ['metisdao'], ['medibloc'], ['civic'], ['status'], ['syscoin'], ['chromia'], [], ['wrapped-tron'], ['wrapped-tron'], ['wrapped-tron'], ['wrapped-tron'], ['steth'], ['steth'], ['steth'], ['steth'], ['hex'], ['hex'], ['hex'], ['hex'], ['wbnb'], ['wbnb'], ['wbnb'], ['wbnb'], ['frax'], ['frax'], ['frax'], ['frax'], ['bitcoin-bep2'], ['bitcoin-bep2'], ['bitcoin-bep2'], ['bitcoin-bep2'], ['huobi-btc'], ['huobi-btc'], ['huobi-btc'], ['huobi-btc'], ['bittorrent'], ['bittorrent'], ['bittorrent'], ['bittorrent'], ['tether-gold'], ['tether-gold'], ['tether-gold'], ['tether-gold'], ['ftx-token'], ['ftx-token'], ['ftx-token'], ['ftx-token'], ['radix-protocol'], ['usdj'], ['gensokishis-metaverse'], ['nxm'], ['link'], ['rocket-pool'], ['t-mac-dao'], ['bitget-token-new'], ['defichain'], ['edgecoin'], ['liquity-usd'], ['zeon'], ['locus-chain'], ['lukso'], ['stasis-euro'], ['safe'], ['telcoin'], ['bitrise-token'], ['baby-doge-coin'], ['creditcoin'], ['ergo'], ['venus-usdc'], ['vvs-finance'], ['usdx-kava'], ['anyswap'], ['avinoc'], ['merit-circle'], ['dexe'], ['wemix'], ['mxc'], ['band-protocol'], ['biconomy'], ['ontology-gas'], ['celer-network'], ['looksrare'], ['radicle'], ['kaspa'], ['keep-network'], ['wink'], ['hi-dollar'], ['synapse-2'], ['cartesi'], ['veritaseum'], ['mobox'], ['ardor'], ['humanscape'], ['dent'], ['acala'], ['coti'], ['mobilecoin'], ['mdex'], ['micromines'], ['dkargo'], ['deso'], ['ceek-vr'], ['mvl'], ['pirate-chain'], ['funtoken'], ['steem'], ['persistence'], ['hooked-protocol'], ['renbtc'], ['function-x'], ['world-mobile-token'], ['biswap'], ['nkn'], ['orbs'], ['bifrost'], ['marlin'], ['prom'], ['xyo'], ['shentu'], ['galxe'], ['ren'], ['origintrail'], ['power-ledger'], ['nucypher'], ['rakon'], ['stratis'], ['centrifuge'], ['nest-protocol'], ['cvault-finance'], ['spell-token'], ['sologenic'], ['alpha-finance-lab'], ['axelar'], ['venus'], ['rsk-smart-bitcoin'], ['ampleforth'], ['constellation'], [], ['glitzkoin'], ['glitzkoin'], ['glitzkoin'], ['glitzkoin'], ['radio-caca'], ['radio-caca'], ['radio-caca'], ['radio-caca'], ['milk-alliance'], ['milk-alliance'], ['milk-alliance'], ['milk-alliance'], ['venus-busd'], ['venus-busd'], ['venus-busd'], ['venus-busd'], ['bancor'], ['bancor'], ['bancor'], ['bancor'], ['wazirx'], ['wazirx'], ['wazirx'], ['wazirx'], ['ultra'], ['ultra'], ['ultra'], ['ultra'], ['iq'], ['iq'], ['iq'], ['iq'], ['everscale'], ['everscale'], ['everscale'], ['everscale'], ['vethor-token'], ['vethor-token'], ['vethor-token'], ['vethor-token'], ['augur'], ['vai'], ['orbit-chain'], ['hashflow'], ['insure'], ['phala-network'], ['wrapped-everscale'], ['mainframe'], ['richquack-com'], ['uquid-coin'], ['reef'], ['polymesh'], ['krypton-dao'], ['velas'], ['liquity'], ['stargate-finance'], ['dero'], ['quarkchain'], ['maidsafecoin'], ['metal'], ['wrapped-velas'], ['myneighboralice'], ['loom-network'], ['conflux-network'], ['susd'], ['star-atlas-polis'], ['standard-tokenization-protocol'], ['clash-of-lilliput'], ['origin-protocol'], ['axel'], ['joe'], ['orchid'], ['serum'], ['beta-finance'], ['marblex'], ['revain'], ['yearn-finance-ii'], ['sun-token'], ['origin-dollar'], ['xsgd'], ['morpheus-network'], ['adshares'], ['verge'], ['alien-worlds'], ['ampleforth-governance-token'], ['terran-coin'], ['concordium'], ['saitama-inu-new'], ['aavegotchi'], ['ark'], ['cocos-bcx'], ['chrono-tech'], ['rsk-infrastructure-framework'], ['dodo'], ['dawn-protocol'], ['onus'], ['celo-dollar'], ['strike'], ['efinity'], ['aergo'], ['chainbing'], ['seedify-fund'], ['utrust'], ['battle-world'], ['lcx'], ['alchemy-pay'], ['stormx'], ['mstable-usd'], ['cortex'], ['mines-of-dalarnia'], ['rally'], ['enzyme'], ['ankreth'], ['somesing'], ['smartofgiving'], ['moonriver'], ['badger-dao'], ['divi'], ['bitmax-token'], ['perpetual-protocol'], ['volt-inu-v2'], ['moviebloc'], ['rss3'], ['whitecoin'], ['coin98'], ['metadium'], ['dusk-network'], ['meter-governance'], ['xcad-network'], ['wirex-token'], [], ['vegaprotocol'], ['vegaprotocol'], ['vegaprotocol'], ['vegaprotocol'], ['cobak-token'], ['cobak-token'], ['cobak-token'], ['cobak-token'], ['yield-guild-games'], ['yield-guild-games'], ['yield-guild-games'], ['yield-guild-games'], ['polkastarter'], ['polkastarter'], ['polkastarter'], ['polkastarter'], ['defi-pulse-index'], ['defi-pulse-index'], ['defi-pulse-index'], ['defi-pulse-index'], ['alpaca-finance'], ['alpaca-finance'], ['alpaca-finance'], ['alpaca-finance'], ['ufo-gaming'], ['ufo-gaming'], ['ufo-gaming'], ['ufo-gaming'], ['superfarm'], ['superfarm'], ['superfarm'], ['superfarm'], ['electroneum'], ['electroneum'], ['electroneum'], ['electroneum'], ['arpa-chain'], ['arpa-chain'], ['arpa-chain'], ['arpa-chain'], ['conun'], ['gods-unchained'], ['platon'], ['bloktopia'], ['alethea-artificial-liquid-intelligence-token'], ['thundercore'], ['wanchain'], ['superrare'], ['metars-genesis'], ['venus-usdt'], ['automata-network'], ['gamefi'], ['hedgetrade'], ['ramp'], ['boba-network'], ['coinex-token'], ['gxchain'], ['litentry'], ['propy'], ['cult-dao'], ['star-atlas'], ['kiltprotocol'], ['travala'], ['defigram'], ['veruscoin'], ['lto-network'], ['beefy-finance'], ['telos'], ['neblio'], ['reserve'], ['husd'], ['usdk'], ['tokocrypto'], ['yooshi'], ['ethernity-chain'], ['wrapped-kardiachain'], ['komodo'], ['bakerytoken'], ['truefi-token'], ['lazio-fan-token'], ['coinpoker'], ['terra-virtua-kolect'], ['league-of-kingdoms'], ['nvirworld'], ['star-link'], ['groestlcoin'], ['deapcoin'], ['keep3rv1'], ['barnbridge'], ['dia'], ['bitshares'], ['kardiachain'], ['orion-protocol'], ['euro-coin'], ['syntropy'], ['covalent'], ['hunt'], ['firmachain'], ['idex'], ['forta'], ['steem-dollars'], ['verasity'], ['raydium'], ['tomochain'], ['h2o-dao'], ['metacraft'], ['gomining-token'], ['radix'], ['celo-euro'], ['unibright'], ['phoenix-global-new'], ['lever'], ['wrapped-nxm'], ['qredo'], ['bounce-token'], ['linear'], ['stafi'], ['rarible'], ['flamingo'], ['hillstone'], ['bytom'], ['aeternity'], ['alchemix'], ['ichi'], ['dxdao'], ['quickswap'], ['efforce'], ['sonm-bep20'], ['alpine-f1-team-fan-token'], ['clover'], [], ['sonm-bep20'], ['sonm-bep20'], ['sonm-bep20'], ['sonm-bep20'], ['rai-finance-sofi'], ['rai-finance-sofi'], ['rai-finance-sofi'], ['rai-finance-sofi'], ['akash-network'], ['akash-network'], ['akash-network'], ['akash-network'], ['tokenlon-network-token'], ['tokenlon-network-token'], ['tokenlon-network-token'], ['tokenlon-network-token'], ['monacoin'], ['monacoin'], ['monacoin'], ['monacoin'], ['sweat-economy'], ['sweat-economy'], ['sweat-economy'], ['sweat-economy'], ['carry'], ['carry'], ['carry'], ['carry'], ['choise'], ['choise'], ['choise'], ['choise'], ['maple'], ['maple'], ['maple'], ['maple'], ['dego-finance'], ['dego-finance'], ['dego-finance'], ['dego-finance'], ['sentinel-protocol'], ['moss-coin'], ['xmon'], ['freeway-token'], ['vidt-dao'], ['kunci-coin'], ['paris-saint-germain-fan-token'], ['router-protocol'], ['tellor'], ['benqi'], ['santos-fc-fan-token'], ['gas'], ['refereum'], ['rei-network'], ['aurora-near'], ['astrafer'], ['harvest-finance'], ['ellipsis'], ['ultiledger'], ['troy'], ['cream-finance'], ['klever'], ['aioz-network'], ['proton'], ['splintershards'], ['fc-porto'], ['fc-barcelona-fan-token'], ['nuls'], ['gyen'], ['contentos'], ['boson-protocol'], ['alpha-quark-token'], ['fio-protocol'], ['qlink'], ['ethereum-swarm'], ['bella-protocol'], ['gifto'], ['bitcoin-diamond'], ['stream-coin'], ['tokenpocket'], ['hard-protocol'], ['firo'], ['irisnet'], ['centrality'], ['gitcoin'], ['unifi-protocol-dao'], ['onbuff'], ['saito'], ['ellipsis-epx'], ['adventure-gold'], ['hermez-network'], ['metahero'], ['shiden-network'], ['fusion'], ['petals'], ['terra-krw'], ['venus-xvs'], ['trustswap'], ['mango-markets'], ['bitcicoin'], ['manchester-city-fan-token'], ['guild-of-guardians'], ['streamr'], ['tranchess'], ['vite'], ['vectorspace-ai'], ['rmrk'], ['bluzelle'], ['elitium'], ['pluton'], ['pivx'], ['phantasma'], ['burger-cities'], ['mantra'], ['degate'], ['map-protocol'], ['elastos'], ['adx-net'], ['mint-marble'], ['kleros'], ['dforce'], ['chimpion'], ['haven-protocol'], ['wing'], ['circuits-of-value'], ['ahatoken'], ['aleph-im'], ['frontier'], ['airdao'], ['pitbull'], [], ['parsiq'], ['parsiq'], ['parsiq'], ['parsiq'], ['selfkey'], ['selfkey'], ['selfkey'], ['selfkey'], ['presearch'], ['presearch'], ['presearch'], ['presearch'], ['meverse'], ['meverse'], ['meverse'], ['meverse'], ['voxies'], ['voxies'], ['voxies'], ['voxies'], ['waltonchain'], ['waltonchain'], ['waltonchain'], ['waltonchain'], ['nestree'], ['nestree'], ['nestree'], ['nestree'], ['airswap'], ['airswap'], ['airswap'], ['airswap'], ['hegic'], ['hegic'], ['hegic'], ['hegic'], ['bitmart-token'], ['bitmart-token'], ['bitmart-token'], ['bitmart-token'], ['cratos'], ['latoken'], ['tokemak'], ['measurable-data-token'], ['namecoin'], ['six'], ['opendao'], ['drep-new'], ['deversifi'], ['impt'], ['dora-factory'], ['dextools'], ['hyperdao'], ['amo-coin'], ['beam'], ['coinloan'], ['viberate'], ['aion'], ['bonfida'], ['binance-idr'], ['yield-app'], ['metronome'], ['singularitydao'], ['samoyedcoin'], ['ooki-protocol'], ['uncx'], ['milc-platform'], ['maro'], ['apm-coin'], ['handshake'], ['galatasaray-fan-token'], ['goldfinch-protocol'], ['kin'], ['karura'], ['decentral-games'], ['spookyswap'], ['hapi-one'], ['valobit'], ['polkadex'], ['dxchain-token'], ['akropolis'], ['dock'], ['student-coin'], ['prosper'], ['allianceblock'], ['obyte'], ['arsenal-fan-token'], ['bitball-treasure'], ['stratos'], ['hydra'], ['auto'], ['solend'], ['get-protocol'], ['clearpool'], ['hopr'], ['apollox'], ['anchor-protocol'], ['bosagora'], ['math'], ['dad'], ['mixmarvel'], ['fox-token'], ['gari'], ['derace'], ['unification'], ['rizon-blockchain'], ['apeswap-finance'], ['nimiq'], ['bloomzed-token'], ['shiba-predator'], ['hathor'], ['zenon'], ['energi'], ['urus'], ['bitkan'], ['era-swap'], ['oax'], ['solve'], ['assemble-protocol'], ['keystone-of-opportunity-knowledge'], ['district0x'], ['wabi'], ['super-zero-protocol'], ['highstreet'], ['everrise'], ['senso'], ['polyswarm'], ['alitas'], ['pendle'], ['the-force-protocol'], [], ['galaxia'], ['galaxia'], ['galaxia'], ['galaxia'], ['apollo-currency'], ['apollo-currency'], ['apollo-currency'], ['apollo-currency'], ['ac-milan-fan-token'], ['ac-milan-fan-token'], ['ac-milan-fan-token'], ['ac-milan-fan-token'], ['switcheo'], ['switcheo'], ['switcheo'], ['switcheo'], ['arcblock'], ['arcblock'], ['arcblock'], ['arcblock'], ['green-satoshi-token'], ['green-satoshi-token'], ['green-satoshi-token'], ['green-satoshi-token'], ['oxen'], ['oxen'], ['oxen'], ['oxen'], ['vertcoin'], ['vertcoin'], ['vertcoin'], ['vertcoin'], ['cere-network'], ['cere-network'], ['cere-network'], ['cere-network'], ['peercoin'], ['peercoin'], ['peercoin'], ['peercoin'], ['btc-standard-hashrate-token'], ['mirror-protocol'], ['kryll'], ['particl'], ['callisto-network'], ['quantstamp'], ['juventus-fan-token'], ['btse'], ['pintu-token'], ['velo'], ['king-dag'], ['opulous'], ['deeper-network'], ['erc20'], ['unilend'], ['te-food'], ['govi'], ['the-transfer-token'], ['powerpool'], ['cryptex-finance'], ['zkswap'], ['0chain'], ['somnium-space-cubes'], ['mimblewimblecoin'], ['babyswap'], ['rai'], ['grin'], ['pnetwork'], ['mancium'], ['hoge-finance'], ['mileverse'], ['crpt'], ['suku'], ['dacxi'], ['1eco'], ['keeperdao'], ['rupiah-token'], ['shping'], ['offshift'], ['derivadao'], ['gelato'], ['nakamoto-games'], ['adappter-token'], ['xenioscoin'], ['marinade'], ['pallapay'], ['unisocks'], ['quantum-resistant-ledger'], ['meta-apes-peel'], ['lossless'], ['polkafoundry'], ['stader'], ['xdefi-wallet'], ['nftx'], ['innovative-bioresearch-coin'], ['epns'], ['cajutel'], ['basic'], ['grid'], ['redd'], ['gochain'], ['dvision-network'], ['receive-access-ecosystem'], ['cudos'], ['thetan-arena'], ['prizm'], ['vita-inu'], ['bitcoin2'], ['newscrypto'], ['redfox-labs'], ['lattice-token'], ['hackenai'], ['magiccraft'], ['wrapped-ncg'], ['inflation-hedging-coin'], ['monero-classic'], ['newyork-exchange'], ['whale'], ['banano'], ['findora'], ['electra-protocol'], ['fast-access-blockchain'], ['inter-milan-fan-token'], ['aventus'], ['mcdex'], ['cryptofranc'], ['invictus-hyperion-fund'], ['zebec-protocol'], ['nexus'], ['civilization'], [], ['civilization'], ['civilization'], ['civilization'], ['civilization'], ['numbers-protocol'], ['numbers-protocol'], ['numbers-protocol'], ['numbers-protocol'], ['digitalbits'], ['digitalbits'], ['digitalbits'], ['digitalbits'], ['oraichain-token'], ['oraichain-token'], ['oraichain-token'], ['oraichain-token'], ['qash'], ['qash'], ['qash'], ['qash'], ['scallop'], ['scallop'], ['scallop'], ['scallop'], ['atletico-de-madrid-fan-token'], ['atletico-de-madrid-fan-token'], ['atletico-de-madrid-fan-token'], ['atletico-de-madrid-fan-token'], ['waykichain'], ['waykichain'], ['waykichain'], ['waykichain'], ['position-exchange'], ['position-exchange'], ['position-exchange'], ['position-exchange'], ['perlin'], ['perlin'], ['perlin'], ['perlin'], ['bscpad'], ['zynecoin'], ['proximax'], ['epic-cash'], ['venus-ltc'], ['counterparty'], ['asta'], ['library-credits'], ['bitforex-token'], ['arianee-protocol'], ['bepro-network'], ['biopassport-token'], ['buying-com'], ['emirex-token'], ['vimworld'], ['diamond'], ['gocrypto-token'], ['shopnext-loyalty-token'], ['altura'], ['safe-deal'], ['validity'], ['napoli-fan-token'], ['ovr'], ['permission-coin'], ['titanswap'], ['fruits-eco'], ['vibing'], ['chainge'], ['swash'], ['insights-network'], ['dimecoin'], ['niobium-coin'], ['hiblocks'], ['venus-reward-token'], ['across-protocol'], ['crustnetwork'], ['temco'], ['bux-token'], ['sperax'], ['scprime'], ['bigone-token'], ['deepbrain-chain'], ['retreeb'], ['pkt'], ['neutrino-system-base-token'], ['venus-dai'], ['nunet'], ['cropbytes'], ['sora'], ['observer'], ['chainx'], ['peakdefi'], ['blockv'], ['carbon-credit'], ['as-roma-fan-token'], ['masq'], ['atomic-wallet-coin'], ['aurory'], ['quadrantprotocol'], ['darwinia-network'], ['probit-token'], ['reapchain'], ['quiztok'], ['pangolin'], ['argentinefootballassociationfantoken'], ['ternoa'], ['mysterium'], ['gulf-coin'], ['electric-vehicle-zone'], ['rainicorn'], ['matrix-ai-network'], ['wombat-exchange'], ['memetic'], ['elysia'], ['molecular-future'], ['bridge-oracle'], ['sovryn'], ['sylo'], ['digixdao'], ['bitcountry-neer'], ['soda-coin'], ['ariva'], ['red-token'], ['calamari-network'], ['shiryo-inu'], ['project-seed'], ['unicly-cryptopunks-collection'], ['gridcoin'], ['jupiter'], ['tokenomy'], [], ['poa'], ['poa'], ['poa'], ['poa'], ['bytecoin-bcn'], ['bytecoin-bcn'], ['bytecoin-bcn'], ['bytecoin-bcn'], ['shyft-network'], ['shyft-network'], ['shyft-network'], ['shyft-network'], ['poolz-finance'], ['poolz-finance'], ['poolz-finance'], ['poolz-finance'], ['infinity-pad'], ['infinity-pad'], ['infinity-pad'], ['utopia'], ['utopia'], ['utopia'], ['utopia'], ['foam'], ['foam'], ['foam'], ['foam'], ['town-star'], ['town-star'], ['town-star'], ['town-star'], ['zano'], ['zano'], ['zano'], ['zano'], ['rocket-vault-rocketx'], ['rocket-vault-rocketx'], ['rocket-vault-rocketx'], ['rocket-vault-rocketx'], ['epik-prime'], ['gameswap'], ['polaris-share'], ['bondly'], ['victoria-vr'], ['trabzonspor-fan-token'], ['cellframe'], ['exeedme'], ['weway'], ['swftcoin'], ['signum'], ['ignis'], ['rari-governance-token'], ['cashaa'], ['nash'], ['torn'], ['1irstcoin'], ['dogebonk'], ['taboo-token'], ['xdai'], ['factom'], ['og-fan-token'], ['defi-yield-protocol'], ['dfyn-network'], ['mandox-v2'], ['diamond-launch'], ['monavale'], ['xaya'], ['qatar-2022-token'], ['mintme-com-coin'], ['bitcny'], ['kambria'], ['gamercoin'], ['tokpie'], ['dragonchain'], ['vempire-ddao'], ['woonkly-power'], ['nft-worlds'], ['meetone'], ['ilcoin'], ['sentinel'], ['multivac'], ['vidya'], ['fenerbahce-token'], ['defi-land'], ['guildfi'], ['chain-guardians'], ['kromatika'], ['axis-token'], ['animalgo'], ['everest'], ['polkamarkets'], ['project-with'], ['venus-link'], ['1world'], ['bitrue-coin'], ['peardao'], ['stat'], ['gamium'], ['trustverse'], ['hypercash'], ['tomtomcoin'], ['cardstack'], ['zimbocash'], ['sidus'], ['saffron-finance'], ['inverse-finance'], ['santiment'], ['cache-gold'], ['label-foundation'], ['pstake-finance'], ['tnc-coin'], ['valor-token'], ['monkeyball'], ['fuse-network'], ['kasta'], ['strikecoin'], ['newton'], ['nav-coin'], ['now-token'], ['tifi-token'], ['sharetoken'], ['bnktothefuture'], ['cumrocket'], ['kylin'], ['populous'], ['nxt'], ['mobius'], ['atari-token'], ['linker-coin']]\n",
      "1309\n"
     ]
    }
   ],
   "source": [
    "# Hacemos un for para que nos separe el nombre de las criptomonedas de lo demas.\n",
    "MilCriptoMonedas = []\n",
    "for cripto in criptomonedas2:\n",
    "    c = re.findall(\"currencies/(.+?)/\", cripto)\n",
    "    MilCriptoMonedas.append(c)\n",
    "print(MilCriptoMonedas)\n",
    "print(len(MilCriptoMonedas))"
   ]
  },
  {
   "cell_type": "code",
   "execution_count": 71,
   "id": "8d2a8002",
   "metadata": {},
   "outputs": [
    {
     "name": "stdout",
     "output_type": "stream",
     "text": [
      "[['bitcoin'], ['ethereum'], ['tether'], ['bnb'], ['usd-coin'], ['xrp'], ['binance-usd'], ['cardano'], ['dogecoin'], ['polygon'], ['litecoin'], ['multi-collateral-dai'], ['solana'], ['polkadot-new'], ['tron'], ['shiba-inu'], ['uniswap'], ['avalanche'], ['unus-sed-leo'], ['wrapped-bitcoin'], ['cosmos'], ['chainlink'], ['monero'], ['ethereum-classic'], ['toncoin'], ['stellar'], ['bitcoin-cash'], ['apecoin-ape'], ['okb'], ['cronos'], ['lido-dao'], ['quant'], ['algorand'], ['near-protocol'], ['filecoin'], ['vechain'], ['internet-computer'], ['hedera'], ['eos'], ['terra-luna'], ['bitdao'], ['paxos-standard'], ['aave'], ['trueusd'], ['elrond-egld'], ['flow'], ['theta-network'], ['huobi-token'], ['bitcoin-sv'], ['chiliz'], ['tezos'], ['the-sandbox'], ['axie-infinity'], ['decentraland'], ['usdd'], ['kucoin-token'], ['zcash'], ['aptos'], ['fantom'], ['bittorrent-new'], ['gemini-dollar'], ['the-graph'], ['maker'], ['trust-wallet-token'], ['pancakeswap'], ['klaytn'], ['dash'], ['iota'], ['pax-gold'], ['ecash'], ['neo'], ['thorchain'], ['synthetix'], ['fei-usd'], ['mina'], ['nexo'], ['frax-share'], ['osmosis'], ['gmx'], ['immutable-x'], ['zilliqa'], ['gatetoken'], ['ethereum-pow'], ['curve-dao-token'], ['1inch'], ['xinfin'], ['stacks'], ['casper'], ['loopring'], ['basic-attention-token'], ['optimism-ethereum'], ['enjin-coin'], ['decred'], ['neutrino-usd'], ['nem'], ['wootrade'], ['kava'], ['holo'], ['helium'], ['balancer'], ['celo'], ['gala'], ['compound'], ['ravencoin'], ['chain'], ['arweave'], ['bitcoin-gold'], ['convex-finance'], ['ethereum-name-service'], ['gnosis-gno'], ['sushiswap'], ['iotex'], ['kusama'], ['oasis-network'], ['theta-fuel'], ['swissborg'], ['qtum'], ['yearn-finance'], ['terrausd'], ['binaryx'], ['kadena'], ['chia-network'], ['golem-network-tokens'], ['terra-luna-v2'], ['symbol'], ['bone-shibaswap'], ['just'], ['ankr'], ['moonbeam'], ['jasmy'], ['green-metaverse-token'], ['mask-network'], ['waves'], ['omg'], ['dogelon'], ['harmony'], ['astar'], ['icon'], ['zel'], ['hive-blockchain'], ['threshold'], ['ontology'], ['fetch'], ['audius'], ['polymath-network'], ['0x'], ['iostoken'], ['amp'], ['reserve-rights'], ['digibyte'], ['ssv-network'], ['ocean-protocol'], ['celsius'], ['siacoin'], ['livepeer'], ['safepal'], ['braintrust'], ['dao-maker'], ['bora'], ['apenft'], ['sxp'], ['rlc'], ['constitutiondao'], ['storj'], ['uma'], ['wax'], ['secret'], ['horizen'], ['render-token'], ['magic-token'], ['nervos-network'], ['voyager-token'], ['injective'], ['skale-network'], ['singularitynet'], ['lisk'], ['abbc-coin'], ['smooth-love-potion'], ['aragon'], ['nano'], ['tribe'], ['energy-web-token'], ['ribbon-finance'], ['vulcan-forged-pyr'], ['request'], ['pundix-new'], ['illuvium'], ['kyber-network-crystal-v2'], ['aelf'], ['mx-token'], ['api3'], ['numeraire'], ['dydx'], ['playdapp'], ['metisdao'], ['medibloc'], ['civic'], ['status'], ['syscoin'], ['chromia'], ['wrapped-tron'], ['steth'], ['hex'], ['wbnb'], ['frax'], ['bitcoin-bep2'], ['huobi-btc'], ['bittorrent'], ['tether-gold'], ['ftx-token'], ['radix-protocol'], ['usdj'], ['gensokishis-metaverse'], ['nxm'], ['link'], ['rocket-pool'], ['t-mac-dao'], ['bitget-token-new'], ['defichain'], ['edgecoin'], ['liquity-usd'], ['zeon'], ['locus-chain'], ['lukso'], ['stasis-euro'], ['safe'], ['telcoin'], ['bitrise-token'], ['baby-doge-coin'], ['creditcoin'], ['ergo'], ['venus-usdc'], ['vvs-finance'], ['usdx-kava'], ['anyswap'], ['avinoc'], ['merit-circle'], ['dexe'], ['wemix'], ['mxc'], ['band-protocol'], ['biconomy'], ['ontology-gas'], ['celer-network'], ['looksrare'], ['radicle'], ['kaspa'], ['keep-network'], ['wink'], ['hi-dollar'], ['synapse-2'], ['cartesi'], ['veritaseum'], ['mobox'], ['ardor'], ['humanscape'], ['dent'], ['acala'], ['coti'], ['mobilecoin'], ['mdex'], ['micromines'], ['dkargo'], ['deso'], ['ceek-vr'], ['mvl'], ['pirate-chain'], ['funtoken'], ['steem'], ['persistence'], ['hooked-protocol'], ['renbtc'], ['function-x'], ['world-mobile-token'], ['biswap'], ['nkn'], ['orbs'], ['bifrost'], ['marlin'], ['prom'], ['xyo'], ['shentu'], ['galxe'], ['ren'], ['origintrail'], ['power-ledger'], ['nucypher'], ['rakon'], ['stratis'], ['centrifuge'], ['nest-protocol'], ['cvault-finance'], ['spell-token'], ['sologenic'], ['alpha-finance-lab'], ['axelar'], ['venus'], ['rsk-smart-bitcoin'], ['ampleforth'], ['constellation'], ['glitzkoin'], ['radio-caca'], ['milk-alliance'], ['venus-busd'], ['bancor'], ['wazirx'], ['ultra'], ['iq'], ['everscale'], ['vethor-token'], ['augur'], ['vai'], ['orbit-chain'], ['hashflow'], ['insure'], ['phala-network'], ['wrapped-everscale'], ['mainframe'], ['richquack-com'], ['uquid-coin'], ['reef'], ['polymesh'], ['krypton-dao'], ['velas'], ['liquity'], ['stargate-finance'], ['dero'], ['quarkchain'], ['maidsafecoin'], ['metal'], ['wrapped-velas'], ['myneighboralice'], ['loom-network'], ['conflux-network'], ['susd'], ['star-atlas-polis'], ['standard-tokenization-protocol'], ['clash-of-lilliput'], ['origin-protocol'], ['axel'], ['joe'], ['orchid'], ['serum'], ['beta-finance'], ['marblex'], ['revain'], ['yearn-finance-ii'], ['sun-token'], ['origin-dollar'], ['xsgd'], ['morpheus-network'], ['adshares'], ['verge'], ['alien-worlds'], ['ampleforth-governance-token'], ['terran-coin'], ['concordium'], ['saitama-inu-new'], ['aavegotchi'], ['ark'], ['cocos-bcx'], ['chrono-tech'], ['rsk-infrastructure-framework'], ['dodo'], ['dawn-protocol'], ['onus'], ['celo-dollar'], ['strike'], ['efinity'], ['aergo'], ['chainbing'], ['seedify-fund'], ['utrust'], ['battle-world'], ['lcx'], ['alchemy-pay'], ['stormx'], ['mstable-usd'], ['cortex'], ['mines-of-dalarnia'], ['rally'], ['enzyme'], ['ankreth'], ['somesing'], ['smartofgiving'], ['moonriver'], ['badger-dao'], ['divi'], ['bitmax-token'], ['perpetual-protocol'], ['volt-inu-v2'], ['moviebloc'], ['rss3'], ['whitecoin'], ['coin98'], ['metadium'], ['dusk-network'], ['meter-governance'], ['xcad-network'], ['wirex-token'], ['vegaprotocol'], ['cobak-token'], ['yield-guild-games'], ['polkastarter'], ['defi-pulse-index'], ['alpaca-finance'], ['ufo-gaming'], ['superfarm'], ['electroneum'], ['arpa-chain'], ['conun'], ['gods-unchained'], ['platon'], ['bloktopia'], ['alethea-artificial-liquid-intelligence-token'], ['thundercore'], ['wanchain'], ['superrare'], ['metars-genesis'], ['venus-usdt'], ['automata-network'], ['gamefi'], ['hedgetrade'], ['ramp'], ['boba-network'], ['coinex-token'], ['gxchain'], ['litentry'], ['propy'], ['cult-dao'], ['star-atlas'], ['kiltprotocol'], ['travala'], ['defigram'], ['veruscoin'], ['lto-network'], ['beefy-finance'], ['telos'], ['neblio'], ['reserve'], ['husd'], ['usdk'], ['tokocrypto'], ['yooshi'], ['ethernity-chain'], ['wrapped-kardiachain'], ['komodo'], ['bakerytoken'], ['truefi-token'], ['lazio-fan-token'], ['coinpoker'], ['terra-virtua-kolect'], ['league-of-kingdoms'], ['nvirworld'], ['star-link'], ['groestlcoin'], ['deapcoin'], ['keep3rv1'], ['barnbridge'], ['dia'], ['bitshares'], ['kardiachain'], ['orion-protocol'], ['euro-coin'], ['syntropy'], ['covalent'], ['hunt'], ['firmachain'], ['idex'], ['forta'], ['steem-dollars'], ['verasity'], ['raydium'], ['tomochain'], ['h2o-dao'], ['metacraft'], ['gomining-token'], ['radix'], ['celo-euro'], ['unibright'], ['phoenix-global-new'], ['lever'], ['wrapped-nxm'], ['qredo'], ['bounce-token'], ['linear'], ['stafi'], ['rarible'], ['flamingo'], ['hillstone'], ['bytom'], ['aeternity'], ['alchemix'], ['ichi'], ['dxdao'], ['quickswap'], ['efforce'], ['sonm-bep20'], ['alpine-f1-team-fan-token'], ['clover'], ['rai-finance-sofi'], ['akash-network'], ['tokenlon-network-token'], ['monacoin'], ['sweat-economy'], ['carry'], ['choise'], ['maple'], ['dego-finance'], ['sentinel-protocol'], ['moss-coin'], ['xmon'], ['freeway-token'], ['vidt-dao'], ['kunci-coin'], ['paris-saint-germain-fan-token'], ['router-protocol'], ['tellor'], ['benqi'], ['santos-fc-fan-token'], ['gas'], ['refereum'], ['rei-network'], ['aurora-near'], ['astrafer'], ['harvest-finance'], ['ellipsis'], ['ultiledger'], ['troy'], ['cream-finance'], ['klever'], ['aioz-network'], ['proton'], ['splintershards'], ['fc-porto'], ['fc-barcelona-fan-token'], ['nuls'], ['gyen'], ['contentos'], ['boson-protocol'], ['alpha-quark-token'], ['fio-protocol'], ['qlink'], ['ethereum-swarm'], ['bella-protocol'], ['gifto'], ['bitcoin-diamond'], ['stream-coin'], ['tokenpocket'], ['hard-protocol'], ['firo'], ['irisnet'], ['centrality'], ['gitcoin'], ['unifi-protocol-dao'], ['onbuff'], ['saito'], ['ellipsis-epx'], ['adventure-gold'], ['hermez-network'], ['metahero'], ['shiden-network'], ['fusion'], ['petals'], ['terra-krw'], ['venus-xvs'], ['trustswap'], ['mango-markets'], ['bitcicoin'], ['manchester-city-fan-token'], ['guild-of-guardians'], ['streamr'], ['tranchess'], ['vite'], ['vectorspace-ai'], ['rmrk'], ['bluzelle'], ['elitium'], ['pluton'], ['pivx'], ['phantasma'], ['burger-cities'], ['mantra'], ['degate'], ['map-protocol'], ['elastos'], ['adx-net'], ['mint-marble'], ['kleros'], ['dforce'], ['chimpion'], ['haven-protocol'], ['wing'], ['circuits-of-value'], ['ahatoken'], ['aleph-im'], ['frontier'], ['airdao'], ['pitbull'], ['parsiq'], ['selfkey'], ['presearch'], ['meverse'], ['voxies'], ['waltonchain'], ['nestree'], ['airswap'], ['hegic'], ['bitmart-token'], ['cratos'], ['latoken'], ['tokemak'], ['measurable-data-token'], ['namecoin'], ['six'], ['opendao'], ['drep-new'], ['deversifi'], ['impt'], ['dora-factory'], ['dextools'], ['hyperdao'], ['amo-coin'], ['beam'], ['coinloan'], ['viberate'], ['aion'], ['bonfida'], ['binance-idr'], ['yield-app'], ['metronome'], ['singularitydao'], ['samoyedcoin'], ['ooki-protocol'], ['uncx'], ['milc-platform'], ['maro'], ['apm-coin'], ['handshake'], ['galatasaray-fan-token'], ['goldfinch-protocol'], ['kin'], ['karura'], ['decentral-games'], ['spookyswap'], ['hapi-one'], ['valobit'], ['polkadex'], ['dxchain-token'], ['akropolis'], ['dock'], ['student-coin'], ['prosper'], ['allianceblock'], ['obyte'], ['arsenal-fan-token'], ['bitball-treasure'], ['stratos'], ['hydra'], ['auto'], ['solend'], ['get-protocol'], ['clearpool'], ['hopr'], ['apollox'], ['anchor-protocol'], ['bosagora'], ['math'], ['dad'], ['mixmarvel'], ['fox-token'], ['gari'], ['derace'], ['unification'], ['rizon-blockchain'], ['apeswap-finance'], ['nimiq'], ['bloomzed-token'], ['shiba-predator'], ['hathor'], ['zenon'], ['energi'], ['urus'], ['bitkan'], ['era-swap'], ['oax'], ['solve'], ['assemble-protocol'], ['keystone-of-opportunity-knowledge'], ['district0x'], ['wabi'], ['super-zero-protocol'], ['highstreet'], ['everrise'], ['senso'], ['polyswarm'], ['alitas'], ['pendle'], ['the-force-protocol'], ['galaxia'], ['apollo-currency'], ['ac-milan-fan-token'], ['switcheo'], ['arcblock'], ['green-satoshi-token'], ['oxen'], ['vertcoin'], ['cere-network'], ['peercoin'], ['btc-standard-hashrate-token'], ['mirror-protocol'], ['kryll'], ['particl'], ['callisto-network'], ['quantstamp'], ['juventus-fan-token'], ['btse'], ['pintu-token'], ['velo'], ['king-dag'], ['opulous'], ['deeper-network'], ['erc20'], ['unilend'], ['te-food'], ['govi'], ['the-transfer-token'], ['powerpool'], ['cryptex-finance'], ['zkswap'], ['0chain'], ['somnium-space-cubes'], ['mimblewimblecoin'], ['babyswap'], ['rai'], ['grin'], ['pnetwork'], ['mancium'], ['hoge-finance'], ['mileverse'], ['crpt'], ['suku'], ['dacxi'], ['1eco'], ['keeperdao'], ['rupiah-token'], ['shping'], ['offshift'], ['derivadao'], ['gelato'], ['nakamoto-games'], ['adappter-token'], ['xenioscoin'], ['marinade'], ['pallapay'], ['unisocks'], ['quantum-resistant-ledger'], ['meta-apes-peel'], ['lossless'], ['polkafoundry'], ['stader'], ['xdefi-wallet'], ['nftx'], ['innovative-bioresearch-coin'], ['epns'], ['cajutel'], ['basic'], ['grid'], ['redd'], ['gochain'], ['dvision-network'], ['receive-access-ecosystem'], ['cudos'], ['thetan-arena'], ['prizm'], ['vita-inu'], ['bitcoin2'], ['newscrypto'], ['redfox-labs'], ['lattice-token'], ['hackenai'], ['magiccraft'], ['wrapped-ncg'], ['inflation-hedging-coin'], ['monero-classic'], ['newyork-exchange'], ['whale'], ['banano'], ['findora'], ['electra-protocol'], ['fast-access-blockchain'], ['inter-milan-fan-token'], ['aventus'], ['mcdex'], ['cryptofranc'], ['invictus-hyperion-fund'], ['zebec-protocol'], ['nexus'], ['civilization'], ['numbers-protocol'], ['digitalbits'], ['oraichain-token'], ['qash'], ['scallop'], ['atletico-de-madrid-fan-token'], ['waykichain'], ['position-exchange'], ['perlin'], ['bscpad'], ['zynecoin'], ['proximax'], ['epic-cash'], ['venus-ltc'], ['counterparty'], ['asta'], ['library-credits'], ['bitforex-token'], ['arianee-protocol'], ['bepro-network'], ['biopassport-token'], ['buying-com'], ['emirex-token'], ['vimworld'], ['diamond'], ['gocrypto-token'], ['shopnext-loyalty-token'], ['altura'], ['safe-deal'], ['validity'], ['napoli-fan-token'], ['ovr'], ['permission-coin'], ['titanswap'], ['fruits-eco'], ['vibing'], ['chainge'], ['swash'], ['insights-network'], ['dimecoin'], ['niobium-coin'], ['hiblocks'], ['venus-reward-token'], ['across-protocol'], ['crustnetwork'], ['temco'], ['bux-token'], ['sperax'], ['scprime'], ['bigone-token'], ['deepbrain-chain'], ['retreeb'], ['pkt'], ['neutrino-system-base-token'], ['venus-dai'], ['nunet'], ['cropbytes'], ['sora'], ['observer'], ['chainx'], ['peakdefi'], ['blockv'], ['carbon-credit'], ['as-roma-fan-token'], ['masq'], ['atomic-wallet-coin'], ['aurory'], ['quadrantprotocol'], ['darwinia-network'], ['probit-token'], ['reapchain'], ['quiztok'], ['pangolin'], ['argentinefootballassociationfantoken'], ['ternoa'], ['mysterium'], ['gulf-coin'], ['electric-vehicle-zone'], ['rainicorn'], ['matrix-ai-network'], ['wombat-exchange'], ['memetic'], ['elysia'], ['molecular-future'], ['bridge-oracle'], ['sovryn'], ['sylo'], ['digixdao'], ['bitcountry-neer'], ['soda-coin'], ['ariva'], ['red-token'], ['calamari-network'], ['shiryo-inu'], ['project-seed'], ['unicly-cryptopunks-collection'], ['gridcoin'], ['jupiter'], ['tokenomy'], ['poa'], ['bytecoin-bcn'], ['shyft-network'], ['poolz-finance'], ['infinity-pad'], ['utopia'], ['foam'], ['town-star'], ['zano'], ['rocket-vault-rocketx'], ['epik-prime'], ['gameswap'], ['polaris-share'], ['bondly'], ['victoria-vr'], ['trabzonspor-fan-token'], ['cellframe'], ['exeedme'], ['weway'], ['swftcoin'], ['signum'], ['ignis'], ['rari-governance-token'], ['cashaa'], ['nash'], ['torn'], ['1irstcoin'], ['dogebonk'], ['taboo-token'], ['xdai'], ['factom'], ['og-fan-token'], ['defi-yield-protocol'], ['dfyn-network'], ['mandox-v2'], ['diamond-launch'], ['monavale'], ['xaya'], ['qatar-2022-token'], ['mintme-com-coin'], ['bitcny'], ['kambria'], ['gamercoin'], ['tokpie'], ['dragonchain'], ['vempire-ddao'], ['woonkly-power'], ['nft-worlds'], ['meetone'], ['ilcoin'], ['sentinel'], ['multivac'], ['vidya'], ['fenerbahce-token'], ['defi-land'], ['guildfi'], ['chain-guardians'], ['kromatika'], ['axis-token'], ['animalgo'], ['everest'], ['polkamarkets'], ['project-with'], ['venus-link'], ['1world'], ['bitrue-coin'], ['peardao'], ['stat'], ['gamium'], ['trustverse'], ['hypercash'], ['tomtomcoin'], ['cardstack'], ['zimbocash'], ['sidus'], ['saffron-finance'], ['inverse-finance'], ['santiment'], ['cache-gold'], ['label-foundation'], ['pstake-finance'], ['tnc-coin'], ['valor-token'], ['monkeyball'], ['fuse-network'], ['kasta'], ['strikecoin'], ['newton'], ['nav-coin'], ['now-token'], ['tifi-token'], ['sharetoken'], ['bnktothefuture'], ['cumrocket'], ['kylin'], ['populous'], ['nxt'], ['mobius'], ['atari-token'], ['linker-coin']]\n",
      "998\n"
     ]
    }
   ],
   "source": [
    "# Usamos la funcion anterior que habiamos creados para que nos de los valores unicos \n",
    "MilCriptoMonedas = unique(MilCriptoMonedas)\n",
    "MilCriptoMonedas = MilCriptoMonedas[1:]\n",
    "print(MilCriptoMonedas)\n",
    "print(len(MilCriptoMonedas))"
   ]
  },
  {
   "cell_type": "code",
   "execution_count": null,
   "id": "43ed30b3",
   "metadata": {},
   "outputs": [],
   "source": []
  },
  {
   "cell_type": "code",
   "execution_count": null,
   "id": "dd3f7a50",
   "metadata": {},
   "outputs": [],
   "source": []
  }
 ],
 "metadata": {
  "kernelspec": {
   "display_name": "Python 3 (ipykernel)",
   "language": "python",
   "name": "python3"
  },
  "language_info": {
   "codemirror_mode": {
    "name": "ipython",
    "version": 3
   },
   "file_extension": ".py",
   "mimetype": "text/x-python",
   "name": "python",
   "nbconvert_exporter": "python",
   "pygments_lexer": "ipython3",
   "version": "3.9.13"
  }
 },
 "nbformat": 4,
 "nbformat_minor": 5
}
