{
 "cells": [
  {
   "cell_type": "markdown",
   "id": "4a71a38e",
   "metadata": {},
   "source": [
    "### SALARIO DE UN DATA SCIENTIST EN ESPAÑA"
   ]
  },
  {
   "cell_type": "markdown",
   "id": "94075779",
   "metadata": {},
   "source": [
    "Un Data Scientist sin experiencia, con menos de 3 años de experiencia laboral, puede esperar un salario medio de alrededor de 19.500-26.500 € brutos por año. Un Data Scientist con 4-9 años de experiencia puede tener un salario promedio de alrededor de 27.500-36.200 €, mientras que un Data Scientist senior con 10-20 años de experiencia gana un promedio de 54.600 €. Un Data Scientist con más de 20 años de experiencia puede esperar un salario promedio general de 62.300 €.\n",
    "salario ANUAL =    20.000 br  -  16.000 netos\n",
    "salario MENSUAL =  1.666 br   -  1.333  netos\n",
    "salario HORA =     10.41 br   -  8.33   netos\n",
    "Esto tambien puede variar dependiendo de que comunidad autonoma estes de España"
   ]
  },
  {
   "cell_type": "markdown",
   "id": "48fd8361",
   "metadata": {},
   "source": [
    "### SALARIO DE UN DATA SCIENTIST EN EUROPA "
   ]
  },
  {
   "cell_type": "markdown",
   "id": "d99a7457",
   "metadata": {},
   "source": [
    "El salario medio de un data sciences junior en Europa como en paises como Alemania, Suiza o Reino Unido, ronda sobre los 30.000-38.000 euros brutos anuales. Algunos ofrecen bonificaciones extras y otros mas."
   ]
  },
  {
   "cell_type": "markdown",
   "id": "5e164d26",
   "metadata": {},
   "source": [
    "### SALARIO DE UN DATA SCIENTIST EN USA \n"
   ]
  },
  {
   "cell_type": "markdown",
   "id": "91e033d8",
   "metadata": {},
   "source": [
    "El salario en Estados Unidos varia mucho dependiendo del estado en el que trabajos pero la media es entre unos 42.000-60.000 euros brutos anuales. Esta puesto es muy demandado en la primera potencia mundial, por eso tiene los salarios mas altos que el resto del mundo, sin contar su coste de vida alla."
   ]
  },
  {
   "cell_type": "code",
   "execution_count": null,
   "id": "8946a315",
   "metadata": {},
   "outputs": [],
   "source": []
  }
 ],
 "metadata": {
  "kernelspec": {
   "display_name": "Python 3 (ipykernel)",
   "language": "python",
   "name": "python3"
  },
  "language_info": {
   "codemirror_mode": {
    "name": "ipython",
    "version": 3
   },
   "file_extension": ".py",
   "mimetype": "text/x-python",
   "name": "python",
   "nbconvert_exporter": "python",
   "pygments_lexer": "ipython3",
   "version": "3.9.13"
  }
 },
 "nbformat": 4,
 "nbformat_minor": 5
}
