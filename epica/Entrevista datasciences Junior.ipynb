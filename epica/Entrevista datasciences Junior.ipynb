{
 "cells": [
  {
   "cell_type": "markdown",
   "id": "1e9b6b4a",
   "metadata": {},
   "source": [
    "5.- Prueba Técnica: la empresa donde has pasado la entrevista quiere hacerte una prueba técnica. Tendrías 2 días para resolverla. Lee detenidamente el enunciado de la prueba y apunta qué partes sabrías realizar sin problemas y apunta también que partes te generan más dudas. No hay que realizar la prueba, tan sólo leer la descripción, investigar lo que necesites en Internet y apuntar lo que mejor se te dé y lo que más dudas te provoque.\n",
    "\n",
    "Enunciado del problema:\n",
    "Se te ha proporcionado un conjunto de datos que contiene información sobre transacciones bancarias realizadas por clientes de un banco. El conjunto de datos incluye las siguientes columnas:\n",
    "\n",
    "ID del cliente\n",
    "Fecha y hora de la transacción\n",
    "Monto de la transacción\n",
    "Tipo de transacción (crédito o débito)\n",
    "Saldo después de la transacción\n",
    "Tu tarea es construir un modelo de clasificación para identificar transacciones fraudulentas.\n",
    "\n",
    "Instrucciones:\n",
    "\n",
    "Utilizando el lenguaje de programación de tu elección, carga el conjunto de datos en un dataframe y realiza una exploración inicial de los datos para identificar posibles problemas o relaciones interesantes.\n",
    "Limpia y transforma los datos según sea necesario.\n",
    "Utiliza técnicas de ingeniería de características para crear nuevas características relevantes a partir de las existentes.\n",
    "Entrena varios modelos de clasificación diferentes (por ejemplo, regresión logística, k vecinos más cercanos, Random Forest) y evalúa su desempeño mediante métricas como la precisión, el recall o la curva ROC.\n",
    "Selecciona el modelo que mejor se desempeñe y utilízalo para hacer predicciones sobre el conjunto de prueba.\n",
    "Prepárate para presentar y explicar tu análisis y tus resultados a un equipo de revisión.\n",
    "De nuevo es importante especificar el lenguaje de programación y las librerías que se pueden utilizar"
   ]
  },
  {
   "cell_type": "markdown",
   "id": "a835cda4",
   "metadata": {},
   "source": [
    "## Respuesta"
   ]
  },
  {
   "cell_type": "markdown",
   "id": "d900a117",
   "metadata": {},
   "source": [
    "1- Lo que mejor se me daria, seria la limpieza de datos. Es algo que he realizado mas veces y tengo mas practica."
   ]
  },
  {
   "cell_type": "markdown",
   "id": "1b2097f4",
   "metadata": {},
   "source": [
    "2-Lo que mas se me difultaria o me demoraria mas, seria la si usara un modelo de regresion logistica o de clasificacion. Lo he trabajado pocas veces y creo q se me dificulta mas."
   ]
  }
 ],
 "metadata": {
  "kernelspec": {
   "display_name": "Python 3 (ipykernel)",
   "language": "python",
   "name": "python3"
  },
  "language_info": {
   "codemirror_mode": {
    "name": "ipython",
    "version": 3
   },
   "file_extension": ".py",
   "mimetype": "text/x-python",
   "name": "python",
   "nbconvert_exporter": "python",
   "pygments_lexer": "ipython3",
   "version": "3.9.13"
  }
 },
 "nbformat": 4,
 "nbformat_minor": 5
}
