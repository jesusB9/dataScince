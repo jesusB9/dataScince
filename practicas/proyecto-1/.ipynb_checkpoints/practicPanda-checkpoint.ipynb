{
 "cells": [
  {
   "cell_type": "code",
   "execution_count": 2,
   "id": "5751a59a",
   "metadata": {},
   "outputs": [
    {
     "data": {
      "text/html": [
       "<div>\n",
       "<style scoped>\n",
       "    .dataframe tbody tr th:only-of-type {\n",
       "        vertical-align: middle;\n",
       "    }\n",
       "\n",
       "    .dataframe tbody tr th {\n",
       "        vertical-align: top;\n",
       "    }\n",
       "\n",
       "    .dataframe thead th {\n",
       "        text-align: right;\n",
       "    }\n",
       "</style>\n",
       "<table border=\"1\" class=\"dataframe\">\n",
       "  <thead>\n",
       "    <tr style=\"text-align: right;\">\n",
       "      <th></th>\n",
       "      <th>ch06</th>\n",
       "      <th>nivel_ed</th>\n",
       "      <th>htot</th>\n",
       "      <th>calif</th>\n",
       "      <th>p47t</th>\n",
       "    </tr>\n",
       "  </thead>\n",
       "  <tbody>\n",
       "    <tr>\n",
       "      <th>0</th>\n",
       "      <td>46</td>\n",
       "      <td>1_H/Sec inc</td>\n",
       "      <td>45</td>\n",
       "      <td>2_Op./No calif.</td>\n",
       "      <td>6000.0</td>\n",
       "    </tr>\n",
       "    <tr>\n",
       "      <th>1</th>\n",
       "      <td>26</td>\n",
       "      <td>2_Sec. comp y más</td>\n",
       "      <td>25</td>\n",
       "      <td>2_Op./No calif.</td>\n",
       "      <td>5000.0</td>\n",
       "    </tr>\n",
       "    <tr>\n",
       "      <th>2</th>\n",
       "      <td>47</td>\n",
       "      <td>2_Sec. comp y más</td>\n",
       "      <td>25</td>\n",
       "      <td>2_Op./No calif.</td>\n",
       "      <td>5000.0</td>\n",
       "    </tr>\n",
       "    <tr>\n",
       "      <th>3</th>\n",
       "      <td>52</td>\n",
       "      <td>1_H/Sec inc</td>\n",
       "      <td>90</td>\n",
       "      <td>2_Op./No calif.</td>\n",
       "      <td>11000.0</td>\n",
       "    </tr>\n",
       "    <tr>\n",
       "      <th>4</th>\n",
       "      <td>45</td>\n",
       "      <td>1_H/Sec inc</td>\n",
       "      <td>44</td>\n",
       "      <td>2_Op./No calif.</td>\n",
       "      <td>9500.0</td>\n",
       "    </tr>\n",
       "    <tr>\n",
       "      <th>...</th>\n",
       "      <td>...</td>\n",
       "      <td>...</td>\n",
       "      <td>...</td>\n",
       "      <td>...</td>\n",
       "      <td>...</td>\n",
       "    </tr>\n",
       "    <tr>\n",
       "      <th>23443</th>\n",
       "      <td>45</td>\n",
       "      <td>2_Sec. comp y más</td>\n",
       "      <td>50</td>\n",
       "      <td>2_Op./No calif.</td>\n",
       "      <td>4000.0</td>\n",
       "    </tr>\n",
       "    <tr>\n",
       "      <th>23444</th>\n",
       "      <td>58</td>\n",
       "      <td>1_H/Sec inc</td>\n",
       "      <td>30</td>\n",
       "      <td>2_Op./No calif.</td>\n",
       "      <td>5000.0</td>\n",
       "    </tr>\n",
       "    <tr>\n",
       "      <th>23445</th>\n",
       "      <td>36</td>\n",
       "      <td>2_Sec. comp y más</td>\n",
       "      <td>40</td>\n",
       "      <td>2_Op./No calif.</td>\n",
       "      <td>13000.0</td>\n",
       "    </tr>\n",
       "    <tr>\n",
       "      <th>23446</th>\n",
       "      <td>49</td>\n",
       "      <td>1_H/Sec inc</td>\n",
       "      <td>40</td>\n",
       "      <td>2_Op./No calif.</td>\n",
       "      <td>4000.0</td>\n",
       "    </tr>\n",
       "    <tr>\n",
       "      <th>23447</th>\n",
       "      <td>36</td>\n",
       "      <td>1_H/Sec inc</td>\n",
       "      <td>54</td>\n",
       "      <td>2_Op./No calif.</td>\n",
       "      <td>8000.0</td>\n",
       "    </tr>\n",
       "  </tbody>\n",
       "</table>\n",
       "<p>23448 rows × 5 columns</p>\n",
       "</div>"
      ],
      "text/plain": [
       "       ch06           nivel_ed  htot            calif     p47t\n",
       "0        46        1_H/Sec inc    45  2_Op./No calif.   6000.0\n",
       "1        26  2_Sec. comp y más    25  2_Op./No calif.   5000.0\n",
       "2        47  2_Sec. comp y más    25  2_Op./No calif.   5000.0\n",
       "3        52        1_H/Sec inc    90  2_Op./No calif.  11000.0\n",
       "4        45        1_H/Sec inc    44  2_Op./No calif.   9500.0\n",
       "...     ...                ...   ...              ...      ...\n",
       "23443    45  2_Sec. comp y más    50  2_Op./No calif.   4000.0\n",
       "23444    58        1_H/Sec inc    30  2_Op./No calif.   5000.0\n",
       "23445    36  2_Sec. comp y más    40  2_Op./No calif.  13000.0\n",
       "23446    49        1_H/Sec inc    40  2_Op./No calif.   4000.0\n",
       "23447    36        1_H/Sec inc    54  2_Op./No calif.   8000.0\n",
       "\n",
       "[23448 rows x 5 columns]"
      ]
     },
     "execution_count": 2,
     "metadata": {},
     "output_type": "execute_result"
    }
   ],
   "source": [
    "from operator import index\n",
    "import pandas as pd\n",
    "import numpy as np\n",
    "pilas=\"data_filt.csv\"\n",
    "df = pd.read_csv(pilas, encoding = 'latin1')\n",
    "df"
   ]
  },
  {
   "cell_type": "code",
   "execution_count": 4,
   "id": "b5d9cebe",
   "metadata": {},
   "outputs": [
    {
     "name": "stdout",
     "output_type": "stream",
     "text": [
      "<class 'pandas.core.frame.DataFrame'>\n",
      "RangeIndex: 23448 entries, 0 to 23447\n",
      "Data columns (total 5 columns):\n",
      " #   Column    Non-Null Count  Dtype  \n",
      "---  ------    --------------  -----  \n",
      " 0   ch06      23448 non-null  int64  \n",
      " 1   nivel_ed  23448 non-null  object \n",
      " 2   htot      23448 non-null  int64  \n",
      " 3   calif     23448 non-null  object \n",
      " 4   p47t      23448 non-null  float64\n",
      "dtypes: float64(1), int64(2), object(2)\n",
      "memory usage: 916.1+ KB\n"
     ]
    }
   ],
   "source": [
    "df.info()"
   ]
  },
  {
   "cell_type": "code",
   "execution_count": 5,
   "id": "b4625dd1",
   "metadata": {},
   "outputs": [
    {
     "data": {
      "text/plain": [
       "0        46\n",
       "1        26\n",
       "2        47\n",
       "3        52\n",
       "4        45\n",
       "         ..\n",
       "23443    45\n",
       "23444    58\n",
       "23445    36\n",
       "23446    49\n",
       "23447    36\n",
       "Name: ch06, Length: 23448, dtype: int64"
      ]
     },
     "execution_count": 5,
     "metadata": {},
     "output_type": "execute_result"
    }
   ],
   "source": [
    "df[\"ch06\"]\n"
   ]
  },
  {
   "cell_type": "code",
   "execution_count": 8,
   "id": "b13a08d3",
   "metadata": {},
   "outputs": [
    {
     "data": {
      "text/plain": [
       "Index(['ch06', 'nivel_ed', 'htot', 'calif', 'p47t'], dtype='object')"
      ]
     },
     "execution_count": 8,
     "metadata": {},
     "output_type": "execute_result"
    }
   ],
   "source": [
    "df.columns\n",
    "\n",
    "\n",
    "\n"
   ]
  },
  {
   "cell_type": "code",
   "execution_count": 9,
   "id": "0908306d",
   "metadata": {},
   "outputs": [
    {
     "data": {
      "text/plain": [
       "RangeIndex(start=0, stop=23448, step=1)"
      ]
     },
     "execution_count": 9,
     "metadata": {},
     "output_type": "execute_result"
    }
   ],
   "source": [
    "df.index\n"
   ]
  },
  {
   "cell_type": "code",
   "execution_count": 14,
   "id": "9f16b01b",
   "metadata": {},
   "outputs": [
    {
     "data": {
      "text/plain": [
       "dtype('O')"
      ]
     },
     "execution_count": 14,
     "metadata": {},
     "output_type": "execute_result"
    }
   ],
   "source": [
    "df[\"calif\"].dtype\n"
   ]
  },
  {
   "cell_type": "code",
   "execution_count": 16,
   "id": "60c87c52",
   "metadata": {},
   "outputs": [
    {
     "data": {
      "text/plain": [
       "2_Sec. comp y más    14634\n",
       "1_H/Sec inc           8814\n",
       "Name: nivel_ed, dtype: int64"
      ]
     },
     "execution_count": 16,
     "metadata": {},
     "output_type": "execute_result"
    }
   ],
   "source": [
    "df[\"nivel_ed\"].value_counts()\n",
    "\n"
   ]
  },
  {
   "cell_type": "code",
   "execution_count": 17,
   "id": "4901bb82",
   "metadata": {},
   "outputs": [
    {
     "data": {
      "text/plain": [
       "2_Op./No calif.    17372\n",
       "1_Prof./Tecn.       6076\n",
       "Name: calif, dtype: int64"
      ]
     },
     "execution_count": 17,
     "metadata": {},
     "output_type": "execute_result"
    }
   ],
   "source": [
    "df[\"calif\"].value_counts()\n",
    "\n"
   ]
  },
  {
   "cell_type": "code",
   "execution_count": 20,
   "id": "83fda8e0",
   "metadata": {},
   "outputs": [
    {
     "data": {
      "text/plain": [
       "190114176.0"
      ]
     },
     "execution_count": 20,
     "metadata": {},
     "output_type": "execute_result"
    }
   ],
   "source": [
    "df[\"p47t\"].sum()\n",
    "\n",
    "\n"
   ]
  },
  {
   "cell_type": "code",
   "execution_count": 22,
   "id": "f361751a",
   "metadata": {},
   "outputs": [
    {
     "data": {
      "text/plain": [
       "8107.905834186285"
      ]
     },
     "execution_count": 22,
     "metadata": {},
     "output_type": "execute_result"
    }
   ],
   "source": [
    "df[\"p47t\"].mean()\n",
    "\n"
   ]
  },
  {
   "cell_type": "code",
   "execution_count": 7,
   "id": "ba83dc9d",
   "metadata": {},
   "outputs": [
    {
     "data": {
      "text/html": [
       "<div>\n",
       "<style scoped>\n",
       "    .dataframe tbody tr th:only-of-type {\n",
       "        vertical-align: middle;\n",
       "    }\n",
       "\n",
       "    .dataframe tbody tr th {\n",
       "        vertical-align: top;\n",
       "    }\n",
       "\n",
       "    .dataframe thead th {\n",
       "        text-align: right;\n",
       "    }\n",
       "</style>\n",
       "<table border=\"1\" class=\"dataframe\">\n",
       "  <thead>\n",
       "    <tr style=\"text-align: right;\">\n",
       "      <th></th>\n",
       "      <th>nivel_ed</th>\n",
       "      <th>p47t</th>\n",
       "    </tr>\n",
       "  </thead>\n",
       "  <tbody>\n",
       "    <tr>\n",
       "      <th>0</th>\n",
       "      <td>1_H/Sec inc</td>\n",
       "      <td>6000.0</td>\n",
       "    </tr>\n",
       "    <tr>\n",
       "      <th>1</th>\n",
       "      <td>2_Sec. comp y más</td>\n",
       "      <td>5000.0</td>\n",
       "    </tr>\n",
       "    <tr>\n",
       "      <th>2</th>\n",
       "      <td>2_Sec. comp y más</td>\n",
       "      <td>5000.0</td>\n",
       "    </tr>\n",
       "    <tr>\n",
       "      <th>3</th>\n",
       "      <td>1_H/Sec inc</td>\n",
       "      <td>11000.0</td>\n",
       "    </tr>\n",
       "    <tr>\n",
       "      <th>4</th>\n",
       "      <td>1_H/Sec inc</td>\n",
       "      <td>9500.0</td>\n",
       "    </tr>\n",
       "    <tr>\n",
       "      <th>...</th>\n",
       "      <td>...</td>\n",
       "      <td>...</td>\n",
       "    </tr>\n",
       "    <tr>\n",
       "      <th>23443</th>\n",
       "      <td>2_Sec. comp y más</td>\n",
       "      <td>4000.0</td>\n",
       "    </tr>\n",
       "    <tr>\n",
       "      <th>23444</th>\n",
       "      <td>1_H/Sec inc</td>\n",
       "      <td>5000.0</td>\n",
       "    </tr>\n",
       "    <tr>\n",
       "      <th>23445</th>\n",
       "      <td>2_Sec. comp y más</td>\n",
       "      <td>13000.0</td>\n",
       "    </tr>\n",
       "    <tr>\n",
       "      <th>23446</th>\n",
       "      <td>1_H/Sec inc</td>\n",
       "      <td>4000.0</td>\n",
       "    </tr>\n",
       "    <tr>\n",
       "      <th>23447</th>\n",
       "      <td>1_H/Sec inc</td>\n",
       "      <td>8000.0</td>\n",
       "    </tr>\n",
       "  </tbody>\n",
       "</table>\n",
       "<p>23448 rows × 2 columns</p>\n",
       "</div>"
      ],
      "text/plain": [
       "                nivel_ed     p47t\n",
       "0            1_H/Sec inc   6000.0\n",
       "1      2_Sec. comp y más   5000.0\n",
       "2      2_Sec. comp y más   5000.0\n",
       "3            1_H/Sec inc  11000.0\n",
       "4            1_H/Sec inc   9500.0\n",
       "...                  ...      ...\n",
       "23443  2_Sec. comp y más   4000.0\n",
       "23444        1_H/Sec inc   5000.0\n",
       "23445  2_Sec. comp y más  13000.0\n",
       "23446        1_H/Sec inc   4000.0\n",
       "23447        1_H/Sec inc   8000.0\n",
       "\n",
       "[23448 rows x 2 columns]"
      ]
     },
     "execution_count": 7,
     "metadata": {},
     "output_type": "execute_result"
    }
   ],
   "source": [
    "df[[\"nivel_ed\",\"p47t\"]]\n",
    "\n"
   ]
  },
  {
   "cell_type": "code",
   "execution_count": 27,
   "id": "f3ad3460",
   "metadata": {},
   "outputs": [
    {
     "data": {
      "text/html": [
       "<div>\n",
       "<style scoped>\n",
       "    .dataframe tbody tr th:only-of-type {\n",
       "        vertical-align: middle;\n",
       "    }\n",
       "\n",
       "    .dataframe tbody tr th {\n",
       "        vertical-align: top;\n",
       "    }\n",
       "\n",
       "    .dataframe thead th {\n",
       "        text-align: right;\n",
       "    }\n",
       "</style>\n",
       "<table border=\"1\" class=\"dataframe\">\n",
       "  <thead>\n",
       "    <tr style=\"text-align: right;\">\n",
       "      <th></th>\n",
       "      <th>nivel_ed</th>\n",
       "      <th>p47t</th>\n",
       "    </tr>\n",
       "  </thead>\n",
       "  <tbody>\n",
       "    <tr>\n",
       "      <th>0</th>\n",
       "      <td>1_H/Sec inc</td>\n",
       "      <td>6000.0</td>\n",
       "    </tr>\n",
       "    <tr>\n",
       "      <th>1</th>\n",
       "      <td>2_Sec. comp y más</td>\n",
       "      <td>5000.0</td>\n",
       "    </tr>\n",
       "    <tr>\n",
       "      <th>2</th>\n",
       "      <td>2_Sec. comp y más</td>\n",
       "      <td>5000.0</td>\n",
       "    </tr>\n",
       "    <tr>\n",
       "      <th>3</th>\n",
       "      <td>1_H/Sec inc</td>\n",
       "      <td>11000.0</td>\n",
       "    </tr>\n",
       "    <tr>\n",
       "      <th>4</th>\n",
       "      <td>1_H/Sec inc</td>\n",
       "      <td>9500.0</td>\n",
       "    </tr>\n",
       "    <tr>\n",
       "      <th>5</th>\n",
       "      <td>2_Sec. comp y más</td>\n",
       "      <td>6000.0</td>\n",
       "    </tr>\n",
       "    <tr>\n",
       "      <th>6</th>\n",
       "      <td>2_Sec. comp y más</td>\n",
       "      <td>9000.0</td>\n",
       "    </tr>\n",
       "    <tr>\n",
       "      <th>7</th>\n",
       "      <td>1_H/Sec inc</td>\n",
       "      <td>4260.0</td>\n",
       "    </tr>\n",
       "    <tr>\n",
       "      <th>8</th>\n",
       "      <td>1_H/Sec inc</td>\n",
       "      <td>3800.0</td>\n",
       "    </tr>\n",
       "    <tr>\n",
       "      <th>9</th>\n",
       "      <td>2_Sec. comp y más</td>\n",
       "      <td>10517.0</td>\n",
       "    </tr>\n",
       "    <tr>\n",
       "      <th>10</th>\n",
       "      <td>1_H/Sec inc</td>\n",
       "      <td>8300.0</td>\n",
       "    </tr>\n",
       "    <tr>\n",
       "      <th>11</th>\n",
       "      <td>2_Sec. comp y más</td>\n",
       "      <td>4900.0</td>\n",
       "    </tr>\n",
       "    <tr>\n",
       "      <th>12</th>\n",
       "      <td>2_Sec. comp y más</td>\n",
       "      <td>11000.0</td>\n",
       "    </tr>\n",
       "    <tr>\n",
       "      <th>13</th>\n",
       "      <td>2_Sec. comp y más</td>\n",
       "      <td>9000.0</td>\n",
       "    </tr>\n",
       "    <tr>\n",
       "      <th>14</th>\n",
       "      <td>1_H/Sec inc</td>\n",
       "      <td>3500.0</td>\n",
       "    </tr>\n",
       "    <tr>\n",
       "      <th>15</th>\n",
       "      <td>1_H/Sec inc</td>\n",
       "      <td>8000.0</td>\n",
       "    </tr>\n",
       "    <tr>\n",
       "      <th>16</th>\n",
       "      <td>1_H/Sec inc</td>\n",
       "      <td>2500.0</td>\n",
       "    </tr>\n",
       "    <tr>\n",
       "      <th>17</th>\n",
       "      <td>1_H/Sec inc</td>\n",
       "      <td>7500.0</td>\n",
       "    </tr>\n",
       "    <tr>\n",
       "      <th>18</th>\n",
       "      <td>1_H/Sec inc</td>\n",
       "      <td>5000.0</td>\n",
       "    </tr>\n",
       "    <tr>\n",
       "      <th>19</th>\n",
       "      <td>1_H/Sec inc</td>\n",
       "      <td>5500.0</td>\n",
       "    </tr>\n",
       "    <tr>\n",
       "      <th>20</th>\n",
       "      <td>2_Sec. comp y más</td>\n",
       "      <td>7000.0</td>\n",
       "    </tr>\n",
       "  </tbody>\n",
       "</table>\n",
       "</div>"
      ],
      "text/plain": [
       "             nivel_ed     p47t\n",
       "0         1_H/Sec inc   6000.0\n",
       "1   2_Sec. comp y más   5000.0\n",
       "2   2_Sec. comp y más   5000.0\n",
       "3         1_H/Sec inc  11000.0\n",
       "4         1_H/Sec inc   9500.0\n",
       "5   2_Sec. comp y más   6000.0\n",
       "6   2_Sec. comp y más   9000.0\n",
       "7         1_H/Sec inc   4260.0\n",
       "8         1_H/Sec inc   3800.0\n",
       "9   2_Sec. comp y más  10517.0\n",
       "10        1_H/Sec inc   8300.0\n",
       "11  2_Sec. comp y más   4900.0\n",
       "12  2_Sec. comp y más  11000.0\n",
       "13  2_Sec. comp y más   9000.0\n",
       "14        1_H/Sec inc   3500.0\n",
       "15        1_H/Sec inc   8000.0\n",
       "16        1_H/Sec inc   2500.0\n",
       "17        1_H/Sec inc   7500.0\n",
       "18        1_H/Sec inc   5000.0\n",
       "19        1_H/Sec inc   5500.0\n",
       "20  2_Sec. comp y más   7000.0"
      ]
     },
     "execution_count": 27,
     "metadata": {},
     "output_type": "execute_result"
    }
   ],
   "source": [
    "df2[:21]\n",
    "\n"
   ]
  },
  {
   "cell_type": "code",
   "execution_count": 28,
   "id": "0b3064df",
   "metadata": {},
   "outputs": [
    {
     "data": {
      "text/html": [
       "<div>\n",
       "<style scoped>\n",
       "    .dataframe tbody tr th:only-of-type {\n",
       "        vertical-align: middle;\n",
       "    }\n",
       "\n",
       "    .dataframe tbody tr th {\n",
       "        vertical-align: top;\n",
       "    }\n",
       "\n",
       "    .dataframe thead th {\n",
       "        text-align: right;\n",
       "    }\n",
       "</style>\n",
       "<table border=\"1\" class=\"dataframe\">\n",
       "  <thead>\n",
       "    <tr style=\"text-align: right;\">\n",
       "      <th></th>\n",
       "      <th>ch06</th>\n",
       "      <th>nivel_ed</th>\n",
       "      <th>htot</th>\n",
       "      <th>calif</th>\n",
       "      <th>p47t</th>\n",
       "    </tr>\n",
       "  </thead>\n",
       "  <tbody>\n",
       "    <tr>\n",
       "      <th>19368</th>\n",
       "      <td>23</td>\n",
       "      <td>2_Sec. comp y más</td>\n",
       "      <td>40</td>\n",
       "      <td>2_Op./No calif.</td>\n",
       "      <td>6000.0</td>\n",
       "    </tr>\n",
       "    <tr>\n",
       "      <th>20352</th>\n",
       "      <td>26</td>\n",
       "      <td>2_Sec. comp y más</td>\n",
       "      <td>40</td>\n",
       "      <td>1_Prof./Tecn.</td>\n",
       "      <td>7500.0</td>\n",
       "    </tr>\n",
       "    <tr>\n",
       "      <th>6332</th>\n",
       "      <td>42</td>\n",
       "      <td>2_Sec. comp y más</td>\n",
       "      <td>48</td>\n",
       "      <td>2_Op./No calif.</td>\n",
       "      <td>9700.0</td>\n",
       "    </tr>\n",
       "    <tr>\n",
       "      <th>18759</th>\n",
       "      <td>28</td>\n",
       "      <td>2_Sec. comp y más</td>\n",
       "      <td>64</td>\n",
       "      <td>2_Op./No calif.</td>\n",
       "      <td>11200.0</td>\n",
       "    </tr>\n",
       "    <tr>\n",
       "      <th>18244</th>\n",
       "      <td>23</td>\n",
       "      <td>2_Sec. comp y más</td>\n",
       "      <td>20</td>\n",
       "      <td>2_Op./No calif.</td>\n",
       "      <td>1200.0</td>\n",
       "    </tr>\n",
       "    <tr>\n",
       "      <th>...</th>\n",
       "      <td>...</td>\n",
       "      <td>...</td>\n",
       "      <td>...</td>\n",
       "      <td>...</td>\n",
       "      <td>...</td>\n",
       "    </tr>\n",
       "    <tr>\n",
       "      <th>12787</th>\n",
       "      <td>48</td>\n",
       "      <td>1_H/Sec inc</td>\n",
       "      <td>20</td>\n",
       "      <td>2_Op./No calif.</td>\n",
       "      <td>1800.0</td>\n",
       "    </tr>\n",
       "    <tr>\n",
       "      <th>13907</th>\n",
       "      <td>57</td>\n",
       "      <td>2_Sec. comp y más</td>\n",
       "      <td>44</td>\n",
       "      <td>1_Prof./Tecn.</td>\n",
       "      <td>8000.0</td>\n",
       "    </tr>\n",
       "    <tr>\n",
       "      <th>4696</th>\n",
       "      <td>22</td>\n",
       "      <td>2_Sec. comp y más</td>\n",
       "      <td>25</td>\n",
       "      <td>2_Op./No calif.</td>\n",
       "      <td>4000.0</td>\n",
       "    </tr>\n",
       "    <tr>\n",
       "      <th>13834</th>\n",
       "      <td>26</td>\n",
       "      <td>2_Sec. comp y más</td>\n",
       "      <td>35</td>\n",
       "      <td>2_Op./No calif.</td>\n",
       "      <td>5000.0</td>\n",
       "    </tr>\n",
       "    <tr>\n",
       "      <th>728</th>\n",
       "      <td>38</td>\n",
       "      <td>1_H/Sec inc</td>\n",
       "      <td>25</td>\n",
       "      <td>2_Op./No calif.</td>\n",
       "      <td>6500.0</td>\n",
       "    </tr>\n",
       "  </tbody>\n",
       "</table>\n",
       "<p>500 rows × 5 columns</p>\n",
       "</div>"
      ],
      "text/plain": [
       "       ch06           nivel_ed  htot            calif     p47t\n",
       "19368    23  2_Sec. comp y más    40  2_Op./No calif.   6000.0\n",
       "20352    26  2_Sec. comp y más    40    1_Prof./Tecn.   7500.0\n",
       "6332     42  2_Sec. comp y más    48  2_Op./No calif.   9700.0\n",
       "18759    28  2_Sec. comp y más    64  2_Op./No calif.  11200.0\n",
       "18244    23  2_Sec. comp y más    20  2_Op./No calif.   1200.0\n",
       "...     ...                ...   ...              ...      ...\n",
       "12787    48        1_H/Sec inc    20  2_Op./No calif.   1800.0\n",
       "13907    57  2_Sec. comp y más    44    1_Prof./Tecn.   8000.0\n",
       "4696     22  2_Sec. comp y más    25  2_Op./No calif.   4000.0\n",
       "13834    26  2_Sec. comp y más    35  2_Op./No calif.   5000.0\n",
       "728      38        1_H/Sec inc    25  2_Op./No calif.   6500.0\n",
       "\n",
       "[500 rows x 5 columns]"
      ]
     },
     "execution_count": 28,
     "metadata": {},
     "output_type": "execute_result"
    }
   ],
   "source": [
    "df.sample(500)\n"
   ]
  },
  {
   "cell_type": "code",
   "execution_count": 8,
   "id": "ebddd708",
   "metadata": {},
   "outputs": [
    {
     "data": {
      "text/html": [
       "<div>\n",
       "<style scoped>\n",
       "    .dataframe tbody tr th:only-of-type {\n",
       "        vertical-align: middle;\n",
       "    }\n",
       "\n",
       "    .dataframe tbody tr th {\n",
       "        vertical-align: top;\n",
       "    }\n",
       "\n",
       "    .dataframe thead th {\n",
       "        text-align: right;\n",
       "    }\n",
       "</style>\n",
       "<table border=\"1\" class=\"dataframe\">\n",
       "  <thead>\n",
       "    <tr style=\"text-align: right;\">\n",
       "      <th></th>\n",
       "      <th>ch06</th>\n",
       "      <th>htot</th>\n",
       "      <th>p47t</th>\n",
       "    </tr>\n",
       "  </thead>\n",
       "  <tbody>\n",
       "    <tr>\n",
       "      <th>count</th>\n",
       "      <td>23448.000000</td>\n",
       "      <td>23448.000000</td>\n",
       "      <td>23448.000000</td>\n",
       "    </tr>\n",
       "    <tr>\n",
       "      <th>mean</th>\n",
       "      <td>40.455689</td>\n",
       "      <td>39.684536</td>\n",
       "      <td>8107.905834</td>\n",
       "    </tr>\n",
       "    <tr>\n",
       "      <th>std</th>\n",
       "      <td>12.934870</td>\n",
       "      <td>16.172226</td>\n",
       "      <td>6396.801309</td>\n",
       "    </tr>\n",
       "    <tr>\n",
       "      <th>min</th>\n",
       "      <td>12.000000</td>\n",
       "      <td>1.000000</td>\n",
       "      <td>80.000000</td>\n",
       "    </tr>\n",
       "    <tr>\n",
       "      <th>25%</th>\n",
       "      <td>30.000000</td>\n",
       "      <td>30.000000</td>\n",
       "      <td>4000.000000</td>\n",
       "    </tr>\n",
       "    <tr>\n",
       "      <th>50%</th>\n",
       "      <td>39.000000</td>\n",
       "      <td>40.000000</td>\n",
       "      <td>7000.000000</td>\n",
       "    </tr>\n",
       "    <tr>\n",
       "      <th>75%</th>\n",
       "      <td>50.000000</td>\n",
       "      <td>48.000000</td>\n",
       "      <td>10000.000000</td>\n",
       "    </tr>\n",
       "    <tr>\n",
       "      <th>max</th>\n",
       "      <td>93.000000</td>\n",
       "      <td>168.000000</td>\n",
       "      <td>130000.000000</td>\n",
       "    </tr>\n",
       "  </tbody>\n",
       "</table>\n",
       "</div>"
      ],
      "text/plain": [
       "               ch06          htot           p47t\n",
       "count  23448.000000  23448.000000   23448.000000\n",
       "mean      40.455689     39.684536    8107.905834\n",
       "std       12.934870     16.172226    6396.801309\n",
       "min       12.000000      1.000000      80.000000\n",
       "25%       30.000000     30.000000    4000.000000\n",
       "50%       39.000000     40.000000    7000.000000\n",
       "75%       50.000000     48.000000   10000.000000\n",
       "max       93.000000    168.000000  130000.000000"
      ]
     },
     "execution_count": 8,
     "metadata": {},
     "output_type": "execute_result"
    }
   ],
   "source": [
    "df.describe()\n",
    "\n",
    "\n"
   ]
  },
  {
   "cell_type": "code",
   "execution_count": 4,
   "id": "09637f25",
   "metadata": {},
   "outputs": [
    {
     "data": {
      "text/html": [
       "<div>\n",
       "<style scoped>\n",
       "    .dataframe tbody tr th:only-of-type {\n",
       "        vertical-align: middle;\n",
       "    }\n",
       "\n",
       "    .dataframe tbody tr th {\n",
       "        vertical-align: top;\n",
       "    }\n",
       "\n",
       "    .dataframe thead th {\n",
       "        text-align: right;\n",
       "    }\n",
       "</style>\n",
       "<table border=\"1\" class=\"dataframe\">\n",
       "  <thead>\n",
       "    <tr style=\"text-align: right;\">\n",
       "      <th></th>\n",
       "      <th>htot</th>\n",
       "      <th>p47t</th>\n",
       "    </tr>\n",
       "  </thead>\n",
       "  <tbody>\n",
       "    <tr>\n",
       "      <th>0</th>\n",
       "      <td>45</td>\n",
       "      <td>6000.0</td>\n",
       "    </tr>\n",
       "    <tr>\n",
       "      <th>1</th>\n",
       "      <td>25</td>\n",
       "      <td>5000.0</td>\n",
       "    </tr>\n",
       "    <tr>\n",
       "      <th>2</th>\n",
       "      <td>25</td>\n",
       "      <td>5000.0</td>\n",
       "    </tr>\n",
       "    <tr>\n",
       "      <th>3</th>\n",
       "      <td>90</td>\n",
       "      <td>11000.0</td>\n",
       "    </tr>\n",
       "    <tr>\n",
       "      <th>4</th>\n",
       "      <td>44</td>\n",
       "      <td>9500.0</td>\n",
       "    </tr>\n",
       "    <tr>\n",
       "      <th>...</th>\n",
       "      <td>...</td>\n",
       "      <td>...</td>\n",
       "    </tr>\n",
       "    <tr>\n",
       "      <th>23443</th>\n",
       "      <td>50</td>\n",
       "      <td>4000.0</td>\n",
       "    </tr>\n",
       "    <tr>\n",
       "      <th>23444</th>\n",
       "      <td>30</td>\n",
       "      <td>5000.0</td>\n",
       "    </tr>\n",
       "    <tr>\n",
       "      <th>23445</th>\n",
       "      <td>40</td>\n",
       "      <td>13000.0</td>\n",
       "    </tr>\n",
       "    <tr>\n",
       "      <th>23446</th>\n",
       "      <td>40</td>\n",
       "      <td>4000.0</td>\n",
       "    </tr>\n",
       "    <tr>\n",
       "      <th>23447</th>\n",
       "      <td>54</td>\n",
       "      <td>8000.0</td>\n",
       "    </tr>\n",
       "  </tbody>\n",
       "</table>\n",
       "<p>23448 rows × 2 columns</p>\n",
       "</div>"
      ],
      "text/plain": [
       "       htot     p47t\n",
       "0        45   6000.0\n",
       "1        25   5000.0\n",
       "2        25   5000.0\n",
       "3        90  11000.0\n",
       "4        44   9500.0\n",
       "...     ...      ...\n",
       "23443    50   4000.0\n",
       "23444    30   5000.0\n",
       "23445    40  13000.0\n",
       "23446    40   4000.0\n",
       "23447    54   8000.0\n",
       "\n",
       "[23448 rows x 2 columns]"
      ]
     },
     "execution_count": 4,
     "metadata": {},
     "output_type": "execute_result"
    }
   ],
   "source": [
    "pro=df[[\"htot\",\"p47t\"]]\n",
    "pro"
   ]
  },
  {
   "cell_type": "code",
   "execution_count": 6,
   "id": "c1437bc3",
   "metadata": {},
   "outputs": [
    {
     "data": {
      "text/plain": [
       "39.684535994541115"
      ]
     },
     "execution_count": 6,
     "metadata": {},
     "output_type": "execute_result"
    }
   ],
   "source": [
    "horas=np.mean(pro[\"htot\"])\n",
    "horas"
   ]
  },
  {
   "cell_type": "code",
   "execution_count": 9,
   "id": "acbbcbd7",
   "metadata": {},
   "outputs": [
    {
     "data": {
      "text/plain": [
       "8107.905834186285"
      ]
     },
     "execution_count": 9,
     "metadata": {},
     "output_type": "execute_result"
    }
   ],
   "source": [
    "sueldo=np.mean(pro[\"p47t\"])\n",
    "sueldo"
   ]
  },
  {
   "cell_type": "code",
   "execution_count": 11,
   "id": "ad08a6d8",
   "metadata": {},
   "outputs": [
    {
     "data": {
      "text/plain": [
       "count    23448.000000\n",
       "mean        39.684536\n",
       "std         16.172226\n",
       "min          1.000000\n",
       "25%         30.000000\n",
       "50%         40.000000\n",
       "75%         48.000000\n",
       "max        168.000000\n",
       "Name: htot, dtype: float64"
      ]
     },
     "execution_count": 11,
     "metadata": {},
     "output_type": "execute_result"
    }
   ],
   "source": [
    "proH=pro[\"htot\"].describe()\n",
    "proH"
   ]
  },
  {
   "cell_type": "code",
   "execution_count": 13,
   "id": "ad69b936",
   "metadata": {},
   "outputs": [
    {
     "ename": "TypeError",
     "evalue": "'<' not supported between instances of 'str' and 'int'",
     "output_type": "error",
     "traceback": [
      "\u001b[1;31m---------------------------------------------------------------------------\u001b[0m",
      "\u001b[1;31mTypeError\u001b[0m                                 Traceback (most recent call last)",
      "Input \u001b[1;32mIn [13]\u001b[0m, in \u001b[0;36m<cell line: 1>\u001b[1;34m()\u001b[0m\n\u001b[1;32m----> 1\u001b[0m pro[\u001b[38;5;124;43m\"\u001b[39;49m\u001b[38;5;124;43mhtot\u001b[39;49m\u001b[38;5;124;43m\"\u001b[39;49m\u001b[38;5;241;43m<\u001b[39;49m\u001b[38;5;241;43m48\u001b[39;49m]\n",
      "\u001b[1;31mTypeError\u001b[0m: '<' not supported between instances of 'str' and 'int'"
     ]
    }
   ],
   "source": [
    "pro[\"htot\"<48]\n"
   ]
  },
  {
   "cell_type": "code",
   "execution_count": null,
   "id": "e3ab7e77",
   "metadata": {},
   "outputs": [],
   "source": []
  }
 ],
 "metadata": {
  "kernelspec": {
   "display_name": "Python 3 (ipykernel)",
   "language": "python",
   "name": "python3"
  },
  "language_info": {
   "codemirror_mode": {
    "name": "ipython",
    "version": 3
   },
   "file_extension": ".py",
   "mimetype": "text/x-python",
   "name": "python",
   "nbconvert_exporter": "python",
   "pygments_lexer": "ipython3",
   "version": "3.9.12"
  },
  "vscode": {
   "interpreter": {
    "hash": "6bd35b774331e1e0d752e2dfbb11db0a7a5bc150e8fc3d8e7f167268d30a1b37"
   }
  }
 },
 "nbformat": 4,
 "nbformat_minor": 5
}
