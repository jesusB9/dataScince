{
 "cells": [
  {
   "cell_type": "markdown",
   "id": "f5f2af89",
   "metadata": {},
   "source": [
    "1.- Busca un proyecto/empresa de Data Science en Internet que te guste e imagina que tienes una entrevista de trabajo con ellos. Debes prepararla. Ellos te harán estas preguntas y debes elaborar tus respuestas:"
   ]
  },
  {
   "cell_type": "markdown",
   "id": "b5fbae01",
   "metadata": {},
   "source": [
    "    DatMean\n",
    "    Somos una empresa de Audience Technology Marketing, con sede en Madrid, España. Fundada en 2016, recopilamos millones de puntos de datos en tiempo real de clientes en línea cada mes. DatMean es su ventanilla única para obtener datos de consumidores de alta calidad, imparciales y deterministas.\n",
    "\n",
    "    Nuestro mercado de datos de terceros patentado con su tecnología muy sofisticada crea un entorno dinámico que permite que los minoristas, las empresas que generan datos relevantes, así como las marcas y los anunciantes operen en una plataforma más transparente con acceso a datos de audiencia que son más relevantes y efectivos. .\n",
    "\n",
    "    \"Esta empresa con sede madrileña recolecta, día tras día, millones de datos de clientes en línea a tiempo real.  En su propia web hablan de que su misión es la de permitir a los anunciantes hacer un mejor uso de los datos disponibles, al comprender realmente bien el comportamiento de sus usuarios.\"\n"
   ]
  },
  {
   "cell_type": "markdown",
   "id": "ada4c279",
   "metadata": {},
   "source": [
    "¿Por qué estás interesado en trabajar en nuestra empresa en particular?"
   ]
  },
  {
   "cell_type": "markdown",
   "id": "6e944bec",
   "metadata": {},
   "source": [
    "    Porque es una gran oportunindad para mi, para mostrar mi talento, lo que he aprendido y aprender tambien. Al ser una empresa pionera en la recoleccion de datos en España. Seria una oportunidad para aprender mucho en mi "
   ]
  },
  {
   "cell_type": "markdown",
   "id": "74f8f3be",
   "metadata": {},
   "source": [
    "¿Cuál es tu experiencia previa relacionada con la ciencia de datos?"
   ]
  },
  {
   "cell_type": "markdown",
   "id": "de9cb6e0",
   "metadata": {},
   "source": [
    "    Hice un master en analisis de datos, principalmente enfocado en el machine learning, inteligencia artificial y usando herrramientas algoritmicas, de prediccion como python o r."
   ]
  },
  {
   "cell_type": "markdown",
   "id": "3bde58f3",
   "metadata": {},
   "source": [
    "¿Puedes darme un ejemplo de un proyecto en el que hayas trabajado y cómo aplicaste tus habilidades de ciencia de datos en él?\n"
   ]
  },
  {
   "cell_type": "markdown",
   "id": "03dcda42",
   "metadata": {},
   "source": [
    "    Un proyecto que realice fue en una inmobiliaria. Que trata de predecir el valor a futuro de un inmueble. Para esto iniciamos analizando toda la informacion que contienen su base de datos, luego tenemos que hacer una limpieza de ellos, para poder hacer una regresion lineal que nos de un prediccion mas precisa."
   ]
  },
  {
   "cell_type": "markdown",
   "id": "eb0faaab",
   "metadata": {},
   "source": [
    "¿Cómo describirías tus habilidades en programación y en qué lenguajes estás más cómodo?\n"
   ]
  },
  {
   "cell_type": "markdown",
   "id": "c847305a",
   "metadata": {},
   "source": [
    "    Me interesa mucho indagar o  buscar, la ciencia de datos lo veo asi. Tiene que buscar una solucion para los problemas que te pongan a futuro, van haber varias soluciones pero antes tienes que buscarlas para llegar a la meta. Me siento mas comodo en la parte de webscraping, conseguir informacion de las paginas web para los proyectos, para trbajar en las regresiones."
   ]
  },
  {
   "cell_type": "markdown",
   "id": "553be78e",
   "metadata": {},
   "source": [
    "¿Cómo te mantienes actualizado en cuanto a las últimas tendencias y desarrollos en ciencia de datos?\n"
   ]
  },
  {
   "cell_type": "markdown",
   "id": "0e5c8740",
   "metadata": {},
   "source": [
    "    Es algo del dia a dia de un data science, al estar indagando todo el tiempo en la web, siempre vas a estar al corriente con las tendencias que van mejorando, actualizando, etc. Todos los dias nos encontraremos con problemas que nos hacen buscar la informacion en internet, al hacer eso vas descubriendo lo nuevo que va saliendo y asi te mantienes al corriente de las actualizaciones."
   ]
  },
  {
   "cell_type": "markdown",
   "id": "1f2c582b",
   "metadata": {},
   "source": [
    "¿Qué te motiva a trabajar en ciencia de datos y cómo te aseguras de seguir mejorando en tu campo?\n"
   ]
  },
  {
   "cell_type": "markdown",
   "id": "1be38882",
   "metadata": {},
   "source": [
    "    Me motiva que es una carrera del futuro, que hasta ahora esta empezando su auge. Que todos los dias las empresas grandes o pequeñas se estan dando de cuenta que es muy importante el saber los nuevos metodos que se crean para obtener mas exito. Que sus negocioes tengan mejor rentabilidad. Y para seguir mejorando en mi campo es estudiar, tener mas conocimiento dia a dias en todas las nuevas actulizaciones que allan en el mundo del data science."
   ]
  },
  {
   "cell_type": "markdown",
   "id": "91f6aff8",
   "metadata": {},
   "source": [
    "¿Tienes alguna pregunta para nosotros?"
   ]
  },
  {
   "cell_type": "markdown",
   "id": "9ab5b4d1",
   "metadata": {},
   "source": []
  }
 ],
 "metadata": {
  "kernelspec": {
   "display_name": "Python 3",
   "language": "python",
   "name": "python3"
  },
  "language_info": {
   "codemirror_mode": {
    "name": "ipython",
    "version": 3
   },
   "file_extension": ".py",
   "mimetype": "text/x-python",
   "name": "python",
   "nbconvert_exporter": "python",
   "pygments_lexer": "ipython3",
   "version": "3.10.9 (tags/v3.10.9:1dd9be6, Dec  6 2022, 20:01:21) [MSC v.1934 64 bit (AMD64)]"
  },
  "vscode": {
   "interpreter": {
    "hash": "6bd35b774331e1e0d752e2dfbb11db0a7a5bc150e8fc3d8e7f167268d30a1b37"
   }
  }
 },
 "nbformat": 4,
 "nbformat_minor": 5
}
