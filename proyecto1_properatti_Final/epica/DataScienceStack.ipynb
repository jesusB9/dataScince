{
 "cells": [
  {
   "cell_type": "markdown",
   "metadata": {},
   "source": [
    "# Data Science Stack\n",
    "\n",
    "Lista de las herramientas imprescindibles de Data Science:\n",
    "\n",
    "- Lenguajes de programación: Python y R son los lenguajes de programación más utilizados en el campo de la Data Science.\n",
    "\n",
    "- Librerías y paquetes: Pandas, Numpy, Matplotlib, Seaborn, Scikit-Learn, Plotly y Statsmodels son algunas de las librerías y paquetes más importantes en el campo de la Data Science.\n",
    "\n",
    "- Entornos de análisis de datos: Jupyter Notebook, Colab de Google, R Studio y Spyder son algunos de los entornos de análisis de datos más utilizados.\n",
    "\n",
    "- Almacenamiento y gestión de datos: SQL y NoSQL, Amazon S3 y Google Cloud Storage son algunos de los sistemas de almacenamiento y gestión de datos más utilizados.\n",
    "\n",
    "- Herramientas de visualización de datos: Tableau, PowerBI y QlikView son algunas de las herramientas de visualización de datos más utilizadas.\n",
    "\n",
    "- Herramientas de aprendizaje automático: TensorFlow, PyTorch, Keras y scikit-learn son algunas de las herramientas de aprendizaje automático más utilizadas.\n",
    "\n",
    "- Sistemas de integración y automatización: Apache NiFi, Apache Airflow y Jenkins son algunos de los sistemas de integración y automatización más utilizados.\n",
    "\n",
    "Es importante tener en cuenta que el conocimiento de estas herramientas y tecnologías es solo una parte de la Data Science y que también es importante tener habilidades en **matemáticas**, **estadística**, **comunicación** y **liderazgo** para ser un buen profesional en Data Science."
   ]
  },
  {
   "cell_type": "markdown",
   "metadata": {},
   "source": [
    "Ejercicio:\n",
    "\n",
    "1.- Haz una lista de cuáles de estas herramientas hemos utilizado en el curso\n",
    "\n",
    "2.- Indica si hay alguna otra herramienta que no hayamos visto en el bootcamp, pero que te suene o hayas trabajado con ella previamente\n",
    "\n",
    "3.- Valora entre Junior/Senior/Master tus habilidades en:\n",
    "\n",
    "- Programación\n",
    "\n",
    "- Matemáticas\n",
    "\n",
    "- Estadística\n",
    "\n",
    "- Comunicación\n",
    "\n",
    "- Liderazgo\n",
    "\n",
    "4.- ¿Qué objetivos o planes tienes para mejorar estas habilidades en el futuro, aparte de lo que pueda aportar este Bootcamp?"
   ]
  },
  {
   "cell_type": "markdown",
   "metadata": {},
   "source": [
    "1- Lenguajes de programacion: Python \n",
    "   librerias: pandas, numpy,  Matplotlib, Seaborn, Scikit-Learn y Statsmodels.\n",
    "   H. Apremdizaje: TensorFlow, Keras y scikit-learn.\n",
    "   \n",
    "2- Web scraping, seaborn, jupyter, data Wrangling, regression, linear algebra, statistics, feature engineering\n",
    "\n",
    "3-Programación JUNIOR\n",
    "\n",
    "Matemáticas    JUNIOR\n",
    "\n",
    "Estadística    JUNIOR\n",
    "\n",
    "Comunicación   SENIOR\n",
    "\n",
    "Liderazgo      SENIOR\n",
    "\n",
    "4- Seguir aprendiendo por mi parte. Cada dia en este mundo del data van mejorando y se tiene que estar al dia, para no quedarse tan atrasado. En la empresa que este trabajando aprender mucho de ellos y mas de los que tengan mas experiencia y puedan aportarme a mi conocimiento y carrera. \n",
    "Tratar de trabajar en un par de empresas para aprender mas, no todas tienen la mismas formas de trabajar y de eso se puede aprender tambein."
   ]
  }
 ],
 "metadata": {
  "kernelspec": {
   "display_name": "Python 3 (ipykernel)",
   "language": "python",
   "name": "python3"
  },
  "language_info": {
   "codemirror_mode": {
    "name": "ipython",
    "version": 3
   },
   "file_extension": ".py",
   "mimetype": "text/x-python",
   "name": "python",
   "nbconvert_exporter": "python",
   "pygments_lexer": "ipython3",
   "version": "3.9.13"
  },
  "vscode": {
   "interpreter": {
    "hash": "916dbcbb3f70747c44a77c7bcd40155683ae19c65e1c03b4aa3499c5328201f1"
   }
  }
 },
 "nbformat": 4,
 "nbformat_minor": 2
}
