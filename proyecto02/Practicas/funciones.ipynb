{
 "cells": [
  {
   "cell_type": "markdown",
   "id": "ed2c57cb",
   "metadata": {},
   "source": [
    "1.- Escribe una función que extraiga de una lista de números el menor y el mayor.\n",
    "\n",
    "2.- Escribe otra función que haga de test de la primera con los siguientes casos:\n",
    "\n",
    "    [1,2,3,4,5,6,7,8,9]\n",
    "    [9,8,7,6,5,4,3,2,1]\n",
    "    [0,-1,9,-12]\n",
    "    [0, 0, 0]\n",
    "    [-1]\n",
    "    []\n",
    "\n",
    "    La función de test dará un ok por cada respuesta correcta y un fail en caso contrario.\n",
    "\n",
    "3.- Escribe una función que sume los números de una lista.\n",
    "\n",
    "4.- Escribe su función de test\n",
    "\n",
    "Suerte!"
   ]
  },
  {
   "cell_type": "code",
   "execution_count": 1,
   "id": "b8fab483",
   "metadata": {},
   "outputs": [],
   "source": [
    "import pandas as pd\n",
    "import numpy as np\n",
    "import matplotlib.pyplot as plt\n",
    "import numpy as np\n",
    "%matplotlib inline\n",
    "import random"
   ]
  },
  {
   "cell_type": "code",
   "execution_count": 2,
   "id": "373b4397",
   "metadata": {},
   "outputs": [],
   "source": [
    "def numeroMayor(listaNumeros):\n",
    "    mayor = 0\n",
    "    for n in listaNumeros:\n",
    "        if n > mayor:\n",
    "            mayor = n\n",
    "\n",
    "    return(mayor)"
   ]
  },
  {
   "cell_type": "code",
   "execution_count": 3,
   "id": "59751bbf",
   "metadata": {},
   "outputs": [],
   "source": [
    "lista = [1, 2, 3, 4, 5, 6, 7, 8, 9]"
   ]
  },
  {
   "cell_type": "code",
   "execution_count": 4,
   "id": "641be26f",
   "metadata": {},
   "outputs": [
    {
     "data": {
      "text/plain": [
       "9"
      ]
     },
     "execution_count": 4,
     "metadata": {},
     "output_type": "execute_result"
    }
   ],
   "source": [
    "numeroMayor(lista)"
   ]
  },
  {
   "cell_type": "code",
   "execution_count": 5,
   "id": "071e60ae",
   "metadata": {},
   "outputs": [],
   "source": [
    "def numerosMyM(listaNumeros):\n",
    "    if len(listaNumeros) == 0:\n",
    "        return(0, 0)   \n",
    "    mayor = listaNumeros[0]\n",
    "    menor = listaNumeros[0]\n",
    "    for n in listaNumeros:\n",
    "        if n > mayor:\n",
    "            mayor = n\n",
    "        if n < menor:\n",
    "            menor = n\n",
    "\n",
    "    return(menor, mayor)"
   ]
  },
  {
   "cell_type": "code",
   "execution_count": 6,
   "id": "280de486",
   "metadata": {},
   "outputs": [],
   "source": [
    "lista = [1, 2, 3, 4, 5, 6, 7, 8, 9]"
   ]
  },
  {
   "cell_type": "code",
   "execution_count": 7,
   "id": "fd405c0b",
   "metadata": {},
   "outputs": [
    {
     "data": {
      "text/plain": [
       "(1, 9)"
      ]
     },
     "execution_count": 7,
     "metadata": {},
     "output_type": "execute_result"
    }
   ],
   "source": [
    "numerosMyM(lista)"
   ]
  },
  {
   "cell_type": "code",
   "execution_count": 8,
   "id": "c0eb0993",
   "metadata": {},
   "outputs": [],
   "source": [
    "lista2 = [9, 8, 7, 6, 5, 4, 3, 2, 1]"
   ]
  },
  {
   "cell_type": "code",
   "execution_count": 9,
   "id": "172d603a",
   "metadata": {},
   "outputs": [
    {
     "data": {
      "text/plain": [
       "(1, 9)"
      ]
     },
     "execution_count": 9,
     "metadata": {},
     "output_type": "execute_result"
    }
   ],
   "source": [
    "numerosMyM(lista2)"
   ]
  },
  {
   "cell_type": "code",
   "execution_count": 10,
   "id": "bb5f3a2b",
   "metadata": {},
   "outputs": [],
   "source": [
    "lista3 = [0,-1, 9,-12]"
   ]
  },
  {
   "cell_type": "code",
   "execution_count": 11,
   "id": "45d125fc",
   "metadata": {},
   "outputs": [
    {
     "data": {
      "text/plain": [
       "(-12, 9)"
      ]
     },
     "execution_count": 11,
     "metadata": {},
     "output_type": "execute_result"
    }
   ],
   "source": [
    "numerosMyM(lista3)"
   ]
  },
  {
   "cell_type": "code",
   "execution_count": 12,
   "id": "cd3b9d21",
   "metadata": {},
   "outputs": [],
   "source": [
    "lista4 = [0, 0, 0]"
   ]
  },
  {
   "cell_type": "code",
   "execution_count": 13,
   "id": "8df3e8a5",
   "metadata": {},
   "outputs": [
    {
     "data": {
      "text/plain": [
       "(0, 0)"
      ]
     },
     "execution_count": 13,
     "metadata": {},
     "output_type": "execute_result"
    }
   ],
   "source": [
    "numerosMyM(lista4)"
   ]
  },
  {
   "cell_type": "code",
   "execution_count": 14,
   "id": "03dd6e84",
   "metadata": {},
   "outputs": [],
   "source": [
    "lista5 = [-1]"
   ]
  },
  {
   "cell_type": "code",
   "execution_count": 15,
   "id": "0600e055",
   "metadata": {},
   "outputs": [
    {
     "data": {
      "text/plain": [
       "(-1, -1)"
      ]
     },
     "execution_count": 15,
     "metadata": {},
     "output_type": "execute_result"
    }
   ],
   "source": [
    "numerosMyM(lista5)"
   ]
  },
  {
   "cell_type": "code",
   "execution_count": 16,
   "id": "4d26b688",
   "metadata": {},
   "outputs": [],
   "source": [
    "lista6 = []"
   ]
  },
  {
   "cell_type": "code",
   "execution_count": 17,
   "id": "7b9658f8",
   "metadata": {},
   "outputs": [
    {
     "data": {
      "text/plain": [
       "(0, 0)"
      ]
     },
     "execution_count": 17,
     "metadata": {},
     "output_type": "execute_result"
    }
   ],
   "source": [
    "numerosMyM(lista6)"
   ]
  },
  {
   "cell_type": "code",
   "execution_count": 18,
   "id": "7723738b",
   "metadata": {},
   "outputs": [],
   "source": [
    "\n",
    "def numerosMyM_test():\n",
    "    lista = [1, 2, 3, 4, 5, 6, 7, 8, 9]\n",
    "    numerosMyM(lista)\n",
    "    if numerosMyM(lista) == (1, 9):\n",
    "        print( \"ok\")\n",
    "    else:\n",
    "        print(\"fail\")\n",
    "    "
   ]
  },
  {
   "cell_type": "code",
   "execution_count": 19,
   "id": "a3770b51",
   "metadata": {},
   "outputs": [
    {
     "name": "stdout",
     "output_type": "stream",
     "text": [
      "ok\n"
     ]
    }
   ],
   "source": [
    "numerosMyM_test()"
   ]
  },
  {
   "cell_type": "code",
   "execution_count": 20,
   "id": "ba4e088d",
   "metadata": {},
   "outputs": [],
   "source": [
    "def suma(notas):\n",
    "    \n",
    "    # variable que contendrá el resultado de la suma de las notas \n",
    "    # con el valor 0, lo que indica que la suma aún no se ha realizado\n",
    "    sumaDeNotas = 0\n",
    "    \n",
    "    # A partir de ahí, un enfoque que podemos seguir es a través de una\n",
    "    # iteración sobre la lista de notas. Es decir para cada nota, su valor se\n",
    "    # agrega a la variable suma_de_notas, de la siguiente manera\n",
    "    for nota in notas:\n",
    "        sumaDeNotas += nota\n",
    "\n",
    "    return(sumaDeNotas)\n"
   ]
  },
  {
   "cell_type": "code",
   "execution_count": 21,
   "id": "939b1035",
   "metadata": {},
   "outputs": [],
   "source": [
    "notas = [1,2,3,4,5,6,7,8,9]\n",
    "notas1 = [9,8,7,6,5,4,3,2,1]\n",
    "notas2 = [0,-1,9,-12]\n",
    "notas3 = [0, 0, 0]\n",
    "notas4 = [-1]\n",
    "notas5 = []"
   ]
  },
  {
   "cell_type": "code",
   "execution_count": 22,
   "id": "3a2becd0",
   "metadata": {
    "scrolled": true
   },
   "outputs": [
    {
     "name": "stdout",
     "output_type": "stream",
     "text": [
      "45\n"
     ]
    }
   ],
   "source": [
    "sumaDeNotas = suma(notas)\n",
    "print(sumaDeNotas)"
   ]
  },
  {
   "cell_type": "code",
   "execution_count": 23,
   "id": "a7e1b0cd",
   "metadata": {},
   "outputs": [
    {
     "name": "stdout",
     "output_type": "stream",
     "text": [
      "45\n"
     ]
    }
   ],
   "source": [
    "sumaDeNotas = suma(notas1)\n",
    "print(sumaDeNotas)"
   ]
  },
  {
   "cell_type": "code",
   "execution_count": 24,
   "id": "c544b0d0",
   "metadata": {},
   "outputs": [
    {
     "name": "stdout",
     "output_type": "stream",
     "text": [
      "-4\n"
     ]
    }
   ],
   "source": [
    "sumaDeNotas = suma(notas2)\n",
    "print(sumaDeNotas)"
   ]
  },
  {
   "cell_type": "code",
   "execution_count": 25,
   "id": "a7e4d7fb",
   "metadata": {},
   "outputs": [
    {
     "name": "stdout",
     "output_type": "stream",
     "text": [
      "0\n"
     ]
    }
   ],
   "source": [
    "sumaDeNotas = suma(notas3)\n",
    "print(sumaDeNotas)"
   ]
  },
  {
   "cell_type": "code",
   "execution_count": 26,
   "id": "b81fbfbc",
   "metadata": {},
   "outputs": [
    {
     "name": "stdout",
     "output_type": "stream",
     "text": [
      "-1\n"
     ]
    }
   ],
   "source": [
    "sumaDeNotas = suma(notas4)\n",
    "print(sumaDeNotas)"
   ]
  },
  {
   "cell_type": "code",
   "execution_count": 27,
   "id": "36894aca",
   "metadata": {},
   "outputs": [
    {
     "name": "stdout",
     "output_type": "stream",
     "text": [
      "0\n"
     ]
    }
   ],
   "source": [
    "sumaDeNotas = suma(notas5)\n",
    "print(sumaDeNotas)"
   ]
  },
  {
   "cell_type": "code",
   "execution_count": 28,
   "id": "10f7b2ed",
   "metadata": {},
   "outputs": [
    {
     "name": "stdout",
     "output_type": "stream",
     "text": [
      "-4\n"
     ]
    }
   ],
   "source": [
    "# otra opcion de sumar una lista es con la funcion de python sum()\n",
    "laSuma = sum(notas2)\n",
    "print(laSuma)"
   ]
  },
  {
   "cell_type": "code",
   "execution_count": 29,
   "id": "c8bc0b73",
   "metadata": {},
   "outputs": [],
   "source": [
    "# Hcemos el test de la funcion de suma.\n",
    "def suma_test():\n",
    "    notas = [1, 2, 3, 4, 5, 6, 7, 8, 9]\n",
    "    if suma(notas) == 45:\n",
    "        print( \"ok\")\n",
    "    else:\n",
    "        print(\"fail\")\n",
    "    \n",
    "    notas1 = [9,8,7,6,5,4,3,2,1]\n",
    "    if suma(notas1) == 45:\n",
    "        print( \"ok\")\n",
    "    else:\n",
    "        print(\"fail\")\n",
    "        \n",
    "    notas2 = [0,-1,9,-12]\n",
    "    if suma(notas2) == -4:\n",
    "        print( \"ok\")\n",
    "    else:\n",
    "        print(\"fail\")\n",
    "    \n",
    "    notas3 = [0, 0, 0]\n",
    "    if suma(notas3) == 0:\n",
    "        print( \"ok\")\n",
    "    else:\n",
    "        print(\"fail\")\n",
    "        \n",
    "    notas4 = [-1]\n",
    "    if suma(notas4) == -1:\n",
    "        print( \"ok\")\n",
    "    else:\n",
    "        print(\"fail\")\n",
    "    \n",
    "    notas5 = []\n",
    "    if suma(notas5) == 0:\n",
    "        print( \"ok\")\n",
    "    else:\n",
    "        print(\"fail\")\n",
    "        "
   ]
  },
  {
   "cell_type": "code",
   "execution_count": 30,
   "id": "5aee3837",
   "metadata": {},
   "outputs": [
    {
     "name": "stdout",
     "output_type": "stream",
     "text": [
      "ok\n",
      "ok\n",
      "ok\n",
      "ok\n",
      "ok\n",
      "ok\n"
     ]
    }
   ],
   "source": [
    "suma_test()"
   ]
  },
  {
   "cell_type": "code",
   "execution_count": 31,
   "id": "855c912b",
   "metadata": {},
   "outputs": [],
   "source": [
    "# Funcion de pares e impares\n",
    "def numeroPar(n):\n",
    "    if n % 2 == 0:\n",
    "        return(True)\n",
    "    else:\n",
    "        return(False)\n",
    "    "
   ]
  },
  {
   "cell_type": "code",
   "execution_count": 32,
   "id": "09505b90",
   "metadata": {},
   "outputs": [
    {
     "name": "stdout",
     "output_type": "stream",
     "text": [
      "True\n"
     ]
    }
   ],
   "source": [
    "par = numeroPar(2)\n",
    "print(par)"
   ]
  },
  {
   "cell_type": "code",
   "execution_count": 33,
   "id": "7e7c7faa",
   "metadata": {},
   "outputs": [
    {
     "name": "stdout",
     "output_type": "stream",
     "text": [
      "False\n"
     ]
    }
   ],
   "source": [
    "par = numeroPar(1)\n",
    "print(par)"
   ]
  },
  {
   "cell_type": "code",
   "execution_count": 34,
   "id": "10374754",
   "metadata": {},
   "outputs": [
    {
     "name": "stdout",
     "output_type": "stream",
     "text": [
      "True\n"
     ]
    }
   ],
   "source": [
    "par = numeroPar(0)\n",
    "print(par)"
   ]
  },
  {
   "cell_type": "code",
   "execution_count": 35,
   "id": "3a675821",
   "metadata": {},
   "outputs": [
    {
     "name": "stdout",
     "output_type": "stream",
     "text": [
      "False\n"
     ]
    }
   ],
   "source": [
    "par = numeroPar(-1)\n",
    "print(par)"
   ]
  },
  {
   "cell_type": "code",
   "execution_count": 36,
   "id": "d4f5a2af",
   "metadata": {},
   "outputs": [],
   "source": [
    "# Hcemos el test de la funcion de numeros pares.\n",
    "def numeroPar_test():\n",
    "    n1 = 2\n",
    "    if numeroPar(n1) == True:\n",
    "        print(\"ok\")\n",
    "    else:\n",
    "        print(\"fail\")\n",
    "        \n",
    "    n2 = 1\n",
    "    if numeroPar(n2) == False:\n",
    "        print(\"ok\")\n",
    "    else:\n",
    "        print(\"fail\")\n",
    "        \n",
    "    n3 = 0\n",
    "    if numeroPar(n3) == True:\n",
    "        print(\"ok\")\n",
    "    else:\n",
    "        print(\"fail\")\n",
    "        \n",
    "    n4 = -1\n",
    "    if numeroPar(n4) == False:\n",
    "        print(\"ok\")\n",
    "    else:\n",
    "        print(\"fail\")\n",
    "    \n",
    "        "
   ]
  },
  {
   "cell_type": "code",
   "execution_count": 37,
   "id": "85bea174",
   "metadata": {},
   "outputs": [
    {
     "name": "stdout",
     "output_type": "stream",
     "text": [
      "ok\n",
      "ok\n",
      "ok\n",
      "ok\n"
     ]
    }
   ],
   "source": [
    "numeroPar_test()"
   ]
  },
  {
   "cell_type": "code",
   "execution_count": 38,
   "id": "3e9ea36a",
   "metadata": {},
   "outputs": [],
   "source": [
    "# vamos a crear una funcion que convioerta los grados celsius a Fahrenheit\n",
    "def celsiusAfahrenheit(c):\n",
    "    return (c * 1.8) + 32"
   ]
  },
  {
   "cell_type": "code",
   "execution_count": 39,
   "id": "a5ef1c7c",
   "metadata": {},
   "outputs": [
    {
     "name": "stdout",
     "output_type": "stream",
     "text": [
      "68.0\n"
     ]
    }
   ],
   "source": [
    "GradosFa = celsiusAfahrenheit(20)\n",
    "print(GradosFa)"
   ]
  },
  {
   "cell_type": "code",
   "execution_count": 40,
   "id": "bd8a8ddc",
   "metadata": {},
   "outputs": [
    {
     "name": "stdout",
     "output_type": "stream",
     "text": [
      "50.0\n"
     ]
    }
   ],
   "source": [
    "GradosFa = celsiusAfahrenheit(10)\n",
    "print(GradosFa)"
   ]
  },
  {
   "cell_type": "code",
   "execution_count": 41,
   "id": "a6cc7036",
   "metadata": {},
   "outputs": [
    {
     "name": "stdout",
     "output_type": "stream",
     "text": [
      "104.0\n"
     ]
    }
   ],
   "source": [
    "GradosFa = celsiusAfahrenheit(40)\n",
    "print(GradosFa)"
   ]
  },
  {
   "cell_type": "code",
   "execution_count": 42,
   "id": "5f4792ca",
   "metadata": {},
   "outputs": [],
   "source": [
    "# creamos la funcion de test de celsius a fahrenheit\n",
    "def celsiusAfahrenheit_test():\n",
    "    n1 = 20\n",
    "    if celsiusAfahrenheit(n1) == 68.0:\n",
    "        print(\"ok\")\n",
    "    else:\n",
    "        print(\"fail\")\n",
    "        \n",
    "    n2 = 10\n",
    "    if celsiusAfahrenheit(n2) == 50.0:\n",
    "        print(\"ok\")\n",
    "    else:\n",
    "        print(\"fail\")\n",
    "        \n",
    "    n3 = 40\n",
    "    if celsiusAfahrenheit(n3) == 104.0:\n",
    "        print(\"ok\")\n",
    "    else:\n",
    "        print(\"fail\")"
   ]
  },
  {
   "cell_type": "code",
   "execution_count": 43,
   "id": "6d80c90d",
   "metadata": {},
   "outputs": [
    {
     "name": "stdout",
     "output_type": "stream",
     "text": [
      "ok\n",
      "ok\n",
      "ok\n"
     ]
    }
   ],
   "source": [
    "# llamamos la funcion para verificar si los datos son correctos\n",
    "celsiusAfahrenheit_test()"
   ]
  },
  {
   "cell_type": "code",
   "execution_count": 44,
   "id": "2707f077",
   "metadata": {},
   "outputs": [],
   "source": [
    "# vamos a crear una funcion que convioerta los grados Fahrenheit a celsius.\n",
    "def fahrenheitAcelsius(f):\n",
    "    return (f - 32) / 1.8"
   ]
  },
  {
   "cell_type": "code",
   "execution_count": 45,
   "id": "bd0e619c",
   "metadata": {},
   "outputs": [
    {
     "name": "stdout",
     "output_type": "stream",
     "text": [
      "-12.222222222222221\n"
     ]
    }
   ],
   "source": [
    "GradosCel = fahrenheitAcelsius(10)\n",
    "print(GradosCel)"
   ]
  },
  {
   "cell_type": "code",
   "execution_count": 46,
   "id": "05625ffc",
   "metadata": {},
   "outputs": [
    {
     "name": "stdout",
     "output_type": "stream",
     "text": [
      "26.666666666666664\n"
     ]
    }
   ],
   "source": [
    "GradosCel = fahrenheitAcelsius(80)\n",
    "print(GradosCel)"
   ]
  },
  {
   "cell_type": "code",
   "execution_count": 47,
   "id": "fcb70fc5",
   "metadata": {},
   "outputs": [
    {
     "name": "stdout",
     "output_type": "stream",
     "text": [
      "10.0\n"
     ]
    }
   ],
   "source": [
    "GradosCel = fahrenheitAcelsius(50)\n",
    "print(GradosCel)"
   ]
  },
  {
   "cell_type": "code",
   "execution_count": 48,
   "id": "8fa24bf1",
   "metadata": {},
   "outputs": [],
   "source": [
    "# creamos la funcion de test de celsius a fahrenheit\n",
    "def fahrenheitAcelsius_test():\n",
    "    n1 = 10\n",
    "    if fahrenheitAcelsius(n1) == -12.222222222222221:\n",
    "        print(\"ok\")\n",
    "    else:\n",
    "        print(\"fail\")\n",
    "        \n",
    "    n2 = 80\n",
    "    if fahrenheitAcelsius(n2) == 26.666666666666664:\n",
    "        print(\"ok\")\n",
    "    else:\n",
    "        print(\"fail\")\n",
    "        \n",
    "    n3 = 50\n",
    "    if fahrenheitAcelsius(n3) == 10.0:\n",
    "        print(\"ok\")\n",
    "    else:\n",
    "        print(\"fail\")"
   ]
  },
  {
   "cell_type": "code",
   "execution_count": 49,
   "id": "efb6f7a9",
   "metadata": {},
   "outputs": [
    {
     "name": "stdout",
     "output_type": "stream",
     "text": [
      "ok\n",
      "ok\n",
      "ok\n"
     ]
    }
   ],
   "source": [
    "# llamamos la funcion para verificar si los datos son correctos\n",
    "fahrenheitAcelsius_test()"
   ]
  },
  {
   "cell_type": "code",
   "execution_count": 50,
   "id": "1b38549e",
   "metadata": {},
   "outputs": [
    {
     "name": "stdout",
     "output_type": "stream",
     "text": [
      "Factorial de 8 es 40320\n"
     ]
    }
   ],
   "source": [
    "# creamos una funcion de factorial usando un ciclo WHILE\n",
    "def factorial(num): \n",
    "    if num < 0: \n",
    "        print(\"El número factorial es negativo\")\n",
    "\n",
    "    elif num == 0: \n",
    "        return 1\n",
    "        \n",
    "    else: \n",
    "        fact = 1\n",
    "        while(num > 1): \n",
    "            fact *= num \n",
    "            num -= 1\n",
    "        return fact \n",
    "\n",
    "num = 8; \n",
    "\n",
    "print(\"Factorial de\", num, \"es\", factorial(num))     "
   ]
  },
  {
   "cell_type": "code",
   "execution_count": 51,
   "id": "817db848",
   "metadata": {},
   "outputs": [],
   "source": [
    "# o la creamos la funcion de factorial con un ciclo FOR\n",
    "def facty(num):\n",
    "    resultado = 1\n",
    "    for i in range(1, num+1):\n",
    "        \n",
    "        resultado = i * resultado\n",
    "        \n",
    "    return(resultado) \n",
    "    "
   ]
  },
  {
   "cell_type": "code",
   "execution_count": 52,
   "id": "b1c51d75",
   "metadata": {},
   "outputs": [
    {
     "data": {
      "text/plain": [
       "40320"
      ]
     },
     "execution_count": 52,
     "metadata": {},
     "output_type": "execute_result"
    }
   ],
   "source": [
    "numero = facty(8)\n",
    "numero"
   ]
  },
  {
   "cell_type": "code",
   "execution_count": 53,
   "id": "e0c27b86",
   "metadata": {},
   "outputs": [
    {
     "data": {
      "text/plain": [
       "720"
      ]
     },
     "execution_count": 53,
     "metadata": {},
     "output_type": "execute_result"
    }
   ],
   "source": [
    "numero2 = facty(6)\n",
    "numero2"
   ]
  },
  {
   "cell_type": "code",
   "execution_count": 54,
   "id": "3d3c4743",
   "metadata": {},
   "outputs": [
    {
     "data": {
      "text/plain": [
       "120"
      ]
     },
     "execution_count": 54,
     "metadata": {},
     "output_type": "execute_result"
    }
   ],
   "source": [
    "numero3 = facty(5)\n",
    "numero3"
   ]
  },
  {
   "cell_type": "code",
   "execution_count": 55,
   "id": "cf31d573",
   "metadata": {},
   "outputs": [
    {
     "data": {
      "text/plain": [
       "24"
      ]
     },
     "execution_count": 55,
     "metadata": {},
     "output_type": "execute_result"
    }
   ],
   "source": [
    "numero4 = facty(4)\n",
    "numero4"
   ]
  },
  {
   "cell_type": "code",
   "execution_count": 56,
   "id": "045d35c0",
   "metadata": {},
   "outputs": [],
   "source": [
    "# creamos la funcion de test de factorial\n",
    "def facty_test():\n",
    "    numero = 8\n",
    "    if facty(numero) == 40320:\n",
    "        print(\"ok\")\n",
    "    else:\n",
    "        print(\"fail\")\n",
    "        \n",
    "    numero2 = 6\n",
    "    if facty(numero2) == 720:\n",
    "        print(\"ok\")\n",
    "    else:\n",
    "        print(\"fail\")\n",
    "        \n",
    "    numero3 = 5\n",
    "    if facty(numero3) == 120:\n",
    "        print(\"ok\")\n",
    "    else:\n",
    "        print(\"fail\")\n",
    "        \n",
    "    numero4 = 4\n",
    "    if facty(numero4) == 24:\n",
    "        print(\"ok\")\n",
    "    else:\n",
    "        print(\"fail\")"
   ]
  },
  {
   "cell_type": "code",
   "execution_count": 57,
   "id": "025c25b7",
   "metadata": {},
   "outputs": [
    {
     "name": "stdout",
     "output_type": "stream",
     "text": [
      "ok\n",
      "ok\n",
      "ok\n",
      "ok\n"
     ]
    }
   ],
   "source": [
    "# llamamos la funcion para verificar si los datos son correctos\n",
    "facty_test()"
   ]
  },
  {
   "cell_type": "code",
   "execution_count": 58,
   "id": "b3590395",
   "metadata": {},
   "outputs": [
    {
     "name": "stdout",
     "output_type": "stream",
     "text": [
      "     dado1  dado2  dado3  dado4  resultado  resultado2\n",
      "0        3      2      4      5         14         NaN\n",
      "1        5      6      2      2         15         NaN\n",
      "2        1      2      3      4         10         NaN\n",
      "3        4      2      2      1          9         NaN\n",
      "4        3      2      1      1          7         NaN\n",
      "..     ...    ...    ...    ...        ...         ...\n",
      "995      3      1      5      6         15         NaN\n",
      "996      3      2      2      5         12         NaN\n",
      "997      3      3      1      5         12         NaN\n",
      "998      2      6      2      2         12         NaN\n",
      "999      5      3      2      5         15         NaN\n",
      "\n",
      "[1000 rows x 6 columns]\n"
     ]
    }
   ],
   "source": [
    "#Funciones de distribución Distribución Gaussiana o Normal\n",
    "# Creamos dataframe con 1000 tiradas dobles de dado\n",
    "n = 5\n",
    "df = pd.DataFrame(np.random.randint(1, 7, size=(1000, 4)), columns=['dado1', 'dado2', \"dado3\", \"dado4\"])\n",
    "df['resultado'] = df.dado1 + df.dado2 + df.dado3 + df.dado4\n",
    "df[\"resultado2\"] = df.iloc[0] + df.iloc[1] + df.iloc[2] + df.iloc[3]\n",
    "print(df)"
   ]
  },
  {
   "cell_type": "code",
   "execution_count": 59,
   "id": "7bc79352",
   "metadata": {},
   "outputs": [
    {
     "data": {
      "text/plain": [
       "Text(0.5, 0, 'Resultado de los dos dados')"
      ]
     },
     "execution_count": 59,
     "metadata": {},
     "output_type": "execute_result"
    },
    {
     "data": {
      "image/png": "[encoded data removed]",
      "text/plain": [
       "<Figure size 432x288 with 1 Axes>"
      ]
     },
     "metadata": {
      "needs_background": "light"
     },
     "output_type": "display_data"
    }
   ],
   "source": [
    "plt.hist(df.resultado, bins=20, density=True)\n",
    "plt.ylabel('Probabilidad del evento')\n",
    "plt.xlabel('Resultado de los dos dados')"
   ]
  },
  {
   "cell_type": "code",
   "execution_count": 60,
   "id": "345445c7",
   "metadata": {},
   "outputs": [],
   "source": [
    "# Crear una función que genere (devuelva) un número aleatorio con media = 0 y desviación estándard = 1 \n",
    "mu, sigma = 0, 1\n",
    "noise1 = np.random.normal(mu, sigma, 1000)"
   ]
  },
  {
   "cell_type": "code",
   "execution_count": 61,
   "id": "e4dd6fcf",
   "metadata": {},
   "outputs": [],
   "source": [
    "def random01():\n",
    "    mu, sigma = 0, 1\n",
    "    r = np.random.normal(mu, sigma, 1)\n",
    "    return r[0]"
   ]
  },
  {
   "cell_type": "code",
   "execution_count": 62,
   "id": "93d8dc3f",
   "metadata": {},
   "outputs": [
    {
     "data": {
      "text/plain": [
       "0.37441066199137524"
      ]
     },
     "execution_count": 62,
     "metadata": {},
     "output_type": "execute_result"
    }
   ],
   "source": [
    "random01()"
   ]
  },
  {
   "cell_type": "code",
   "execution_count": 63,
   "id": "a5e56670",
   "metadata": {},
   "outputs": [],
   "source": [
    "def randomIn():\n",
    "    r = random01()\n",
    "    print(r)\n",
    "    if r > -1 and r < 1:\n",
    "        return True\n",
    "    else:\n",
    "        return False"
   ]
  },
  {
   "cell_type": "code",
   "execution_count": 64,
   "id": "486391eb",
   "metadata": {},
   "outputs": [
    {
     "name": "stdout",
     "output_type": "stream",
     "text": [
      "0.44132719795375486\n"
     ]
    },
    {
     "data": {
      "text/plain": [
       "True"
      ]
     },
     "execution_count": 64,
     "metadata": {},
     "output_type": "execute_result"
    }
   ],
   "source": [
    "randomIn()"
   ]
  },
  {
   "cell_type": "code",
   "execution_count": 65,
   "id": "19893a42",
   "metadata": {},
   "outputs": [
    {
     "name": "stdout",
     "output_type": "stream",
     "text": [
      "0.2183109290291369\n",
      "-1.54281824646646\n",
      "-0.3004603296160465\n",
      "1.8797685194306102\n",
      "-1.1267299066471852\n",
      "0.5903793085754792\n",
      "-0.6225354166481276\n",
      "-0.9274671181828772\n",
      "-0.2968592820510151\n",
      "-2.3445016265388054\n",
      "-0.7563024791209256\n",
      "0.07372379886946649\n",
      "1.77721242663716\n",
      "0.9546737829990071\n",
      "0.6125230407736971\n",
      "-1.208541347009501\n",
      "-0.6792476848566568\n",
      "0.3012417647735827\n",
      "-0.10971686551438155\n",
      "-0.9680869113976279\n",
      "-0.04021817105196589\n",
      "1.2194342133116918\n",
      "1.0244340125421076\n",
      "0.15257330518081927\n",
      "1.306466243322101\n",
      "0.17228296013690209\n",
      "1.9674552714902265\n",
      "2.15820399556589\n",
      "0.6269757421952687\n",
      "-0.7276642054581274\n",
      "1.3696232203258305\n",
      "-0.17855506257578962\n",
      "0.4052479147907146\n",
      "-1.1567910564999324\n",
      "0.9552560030626487\n",
      "0.08094907095804178\n",
      "-0.19457538555280873\n",
      "-0.8541339205479463\n",
      "1.021183604804936\n",
      "-0.4215366108539352\n",
      "0.9888495501219419\n",
      "1.2847469768926252\n",
      "-0.9468401804629331\n",
      "0.8528661394841499\n",
      "0.2762903457641768\n",
      "-0.1659989708248817\n",
      "0.7651701056443267\n",
      "0.39894049391926883\n",
      "-1.2040179421210222\n",
      "-1.289576218069064\n",
      "1.6934974238340117\n",
      "0.25216801489367224\n",
      "-2.672170509986438\n",
      "1.885775166628201\n",
      "1.0494006874735897\n",
      "0.24815191818448584\n",
      "0.2383503851852583\n",
      "0.5191680552317789\n",
      "1.3553745451241122\n",
      "-1.649737976706783\n",
      "-1.1381381718456796\n",
      "-0.16880652688414965\n",
      "1.3123286823853233\n",
      "-1.0437256224331515\n",
      "0.25824191729399437\n",
      "-0.6259791404743905\n",
      "-0.8568128915749269\n",
      "-0.13146067481110785\n",
      "0.042730023326983405\n",
      "0.09823986871331476\n",
      "-0.3691761433784368\n",
      "-0.00606670458335579\n",
      "1.90861188982138\n",
      "0.3732445096160794\n",
      "-1.1258501856296521\n",
      "-0.6129585191218851\n",
      "-0.42517128474737986\n",
      "-0.7712251892186619\n",
      "0.1533894998290946\n",
      "0.6012413381121163\n",
      "-0.10267067498018206\n",
      "-0.6957242139649751\n",
      "0.5148812178373259\n",
      "-2.4380551260069945\n",
      "0.6537391382826014\n",
      "0.6841393505936038\n",
      "-0.18857279970371504\n",
      "-0.9181267631636991\n",
      "-0.888943413188171\n",
      "0.5607668278637415\n",
      "-0.050226108172307035\n",
      "-0.8112675844192633\n",
      "-0.22846038681555786\n",
      "-0.7746210581656365\n",
      "0.16295781370719828\n",
      "-0.6248562686479533\n",
      "0.475660185044836\n",
      "1.1019224174934026\n",
      "0.3839168954603083\n",
      "-0.6726766195931005\n",
      "-0.34207248188460954\n",
      "-0.4325125105811411\n",
      "1.3820675987276612\n",
      "-1.572884876864401\n",
      "-1.036299555888649\n",
      "-0.6497424378995548\n",
      "0.5845884748037351\n",
      "0.6630902226761772\n",
      "1.0236269055963287\n",
      "0.20767364394375476\n",
      "0.5460741532453175\n",
      "0.48679258349268084\n",
      "-0.3710209952576068\n",
      "0.16634403584743487\n",
      "1.0508418952284708\n",
      "-0.39511225130110206\n",
      "-0.16108254801013736\n",
      "-0.4153518155691078\n",
      "-0.4215897078215012\n",
      "1.3878276935216027\n",
      "-0.339214901476851\n",
      "1.0916130002958795\n",
      "0.3392138164469356\n",
      "1.0334086348294056\n",
      "1.0755289287076775\n",
      "-1.5714138223871457\n",
      "-0.49586839075404054\n",
      "-0.08715549151559636\n",
      "-0.6371676212634693\n",
      "-2.0147518315974504\n",
      "-0.8277027912580804\n",
      "-0.5051793898292114\n",
      "-1.2124284611832754\n",
      "0.0032700496839871366\n",
      "-0.8009725322212753\n",
      "1.9065090293690246\n",
      "0.22594742774600302\n",
      "-0.1155972112192844\n",
      "0.15240274467979456\n",
      "1.2048894688624334\n",
      "-0.06715746477695374\n",
      "-0.43553123735181326\n",
      "0.19390865633531998\n",
      "-0.2616899554125619\n",
      "1.231302163016433\n",
      "-2.979922288476244\n",
      "0.5778430316757125\n",
      "0.902763681940369\n",
      "1.703883254784699\n",
      "-1.2921944115441744\n",
      "-0.9801640337865012\n",
      "-0.06660357205663539\n",
      "-0.1956878307462441\n",
      "0.1924412977435004\n",
      "-0.15889276225700785\n",
      "1.3153768182035452\n",
      "-0.6239780316515112\n",
      "0.7674174478945905\n",
      "-2.308220956565768\n",
      "0.04980884612288505\n",
      "-0.7644119779713591\n",
      "-0.7952199091966944\n",
      "0.2782174722695761\n",
      "0.5127607191974431\n",
      "1.588268443366826\n",
      "0.2873589739539884\n",
      "-0.6523580826290464\n",
      "-0.2915737118375862\n",
      "-1.2127218847595416\n",
      "0.6380456815114062\n",
      "-1.107888517442764\n",
      "0.026628844219947673\n",
      "-1.055542666665121\n",
      "-0.08652775056459387\n",
      "0.11526369970803457\n",
      "0.5636639269412844\n",
      "0.15428847485722139\n",
      "-0.6073993351702945\n",
      "0.3334349819742444\n",
      "-2.012788021110966\n",
      "0.2754813817760667\n",
      "-0.6486725782562098\n",
      "0.7665346642903103\n",
      "0.9077434278816375\n",
      "-0.29838399806150706\n",
      "-0.11512639037207247\n",
      "1.7456312644632856\n",
      "1.7453902420536733\n",
      "-0.008856640145216378\n",
      "0.3806150390093294\n",
      "1.4569276183085222\n",
      "-1.0839402235956315\n",
      "-1.4629845648537896\n",
      "0.2813269879200058\n",
      "1.0188474638359177\n",
      "-0.0007286172653439549\n",
      "-0.558325262388384\n",
      "0.6213577604875007\n",
      "1.2133957805938496\n",
      "-0.03602151988716939\n",
      "-2.570897673586464\n",
      "-1.0359736088646365\n",
      "0.9366661717093346\n",
      "-1.5183065114286374\n",
      "-0.6586330196949808\n",
      "1.369227156784165\n",
      "-0.2761169921302683\n",
      "0.8280393780812682\n",
      "-1.313843443900967\n",
      "1.4170604997276732\n",
      "0.31737345625716057\n",
      "0.13718182228826506\n",
      "0.6869065962795583\n",
      "0.7843852591915823\n",
      "-1.4137896895399529\n",
      "1.0266446071466198\n",
      "1.097442423180945\n",
      "1.4619663084043562\n",
      "-1.275236137889176\n",
      "-0.4551852186685226\n",
      "-1.2405318015351166\n",
      "0.5139850407903586\n",
      "-0.8786556850734369\n",
      "0.23505070820851892\n",
      "-0.005564833738772712\n",
      "1.6649671134706348\n",
      "0.1651773739305046\n",
      "-0.837898569050404\n",
      "-0.1915252813277816\n",
      "0.007457698735079118\n",
      "-0.8136627594049171\n",
      "-1.0913005172792503\n",
      "1.4577073510429195\n",
      "-0.41953717300186305\n",
      "0.5886519644306596\n",
      "2.449569875711988\n",
      "-0.21824992377975735\n",
      "-0.16090181637314477\n",
      "-0.4060868534075676\n",
      "0.027883611985879735\n",
      "-0.47795915672634764\n",
      "-1.03741100616261\n",
      "0.7842082551529391\n",
      "-0.014093965204371332\n",
      "-0.7819698453950072\n",
      "1.1360723302012554\n",
      "1.8089511125589102\n",
      "-1.5313526945679505\n",
      "0.10089929704477786\n",
      "1.2276316330029435\n",
      "-0.4866500444362702\n",
      "-0.15229565256836705\n",
      "0.7664401696563435\n",
      "0.17367004626682733\n",
      "-0.9348110160391978\n",
      "0.3227886192440054\n",
      "-0.32758319760200316\n",
      "0.9284883877645637\n",
      "-0.7897558105388154\n",
      "2.3891856909553923\n",
      "1.1821024116405725\n",
      "-0.03032333841057151\n",
      "1.1085734971568644\n",
      "0.31167942650799907\n",
      "0.6506803079402769\n",
      "-1.8004437223883747\n",
      "0.9375731742257674\n",
      "-1.1610050840827641\n",
      "0.13053960661529698\n",
      "0.15393816535392776\n",
      "1.271804589336844\n",
      "0.7452050716812713\n",
      "0.47796287041727425\n",
      "1.8362935262327291\n",
      "0.6001581009353588\n",
      "1.347147043684748\n",
      "0.7780311912724739\n",
      "-0.49459765561957486\n",
      "0.8460660171138806\n",
      "2.065290677099969\n",
      "-0.07367758906105126\n",
      "-1.411811944775618\n",
      "0.4297875839037198\n",
      "-1.8161321455493717\n",
      "-0.26729890112556964\n",
      "0.3950903289044437\n",
      "-0.05416088737836899\n",
      "0.5860195387362737\n",
      "-1.5312836826093528\n",
      "1.7323234309807956\n",
      "-1.714458942466445\n",
      "0.18811257981412075\n",
      "-0.8684465183092097\n",
      "1.1475470801489378\n",
      "0.3127203218912127\n",
      "-1.2428560272450684\n",
      "-0.9205398164474163\n",
      "1.1459162539440837\n",
      "2.089852142809923\n",
      "0.49037732229084074\n",
      "0.922272927502642\n",
      "0.5507568693423349\n",
      "0.21154806010341207\n",
      "-0.8631354194096488\n",
      "0.68945771806441\n",
      "0.2435556668074261\n",
      "-0.005434705830982387\n",
      "1.2981583241023205\n",
      "-1.2750678443264152\n",
      "0.9020139886466977\n",
      "0.17933464962416837\n",
      "0.23811218103450243\n",
      "0.0930351987280275\n",
      "0.005772601508332415\n",
      "-0.8505205050404011\n",
      "-0.25695281725885616\n",
      "0.5742256373953196\n",
      "0.33707586532309497\n",
      "-1.0954162497067343\n",
      "1.426114290508291\n",
      "-0.42049851745809264\n",
      "-1.2301960998238244\n",
      "1.9627885527254394\n",
      "0.4027494721364939\n",
      "-0.4548799650666931\n",
      "1.0654467070879723\n",
      "-0.3511241042167543\n",
      "-0.00042310596337687714\n",
      "-0.12311746423328508\n",
      "0.8248678143122297\n",
      "-0.9742020665795389\n",
      "1.4318195189929208\n",
      "-1.4500604095474268\n",
      "0.8214418696544915\n",
      "-0.5172251113350316\n",
      "0.7351601457302395\n",
      "-0.29399042009018755\n",
      "-0.9785058012278436\n",
      "-1.0300558415042305\n",
      "-0.17930434493372688\n",
      "0.3128775963317081\n",
      "0.034115365221728144\n",
      "0.6566413343088358\n",
      "1.201551465267793\n",
      "0.0755973635523713\n",
      "-1.145509196922409\n",
      "0.878633121189876\n",
      "0.417085058277344\n",
      "-0.27583778916923135\n",
      "-0.0990666267371431\n",
      "-0.5753963554338358\n",
      "0.662217432389358\n",
      "0.9181997315469277\n",
      "-0.2867675819047074\n",
      "-0.9668342059517789\n",
      "-0.8627875441910694\n",
      "2.1008186592224147\n",
      "-0.9951298137860294\n",
      "-0.2897219060409323\n",
      "-1.986273382312392\n",
      "0.6010624095055951\n",
      "-0.10824413485504672\n",
      "0.3214069405810353\n",
      "-0.07657454821470024\n",
      "1.5953247464228202\n",
      "-0.5618793898562885\n",
      "-0.06666186642674725\n",
      "0.27682291641622486\n",
      "-0.3260277049994443\n",
      "1.5742075450443864\n",
      "0.26408191918060797\n",
      "-1.0118556104076215\n",
      "0.2427831792631199\n",
      "-2.459390668728644\n",
      "1.933045386193642\n",
      "-0.008402141711219278\n",
      "0.213372425352086\n",
      "-1.2331809427674996\n",
      "0.8706946790389737\n",
      "0.9008017186956008\n",
      "-1.5246504588838183\n",
      "-1.567819487484021\n",
      "0.3255083206683598\n",
      "-1.433497268239579\n",
      "0.23478301214199215\n",
      "-0.7573563353054135\n",
      "-1.8770088877499924\n",
      "0.08973406963249743\n",
      "1.5966318105867656\n",
      "0.6994763233989113\n",
      "-1.7849236059394538\n",
      "-0.8194743179681342\n",
      "-0.21661590849550771\n",
      "0.31544548966455077\n",
      "1.2103408315119526\n",
      "0.9075695326731064\n",
      "-1.0149219668461371\n",
      "0.5801201908574711\n",
      "-0.8606594500822606\n",
      "0.381867299138896\n",
      "0.5147341213012032\n",
      "1.2914781809302007\n",
      "0.5721946884989775\n",
      "-0.598897247095364\n",
      "-0.5092122113906896\n",
      "0.055040892247112436\n",
      "0.8007750861959485\n",
      "0.5090094071761935\n",
      "-0.9979945714811077\n",
      "0.8813927710006619\n",
      "-1.874213542855179\n",
      "-0.3722166147392565\n",
      "1.1913584398943282\n",
      "-0.2497850740820095\n",
      "0.5222243792920964\n",
      "-0.9997525069487887\n",
      "-0.7848575873462569\n",
      "0.48207327444531206\n",
      "0.14274739466386982\n",
      "-1.6024213757284165\n",
      "-0.0136762511034055\n",
      "0.6562655036034604\n",
      "-0.6453825153694664\n",
      "-0.5840778691617146\n",
      "0.4714718352974122\n",
      "-0.6732780580864809\n",
      "0.6127674690661679\n",
      "-0.16292079621257224\n",
      "0.21935600420159204\n",
      "1.3404448932544155\n",
      "-0.09546865219260434\n",
      "-1.323986437475443\n",
      "1.3884188385665681\n",
      "-0.7966233416407046\n",
      "-0.15359240882365374\n",
      "-1.9222783647005761\n",
      "1.2174619647839964\n",
      "-0.16974419619429673\n",
      "0.6985785573862006\n",
      "-0.04595933148208888\n",
      "0.6191811883361178\n",
      "-0.18528703203418873\n",
      "1.4077819236320899\n",
      "0.967655909959412\n",
      "1.8020930084370896\n",
      "1.0385413685386111\n",
      "1.3253954408742106\n",
      "-0.35039902232773146\n",
      "0.5653460630471975\n",
      "-0.5297693753773824\n",
      "1.549094770423897\n",
      "-1.2555350359891597\n",
      "2.3562716816682108\n",
      "-0.6819152682531064\n",
      "-2.145257176342642\n",
      "1.8987597235864837\n",
      "0.4960369671083235\n",
      "-0.7534568038551214\n",
      "0.9616524592102096\n",
      "0.2863008922883047\n",
      "0.6548811383530182\n",
      "-0.29854636506088167\n",
      "0.3327819922886879\n",
      "-1.089070760185924\n",
      "0.20877775618215225\n",
      "-1.742723712416401\n",
      "0.46033167333288244\n",
      "0.17297155577119336\n",
      "-1.5057751759539673\n",
      "0.5865653049937914\n",
      "-1.1975871111853413\n",
      "0.45684083915679674\n",
      "0.49239836299464634\n",
      "-1.1532015810727878\n",
      "-0.6499495588731533\n",
      "-0.4510999669420849\n",
      "0.29545778175593307\n",
      "-1.9798552914223786\n",
      "0.32205386452190937\n",
      "-0.7893294976250694\n",
      "-0.20248717260783017\n",
      "-0.06635879011943124\n",
      "0.3753914020926258\n",
      "-0.4917563354505005\n",
      "0.6629917650069745\n",
      "1.2940624117499446\n",
      "-1.1707281511446133\n",
      "0.780295526899534\n",
      "1.4738462059165156\n",
      "-0.09631196955669671\n",
      "-1.3049445602802217\n",
      "0.5473709746245108\n",
      "-1.304462422970046\n",
      "-1.6580436982609434\n",
      "0.860509449874707\n",
      "0.37571118896455635\n",
      "-0.41434981874817317\n",
      "0.1872815194877798\n",
      "1.3102106181851652\n",
      "0.9688020977684816\n",
      "-0.4941485433318772\n",
      "-0.9353834872876445\n",
      "-1.0588707823834496\n",
      "-0.27913571897243\n",
      "1.0175535448791533\n",
      "0.13493176814144142\n",
      "-1.2031639720530738\n",
      "0.38750065412141926\n",
      "0.15434377040717526\n",
      "-0.23604450242290304\n",
      "1.5615904279431332\n",
      "-1.9329558645632994\n",
      "-0.4120538228209981\n",
      "0.521839622042617\n",
      "-0.08988656394079585\n",
      "-1.9905835378711716\n",
      "-0.6177448293672673\n",
      "-0.8078061798205866\n",
      "-0.8402062632860553\n",
      "-0.532177792208296\n",
      "-2.6808220217508003\n",
      "1.9127642837985723\n",
      "0.7586773786459715\n",
      "-0.39107745720840237\n",
      "-1.6189449538123195\n",
      "-0.22897749838259174\n",
      "-0.2569864699944185\n",
      "0.5276468046302617\n",
      "0.839842314577358\n",
      "-1.0383892560725854\n",
      "-0.5668654367820549\n",
      "-1.8890605091427957\n",
      "0.20064365285815847\n",
      "0.5605913302751219\n",
      "0.5706175978619534\n",
      "0.39841673282758816\n",
      "0.5572561711656768\n",
      "1.6896701286474365\n",
      "-0.11784810382413641\n",
      "-0.1460575899205905\n",
      "-1.5615796128511867\n",
      "0.2669224910686989\n",
      "0.5691108231344267\n",
      "-0.3243067635465957\n",
      "0.6094760740915611\n",
      "-0.010047541947458705\n",
      "-0.5626861764126232\n",
      "-0.5038773560963494\n",
      "0.07148107760143721\n",
      "0.43321958484878853\n",
      "1.1440120114590537\n",
      "-0.5888399373853788\n",
      "-1.666628220343805\n",
      "-0.18378316558125643\n",
      "0.2156416343788551\n",
      "0.5073571089173033\n",
      "0.05789671439660518\n",
      "-0.9235319729590044\n",
      "0.933713910025157\n",
      "0.4552792431378204\n",
      "0.26198028549261687\n",
      "-0.3016061708530309\n",
      "-0.6756548698130661\n",
      "-0.6237791558222076\n",
      "1.4420535782490975\n",
      "2.0585953433666924\n",
      "-2.7064113019191955\n",
      "0.1246305899449425\n",
      "0.5339464035141787\n",
      "-0.5527020710226263\n",
      "0.06117572479506671\n",
      "-0.4563803571177479\n",
      "0.8819596151546676\n",
      "-0.6374421738024216\n",
      "-0.7406625778958479\n",
      "0.21751880463040038\n",
      "-0.10902600518339443\n",
      "-0.9309654927596247\n",
      "0.89127158355159\n",
      "-0.5609944317273379\n",
      "-0.5165587147783101\n",
      "0.374604455124859\n",
      "1.0735983897474102\n",
      "0.9310572160967626\n",
      "1.0853326277403101\n",
      "-1.1206227197797756\n",
      "-0.2181904551823303\n",
      "-0.1568720129826607\n",
      "-0.05848032904432504\n",
      "-0.58011985548556\n",
      "-1.8447085640127288\n",
      "-0.9639180249945847\n",
      "-0.05690636165284139\n",
      "0.30652733001368376\n",
      "-0.05469960842287245\n",
      "1.0772009077311164\n",
      "-1.1119350248149629\n",
      "-1.1599754316737516\n",
      "-0.6051692439483214\n",
      "-0.7362177835596148\n",
      "0.9441621031226431\n",
      "-0.2949708076218444\n",
      "0.36782924671849543\n",
      "1.38927460146059\n",
      "0.9783636335448537\n",
      "-0.6457998564633359\n",
      "1.4178822574024634\n",
      "0.0028556539194024245\n",
      "-0.28025537051505417\n",
      "0.47817432708640384\n",
      "0.059216151358499794\n",
      "-0.5003133703206671\n",
      "-0.224031814538888\n",
      "-0.2993685626198521\n",
      "0.6776366543683484\n",
      "2.3457468398103463\n",
      "1.1920510397870612\n",
      "-2.4588592450528903\n",
      "0.6280985891335504\n",
      "-0.9068733636859532\n",
      "1.2961697035595192\n",
      "-0.5912675764764004\n",
      "1.566765927631918\n",
      "1.109069064851631\n",
      "-0.1367271967996877\n",
      "-1.9427294142197815\n",
      "-0.16389399110572223\n",
      "0.3621436436027553\n",
      "-1.0444738530406072\n",
      "-0.19996415874303364\n",
      "1.0963278912050405\n",
      "0.23656999474553014\n",
      "-0.2947235715302631\n",
      "-1.3705835793890158\n",
      "0.6094636493280302\n",
      "-0.963753268418949\n",
      "0.777080242554516\n",
      "2.636505559673706\n",
      "1.906020581562315\n",
      "-0.7286216165383146\n",
      "0.36895616529699826\n",
      "-0.41368639997435236\n",
      "-1.5266412057764223\n",
      "-0.8102509062490979\n",
      "0.9784187267703348\n",
      "0.6793563596400768\n",
      "-0.8874744936380473\n",
      "0.4103656917257218\n",
      "0.6606830033484894\n",
      "-0.21365020286772968\n",
      "2.241845294646311\n",
      "0.11155628577854973\n",
      "1.8328514637164748\n",
      "-0.23330641831076562\n",
      "-0.895448051776045\n",
      "-1.081786496631848\n",
      "-1.1754897320734725\n",
      "-0.23074425329768336\n",
      "-1.1240511244443419\n",
      "-0.5383140935091144\n",
      "0.5199960519554873\n",
      "-0.7094610856023036\n",
      "-0.4456408424405493\n",
      "-0.7515365929800384\n",
      "1.2117769378358778\n",
      "0.8536639854211115\n",
      "-0.2191026688599309\n",
      "1.6578266501720824\n",
      "-0.14548899774400073\n",
      "-0.664029176765392\n",
      "0.998323188599431\n",
      "-1.4080224914346946\n",
      "0.1447132044753697\n",
      "0.7080573970863077\n",
      "-1.711756973597185\n",
      "1.9944553028115868\n",
      "1.70013211303653\n",
      "-1.1608633716947914\n",
      "-0.3217877534951724\n",
      "-1.0937409321288445\n",
      "-0.11713699542055903\n",
      "-0.8123939988197596\n",
      "-0.040313573673847976\n",
      "-1.3671322780018302\n",
      "-0.539300225400318\n",
      "-0.5275116063165477\n",
      "1.395871349466142\n",
      "1.7751390981249537\n",
      "0.4715239729817257\n",
      "-0.11010709087554034\n",
      "-0.1460926740756101\n",
      "-0.34154110292754825\n",
      "-1.0418494906014069\n",
      "-0.16684122392481512\n",
      "0.59824740273596\n",
      "-0.5882642719404593\n",
      "1.9989383088218766\n",
      "0.4052930994691148\n",
      "-1.9197694089426358\n",
      "-1.6157650601272981\n",
      "0.9362173831293208\n",
      "-0.4434165916545437\n",
      "-0.32067208077226084\n",
      "-0.23792739509908672\n",
      "0.6067298372250722\n",
      "-1.4479325777803609\n",
      "-0.816461714653768\n",
      "-0.34737943523106396\n",
      "-0.16982783438286697\n",
      "-0.3742136729684273\n",
      "-1.9379641838612647\n",
      "-0.53317141214636\n",
      "-1.1079462983490747\n",
      "1.709560583603941\n",
      "0.023266319671080293\n",
      "-2.010923679569278\n",
      "-1.854997028489646\n",
      "-0.14680497154577798\n",
      "0.28966866397527063\n",
      "-1.6461909133091703\n",
      "-0.6085618699573186\n",
      "-1.231689158376716\n",
      "-0.10009597464827315\n",
      "0.6857674330193979\n",
      "0.42740797116295604\n",
      "-0.005421480045952519\n",
      "-0.8386896307517246\n",
      "2.399863900590091\n",
      "1.334309709448669\n",
      "-1.2630075572722281\n",
      "-0.07122119449328901\n",
      "-0.548625474253129\n",
      "-0.5892268998890228\n",
      "-0.9556968835542102\n",
      "0.3444047452038265\n",
      "-1.9419085175408795\n",
      "0.39188272473044605\n",
      "-1.4713201673902652\n",
      "0.9610674977885374\n",
      "-2.3778670120267478\n",
      "-0.6810152075366807\n",
      "1.3283300811558127\n",
      "-1.6672809175811631\n",
      "0.11789986985056304\n",
      "2.1834722562832756\n",
      "-0.7571380542798981\n",
      "-1.2364871922459386\n",
      "1.8949579860663834\n",
      "0.45290919697037624\n",
      "-1.255290583981007\n",
      "0.009516636333660762\n",
      "-0.29797105615433245\n",
      "1.0719253170199696\n",
      "0.6906836171359232\n",
      "-0.23404699362433537\n",
      "-0.23117242206987146\n",
      "-0.40475573878814397\n",
      "0.5436508533866475\n",
      "-0.016604244200016872\n",
      "-0.6501786778161044\n",
      "0.43737843531655374\n",
      "1.2809458387179367\n",
      "-0.7029858564276293\n",
      "-0.6101124047209922\n",
      "-0.4954710463694935\n",
      "-0.9574487943120493\n",
      "0.636400946477483\n",
      "-2.3017344131189623\n",
      "-0.3345141270099883\n",
      "1.4431097306513545\n",
      "1.3858338354287454\n",
      "-0.18135487874294073\n",
      "1.2547374174743497\n",
      "1.2083333551628195\n",
      "1.2953179332293014\n",
      "-0.05451630621495308\n",
      "-2.0212779625844024\n",
      "0.29144570621951377\n",
      "0.6604518930315897\n",
      "1.8890468274712997\n",
      "0.9903929081634278\n",
      "-0.42774401956983443\n",
      "-1.0933920895527307\n",
      "0.3778163484095818\n",
      "0.8523137310278837\n",
      "0.039814617168942606\n",
      "-0.9529981166445255\n",
      "0.1891759244608328\n",
      "-0.020406721297559115\n",
      "-0.858131038483093\n",
      "1.2126417677788848\n",
      "0.40224018692565167\n",
      "-1.1442932019831777\n",
      "0.9049965904456384\n",
      "0.449200830786511\n",
      "0.48866639747079205\n",
      "-0.3564969287020672\n",
      "-0.5090911196005402\n",
      "0.7720799697843432\n",
      "0.3673117002057372\n",
      "0.8213102124239475\n",
      "-1.0323430996931782\n",
      "1.1131530148684927\n",
      "-1.8340679376508848\n",
      "1.3940276596026366\n",
      "0.032316647370882925\n",
      "0.01914194277451753\n",
      "-0.23064961578996176\n",
      "-1.2730046675415363\n",
      "1.8222527878728025\n",
      "0.3762804923604525\n",
      "-0.6879314837530249\n",
      "0.03761303153017139\n",
      "-0.5221736177230689\n",
      "2.508663792178564\n",
      "0.806488338091897\n",
      "0.46748260055881924\n",
      "0.43505264134103355\n",
      "-0.8357532525059362\n",
      "1.8893201430006883\n",
      "0.6191536850877016\n",
      "1.3111128369178786\n",
      "2.180960369505607\n",
      "-1.0199271183355985\n",
      "0.1494179216518338\n",
      "1.350930837032332\n",
      "1.2918064143254817\n",
      "1.169968920530315\n",
      "-1.012576721222131\n",
      "0.7148820217435121\n",
      "1.934347198888718\n",
      "0.6397896749681732\n",
      "0.28528225347379643\n",
      "0.6133146423424196\n",
      "1.1975555517620784\n",
      "0.14387357312162086\n",
      "-1.6014731727599198\n",
      "-1.6591049782105196\n",
      "-0.12085706368466771\n",
      "0.8402230204025773\n",
      "1.5049594314873236\n",
      "-0.4165648712371016\n",
      "0.9912423590753905\n",
      "2.085714786806253\n",
      "-1.2074629737407212\n",
      "0.7989249998765467\n",
      "-0.5122067396759018\n",
      "-0.6231200311560602\n",
      "-0.041660844713559915\n",
      "-2.0555263976551137\n",
      "0.3620844664028711\n",
      "-0.4934935383635229\n",
      "-0.9536488498099002\n",
      "1.0353748644426133\n",
      "0.19398401241030863\n",
      "-0.4197827829277198\n",
      "0.11457178081124823\n",
      "0.05438025515062931\n",
      "0.3638736754653167\n",
      "0.7229852762491856\n",
      "-0.11075647777913113\n",
      "-1.607923466377803\n",
      "1.3580679656367554\n",
      "-1.078250947282847\n",
      "0.930141300395677\n",
      "0.34943506992225093\n",
      "-0.65523822360908\n",
      "0.15164710882779595\n",
      "-1.4631629078172017\n",
      "-0.23383244856583343\n",
      "-1.9976390761905716\n",
      "3.054463877454113\n",
      "-0.1493150342450191\n",
      "-0.43061804464546033\n",
      "-0.7992037458923927\n",
      "2.1014219686073616\n",
      "-0.5024941779354095\n",
      "-1.2380304094081098\n",
      "1.5921713055977065\n",
      "1.564475230970691\n",
      "-0.5086731955260516\n",
      "-1.03541847835511\n",
      "1.63001540775533\n",
      "-1.5439478856226545\n",
      "0.34995327720143055\n",
      "0.5449445740628136\n",
      "-0.45947787963643216\n",
      "0.07689129320335272\n",
      "-1.9263168153951873\n",
      "0.3657636521755787\n",
      "-1.8203524967563809\n",
      "-1.717693461361455\n",
      "0.2868003805246504\n",
      "0.41388496618659476\n",
      "-0.15735848116212028\n",
      "0.8336983508922284\n",
      "0.24426317081475396\n",
      "0.9793282099801192\n",
      "0.1712507558968292\n",
      "-0.97601433652076\n",
      "0.0016274951339261229\n",
      "-0.9774699052789114\n",
      "-0.4402924264247241\n",
      "-0.5086606612130904\n",
      "1.2072243839482295\n",
      "-2.5003069082726324\n",
      "-0.7818507289360644\n",
      "1.6293062473049824\n",
      "0.36027111581064664\n",
      "0.303849043140203\n",
      "1.5262000658473402\n",
      "1.3643339051440626\n",
      "1.1567007984035693\n",
      "1.5265157571251036\n",
      "0.36786424214210606\n",
      "0.9532361764953879\n",
      "0.17047509452816545\n",
      "1.4762239763871792\n",
      "0.47175275170542796\n",
      "1.5478413160220532\n",
      "-0.22353115532142034\n",
      "-0.8798668978711967\n",
      "0.4781546647925864\n",
      "-0.9190138170519584\n",
      "0.09725012053140751\n",
      "1.862490514922008\n",
      "1.7434795967351715\n",
      "2.6147860547370576\n",
      "1.424998340156548\n",
      "0.4223014768535674\n",
      "-0.719783345578556\n",
      "-0.01371430359883764\n",
      "1.313059265715029\n",
      "-0.875133204366235\n",
      "-0.16682560276770692\n",
      "-1.0006544461646032\n",
      "-1.9041280920701589\n",
      "-0.8651486750140084\n",
      "-0.7226122690075889\n",
      "-0.8343879582478195\n",
      "0.2579513979371986\n",
      "0.09602738214638225\n",
      "-0.23283569023432876\n",
      "0.6784024469381652\n",
      "0.2704918223339157\n",
      "1.8240327921421449\n",
      "-1.4205620193532589\n",
      "-0.27499397558498373\n",
      "-0.19236465594558844\n",
      "-1.1459051558596933\n",
      "2.042292355167954\n",
      "-1.0902034966873693\n",
      "0.6139952541763449\n",
      "-1.2956381599592746\n",
      "1.9516205420030663\n",
      "-0.28629579542940126\n",
      "-1.0992215023737768\n",
      "-0.9529974787229313\n",
      "-0.4317661040405968\n",
      "0.9201187142110065\n",
      "0.5428909458394903\n",
      "-1.6671973780687617\n",
      "0.5253054863611057\n",
      "0.1472537964208394\n",
      "-0.7649248576992531\n",
      "-0.22630780462025488\n",
      "-1.107752111955138\n",
      "-1.0768036011401643\n",
      "1.4594258094813368\n",
      "0.1373562479785207\n",
      "0.7179973310615565\n",
      "-1.8670584705075377\n",
      "0.6384467258499174\n",
      "-0.12349142815364257\n",
      "0.2539064386872672\n",
      "0.03930285187847333\n",
      "-0.7767626931332805\n",
      "0.22001666030641318\n",
      "-0.22825459227477402\n",
      "-0.4740859205367394\n",
      "0.015366959069524276\n",
      "1.4578605852066933\n",
      "1.2546583759646286\n",
      "-0.16975864130779672\n",
      "-0.8133169505138738\n",
      "1.0016105459023907\n",
      "-0.24304198709877314\n",
      "1.7644296257805892\n",
      "0.12053254370424595\n",
      "-0.056976498483300456\n",
      "-0.9204764640801726\n",
      "1.1312736764392346\n",
      "0.46922152177642856\n",
      "0.4327782183606799\n",
      "0.16782962289591918\n",
      "-0.8940433341919598\n",
      "-0.4617237585476961\n",
      "0.6407940718696599\n",
      "-0.17589897369716548\n",
      "1.1031517973101337\n",
      "672\n",
      "328\n"
     ]
    }
   ],
   "source": [
    "contadorTrue = 0\n",
    "contadorFalse = 0\n",
    "for i in range(0, 1000):\n",
    "    resultado = randomIn()\n",
    "    if resultado == True:\n",
    "        contadorTrue = contadorTrue + 1\n",
    "    else:\n",
    "        contadorFalse = contadorFalse + 1\n",
    "print(contadorTrue)\n",
    "print(contadorFalse)"
   ]
  },
  {
   "cell_type": "code",
   "execution_count": 66,
   "id": "3bd9365e",
   "metadata": {},
   "outputs": [
    {
     "name": "stdout",
     "output_type": "stream",
     "text": [
      "     dado1  dado2  dado3  dado4  resultado  resultado2\n",
      "0        5      2      2      5         14         NaN\n",
      "1        6      4      3      5         18         NaN\n",
      "2        5      5      1      3         14         NaN\n",
      "3        6      4      4      2         16         NaN\n",
      "4        6      1      6      6         19         NaN\n",
      "..     ...    ...    ...    ...        ...         ...\n",
      "995      6      2      4      1         13         NaN\n",
      "996      6      1      2      5         14         NaN\n",
      "997      5      2      1      4         12         NaN\n",
      "998      2      3      3      2         10         NaN\n",
      "999      6      1      1      1          9         NaN\n",
      "\n",
      "[1000 rows x 6 columns]\n"
     ]
    }
   ],
   "source": [
    "#Funciones de distribución Distribución Gaussiana o Normal\n",
    "# Creamos dataframe con 1000 tiradas dobles de dado\n",
    "n = 5\n",
    "df = pd.DataFrame(np.random.randint(1, 7, size=(1000, 4)), columns=['dado1', 'dado2', \"dado3\", \"dado4\"])\n",
    "df['resultado'] = df.dado1 + df.dado2 + df.dado3 + df.dado4\n",
    "df[\"resultado2\"] = df.iloc[0] + df.iloc[1] + df.iloc[2] + df.iloc[3]\n",
    "print(df)"
   ]
  },
  {
   "cell_type": "code",
   "execution_count": 67,
   "id": "38a8684f",
   "metadata": {},
   "outputs": [],
   "source": [
    "def dados(n):\n",
    "    df = pd.DataFrame(np.random.randint(1, 7, size=(100000, n)))\n",
    "    df['resultado'] = df.iloc[:, 0:n].sum(axis= 1) \n",
    "    return df\n",
    "    "
   ]
  },
  {
   "cell_type": "code",
   "execution_count": 68,
   "id": "ed8490d3",
   "metadata": {},
   "outputs": [
    {
     "data": {
      "text/html": [
       "<div>\n",
       "<style scoped>\n",
       "    .dataframe tbody tr th:only-of-type {\n",
       "        vertical-align: middle;\n",
       "    }\n",
       "\n",
       "    .dataframe tbody tr th {\n",
       "        vertical-align: top;\n",
       "    }\n",
       "\n",
       "    .dataframe thead th {\n",
       "        text-align: right;\n",
       "    }\n",
       "</style>\n",
       "<table border=\"1\" class=\"dataframe\">\n",
       "  <thead>\n",
       "    <tr style=\"text-align: right;\">\n",
       "      <th></th>\n",
       "      <th>0</th>\n",
       "      <th>resultado</th>\n",
       "    </tr>\n",
       "  </thead>\n",
       "  <tbody>\n",
       "    <tr>\n",
       "      <th>0</th>\n",
       "      <td>5</td>\n",
       "      <td>5</td>\n",
       "    </tr>\n",
       "    <tr>\n",
       "      <th>1</th>\n",
       "      <td>1</td>\n",
       "      <td>1</td>\n",
       "    </tr>\n",
       "    <tr>\n",
       "      <th>2</th>\n",
       "      <td>3</td>\n",
       "      <td>3</td>\n",
       "    </tr>\n",
       "    <tr>\n",
       "      <th>3</th>\n",
       "      <td>6</td>\n",
       "      <td>6</td>\n",
       "    </tr>\n",
       "    <tr>\n",
       "      <th>4</th>\n",
       "      <td>2</td>\n",
       "      <td>2</td>\n",
       "    </tr>\n",
       "    <tr>\n",
       "      <th>...</th>\n",
       "      <td>...</td>\n",
       "      <td>...</td>\n",
       "    </tr>\n",
       "    <tr>\n",
       "      <th>99995</th>\n",
       "      <td>2</td>\n",
       "      <td>2</td>\n",
       "    </tr>\n",
       "    <tr>\n",
       "      <th>99996</th>\n",
       "      <td>5</td>\n",
       "      <td>5</td>\n",
       "    </tr>\n",
       "    <tr>\n",
       "      <th>99997</th>\n",
       "      <td>1</td>\n",
       "      <td>1</td>\n",
       "    </tr>\n",
       "    <tr>\n",
       "      <th>99998</th>\n",
       "      <td>5</td>\n",
       "      <td>5</td>\n",
       "    </tr>\n",
       "    <tr>\n",
       "      <th>99999</th>\n",
       "      <td>2</td>\n",
       "      <td>2</td>\n",
       "    </tr>\n",
       "  </tbody>\n",
       "</table>\n",
       "<p>100000 rows × 2 columns</p>\n",
       "</div>"
      ],
      "text/plain": [
       "       0  resultado\n",
       "0      5          5\n",
       "1      1          1\n",
       "2      3          3\n",
       "3      6          6\n",
       "4      2          2\n",
       "...   ..        ...\n",
       "99995  2          2\n",
       "99996  5          5\n",
       "99997  1          1\n",
       "99998  5          5\n",
       "99999  2          2\n",
       "\n",
       "[100000 rows x 2 columns]"
      ]
     },
     "execution_count": 68,
     "metadata": {},
     "output_type": "execute_result"
    }
   ],
   "source": [
    "result = dados(1)\n",
    "result"
   ]
  },
  {
   "cell_type": "code",
   "execution_count": 69,
   "id": "36698dbe",
   "metadata": {},
   "outputs": [
    {
     "data": {
      "text/plain": [
       "Text(0.5, 0, 'Resultado de los dos dados')"
      ]
     },
     "execution_count": 69,
     "metadata": {},
     "output_type": "execute_result"
    },
    {
     "data": {
      "image/png": "[encoded data removed]",
      "text/plain": [
       "<Figure size 432x288 with 1 Axes>"
      ]
     },
     "metadata": {
      "needs_background": "light"
     },
     "output_type": "display_data"
    }
   ],
   "source": [
    "plt.hist(result.resultado, bins=27, density=True)\n",
    "plt.ylabel('Probabilidad del evento')\n",
    "plt.xlabel('Resultado de los dos dados')"
   ]
  },
  {
   "cell_type": "code",
   "execution_count": 70,
   "id": "1cc7a23d",
   "metadata": {},
   "outputs": [
    {
     "data": {
      "text/html": [
       "<div>\n",
       "<style scoped>\n",
       "    .dataframe tbody tr th:only-of-type {\n",
       "        vertical-align: middle;\n",
       "    }\n",
       "\n",
       "    .dataframe tbody tr th {\n",
       "        vertical-align: top;\n",
       "    }\n",
       "\n",
       "    .dataframe thead th {\n",
       "        text-align: right;\n",
       "    }\n",
       "</style>\n",
       "<table border=\"1\" class=\"dataframe\">\n",
       "  <thead>\n",
       "    <tr style=\"text-align: right;\">\n",
       "      <th></th>\n",
       "      <th>0</th>\n",
       "      <th>resultado</th>\n",
       "    </tr>\n",
       "  </thead>\n",
       "  <tbody>\n",
       "    <tr>\n",
       "      <th>count</th>\n",
       "      <td>100000.000000</td>\n",
       "      <td>100000.000000</td>\n",
       "    </tr>\n",
       "    <tr>\n",
       "      <th>mean</th>\n",
       "      <td>3.508140</td>\n",
       "      <td>3.508140</td>\n",
       "    </tr>\n",
       "    <tr>\n",
       "      <th>std</th>\n",
       "      <td>1.710901</td>\n",
       "      <td>1.710901</td>\n",
       "    </tr>\n",
       "    <tr>\n",
       "      <th>min</th>\n",
       "      <td>1.000000</td>\n",
       "      <td>1.000000</td>\n",
       "    </tr>\n",
       "    <tr>\n",
       "      <th>25%</th>\n",
       "      <td>2.000000</td>\n",
       "      <td>2.000000</td>\n",
       "    </tr>\n",
       "    <tr>\n",
       "      <th>50%</th>\n",
       "      <td>4.000000</td>\n",
       "      <td>4.000000</td>\n",
       "    </tr>\n",
       "    <tr>\n",
       "      <th>75%</th>\n",
       "      <td>5.000000</td>\n",
       "      <td>5.000000</td>\n",
       "    </tr>\n",
       "    <tr>\n",
       "      <th>max</th>\n",
       "      <td>6.000000</td>\n",
       "      <td>6.000000</td>\n",
       "    </tr>\n",
       "  </tbody>\n",
       "</table>\n",
       "</div>"
      ],
      "text/plain": [
       "                   0      resultado\n",
       "count  100000.000000  100000.000000\n",
       "mean        3.508140       3.508140\n",
       "std         1.710901       1.710901\n",
       "min         1.000000       1.000000\n",
       "25%         2.000000       2.000000\n",
       "50%         4.000000       4.000000\n",
       "75%         5.000000       5.000000\n",
       "max         6.000000       6.000000"
      ]
     },
     "execution_count": 70,
     "metadata": {},
     "output_type": "execute_result"
    }
   ],
   "source": [
    "result.describe()"
   ]
  },
  {
   "cell_type": "code",
   "execution_count": 71,
   "id": "a691b29a",
   "metadata": {},
   "outputs": [],
   "source": [
    "def esPar(n):\n",
    "    if n % 2 == 0:\n",
    "        return True\n",
    "    else:\n",
    "        return False     "
   ]
  },
  {
   "cell_type": "code",
   "execution_count": 72,
   "id": "d11987ee",
   "metadata": {},
   "outputs": [
    {
     "data": {
      "text/plain": [
       "True"
      ]
     },
     "execution_count": 72,
     "metadata": {},
     "output_type": "execute_result"
    }
   ],
   "source": [
    "paridad = esPar(12)\n",
    "paridad"
   ]
  },
  {
   "cell_type": "code",
   "execution_count": 73,
   "id": "b46e8778",
   "metadata": {},
   "outputs": [
    {
     "name": "stdout",
     "output_type": "stream",
     "text": [
      "       0  resultado  paridad\n",
      "0      5          5    False\n",
      "1      1          1    False\n",
      "2      3          3    False\n",
      "3      6          6     True\n",
      "4      2          2     True\n",
      "...   ..        ...      ...\n",
      "99995  2          2     True\n",
      "99996  5          5    False\n",
      "99997  1          1    False\n",
      "99998  5          5    False\n",
      "99999  2          2     True\n",
      "\n",
      "[100000 rows x 3 columns]\n"
     ]
    }
   ],
   "source": [
    "result[\"paridad\"] = result[0].map(lambda x: esPar(x))\n",
    "print(result)"
   ]
  },
  {
   "cell_type": "code",
   "execution_count": 74,
   "id": "e3d50dfd",
   "metadata": {},
   "outputs": [
    {
     "data": {
      "text/plain": [
       "0  resultado  paridad\n",
       "6  6          True       16844\n",
       "5  5          False      16757\n",
       "1  1          False      16709\n",
       "4  4          True       16631\n",
       "3  3          False      16614\n",
       "2  2          True       16445\n",
       "dtype: int64"
      ]
     },
     "execution_count": 74,
     "metadata": {},
     "output_type": "execute_result"
    }
   ],
   "source": [
    "result.value_counts()"
   ]
  },
  {
   "cell_type": "code",
   "execution_count": 75,
   "id": "7e79a9af",
   "metadata": {},
   "outputs": [],
   "source": [
    "# Ejercicio 2a: c\n",
    "\n",
    "# Ejercicio 2b: calcula cuál es la probabilidad de obtener un número\n",
    "# entero aleatorio entre 0 y 9 inclusives\n",
    "\n",
    "# Ejercicio 2c: calcula cuál es la probabilidad de obtener un número\n",
    "# entero aleatorio entre -1 y 8 inclusives\n",
    "\n",
    "# Ejercicio 2d: calcula cuál es la probabilidad de obtener un número\n",
    "# entero aleatorio entre -5 y 4 inclusives\n",
    "\n",
    "# Ejercicio 2e: calcula cuál es la probabilidad de que el módulo (abs)\n",
    "# de un número entero aleatorio entre -5 y 4 inclusives, sea 1"
   ]
  },
  {
   "cell_type": "code",
   "execution_count": 76,
   "id": "cc79dcac",
   "metadata": {},
   "outputs": [],
   "source": [
    "def numEntero(n):\n",
    "    df = pd.DataFrame(np.random.randint(-5, 5, size=(10000, n)))\n",
    "    df[\"abs\"] = df[0].map(lambda x: abs(x))\n",
    "    return df"
   ]
  },
  {
   "cell_type": "code",
   "execution_count": 77,
   "id": "48decfd0",
   "metadata": {},
   "outputs": [
    {
     "data": {
      "text/html": [
       "<div>\n",
       "<style scoped>\n",
       "    .dataframe tbody tr th:only-of-type {\n",
       "        vertical-align: middle;\n",
       "    }\n",
       "\n",
       "    .dataframe tbody tr th {\n",
       "        vertical-align: top;\n",
       "    }\n",
       "\n",
       "    .dataframe thead th {\n",
       "        text-align: right;\n",
       "    }\n",
       "</style>\n",
       "<table border=\"1\" class=\"dataframe\">\n",
       "  <thead>\n",
       "    <tr style=\"text-align: right;\">\n",
       "      <th></th>\n",
       "      <th>0</th>\n",
       "      <th>abs</th>\n",
       "    </tr>\n",
       "  </thead>\n",
       "  <tbody>\n",
       "    <tr>\n",
       "      <th>0</th>\n",
       "      <td>2</td>\n",
       "      <td>2</td>\n",
       "    </tr>\n",
       "    <tr>\n",
       "      <th>1</th>\n",
       "      <td>3</td>\n",
       "      <td>3</td>\n",
       "    </tr>\n",
       "    <tr>\n",
       "      <th>2</th>\n",
       "      <td>1</td>\n",
       "      <td>1</td>\n",
       "    </tr>\n",
       "    <tr>\n",
       "      <th>3</th>\n",
       "      <td>1</td>\n",
       "      <td>1</td>\n",
       "    </tr>\n",
       "    <tr>\n",
       "      <th>4</th>\n",
       "      <td>-2</td>\n",
       "      <td>2</td>\n",
       "    </tr>\n",
       "    <tr>\n",
       "      <th>...</th>\n",
       "      <td>...</td>\n",
       "      <td>...</td>\n",
       "    </tr>\n",
       "    <tr>\n",
       "      <th>9995</th>\n",
       "      <td>-4</td>\n",
       "      <td>4</td>\n",
       "    </tr>\n",
       "    <tr>\n",
       "      <th>9996</th>\n",
       "      <td>-4</td>\n",
       "      <td>4</td>\n",
       "    </tr>\n",
       "    <tr>\n",
       "      <th>9997</th>\n",
       "      <td>1</td>\n",
       "      <td>1</td>\n",
       "    </tr>\n",
       "    <tr>\n",
       "      <th>9998</th>\n",
       "      <td>4</td>\n",
       "      <td>4</td>\n",
       "    </tr>\n",
       "    <tr>\n",
       "      <th>9999</th>\n",
       "      <td>-4</td>\n",
       "      <td>4</td>\n",
       "    </tr>\n",
       "  </tbody>\n",
       "</table>\n",
       "<p>10000 rows × 2 columns</p>\n",
       "</div>"
      ],
      "text/plain": [
       "      0  abs\n",
       "0     2    2\n",
       "1     3    3\n",
       "2     1    1\n",
       "3     1    1\n",
       "4    -2    2\n",
       "...  ..  ...\n",
       "9995 -4    4\n",
       "9996 -4    4\n",
       "9997  1    1\n",
       "9998  4    4\n",
       "9999 -4    4\n",
       "\n",
       "[10000 rows x 2 columns]"
      ]
     },
     "execution_count": 77,
     "metadata": {},
     "output_type": "execute_result"
    }
   ],
   "source": [
    "ejercicio = numEntero(1)\n",
    "ejercicio"
   ]
  },
  {
   "cell_type": "code",
   "execution_count": 78,
   "id": "97a40bf5",
   "metadata": {},
   "outputs": [
    {
     "data": {
      "text/plain": [
       "1    2026\n",
       "4    2008\n",
       "2    1994\n",
       "3    1952\n",
       "0    1035\n",
       "5     985\n",
       "Name: abs, dtype: int64"
      ]
     },
     "execution_count": 78,
     "metadata": {},
     "output_type": "execute_result"
    }
   ],
   "source": [
    "ejercicio[\"abs\"].value_counts()"
   ]
  },
  {
   "cell_type": "code",
   "execution_count": 79,
   "id": "d77aff17",
   "metadata": {},
   "outputs": [
    {
     "name": "stdout",
     "output_type": "stream",
     "text": [
      "Dados: probabilidad de sacar un 1 = 0.16666666666666666\n"
     ]
    }
   ],
   "source": [
    "# Calcular probabilidades es contar eventos y ver su proporción respecto al total\n",
    "# Ejemplo: Probabilidad de que un dado saque 1\n",
    "dadoEventos = [1, 2, 3, 4, 5, 6]\n",
    "probabilidadSacar1 = 1/len(dadoEventos)\n",
    "print(\"Dados: probabilidad de sacar un 1 =\", probabilidadSacar1)"
   ]
  },
  {
   "cell_type": "code",
   "execution_count": 80,
   "id": "234f7fa7",
   "metadata": {},
   "outputs": [
    {
     "name": "stdout",
     "output_type": "stream",
     "text": [
      "Dados: Porcentaje de probabilidad de sacar un 1 = 16.67 %\n"
     ]
    }
   ],
   "source": [
    "# Para calcular el porcentaje, se multiplica por 100\n",
    "p = round(probabilidadSacar1 * 100, 2)\n",
    "print(\"Dados: Porcentaje de probabilidad de sacar un 1 =\", p, \"%\")"
   ]
  },
  {
   "cell_type": "code",
   "execution_count": 81,
   "id": "b41dc22e",
   "metadata": {},
   "outputs": [
    {
     "name": "stdout",
     "output_type": "stream",
     "text": [
      "Dados: probabilidad de sacar un 2 = 0.16666666666666666\n"
     ]
    }
   ],
   "source": [
    "# Ejercicio: calcula cuál es la probabilidad de obtener un 2 con los dados\n",
    "dado2 = [1, 2, 3, 4, 5, 6]\n",
    "probabilidadSacar2 = 1/len(dado2)\n",
    "print(\"Dados: probabilidad de sacar un 2 =\", probabilidadSacar2)"
   ]
  },
  {
   "cell_type": "code",
   "execution_count": 82,
   "id": "c3fb21a2",
   "metadata": {},
   "outputs": [
    {
     "name": "stdout",
     "output_type": "stream",
     "text": [
      "Dados: probabilidad de sacar una vocal = 0.18518518518518517\n"
     ]
    },
    {
     "ename": "NameError",
     "evalue": "name 'probabilidadVocal' is not defined",
     "output_type": "error",
     "traceback": [
      "\u001b[1;31m---------------------------------------------------------------------------\u001b[0m",
      "\u001b[1;31mNameError\u001b[0m                                 Traceback (most recent call last)",
      "Input \u001b[1;32mIn [82]\u001b[0m, in \u001b[0;36m<cell line: 5>\u001b[1;34m()\u001b[0m\n\u001b[0;32m      3\u001b[0m probabilidadSacarVocal \u001b[38;5;241m=\u001b[39m \u001b[38;5;241m5\u001b[39m\u001b[38;5;241m/\u001b[39m\u001b[38;5;28mlen\u001b[39m(listaEventos)\n\u001b[0;32m      4\u001b[0m \u001b[38;5;28mprint\u001b[39m(\u001b[38;5;124m\"\u001b[39m\u001b[38;5;124mDados: probabilidad de sacar una vocal =\u001b[39m\u001b[38;5;124m\"\u001b[39m, probabilidadSacarVocal)\n\u001b[1;32m----> 5\u001b[0m p \u001b[38;5;241m=\u001b[39m \u001b[38;5;28mround\u001b[39m(\u001b[43mprobabilidadVocal\u001b[49m \u001b[38;5;241m*\u001b[39m \u001b[38;5;241m100\u001b[39m, \u001b[38;5;241m2\u001b[39m)\n\u001b[0;32m      6\u001b[0m \u001b[38;5;28mprint\u001b[39m(\u001b[38;5;124m\"\u001b[39m\u001b[38;5;124mDados: Porcentaje de probabilidad de sacar una vocal =\u001b[39m\u001b[38;5;124m\"\u001b[39m, p, \u001b[38;5;124m\"\u001b[39m\u001b[38;5;124m%\u001b[39m\u001b[38;5;124m\"\u001b[39m)\n",
      "\u001b[1;31mNameError\u001b[0m: name 'probabilidadVocal' is not defined"
     ]
    }
   ],
   "source": [
    "# Ejercicio: calcula cuál es la probabilidad de obtener una vocal de todas las letras del alfabeto\n",
    "listaEventos = [\"a\", \"b\", \"c\", \"d\", \"e\", \"f\", \"g\", \"h\", \"i\", \"j\", \"k\", \"l\", \"m\", \"n\", \"ñ\", \"o\", \"p\", \"q\", \"r\", \"s\", \"t\", \"u\", \"v\", \"w\", \"x\", \"y\", \"z\"]\n",
    "probabilidadSacarVocal = 5/len(listaEventos)\n",
    "print(\"Dados: probabilidad de sacar una vocal =\", probabilidadSacarVocal)\n",
    "p = round(probabilidadVocal * 100, 2)\n",
    "print(\"Dados: Porcentaje de probabilidad de sacar una vocal =\", p, \"%\")"
   ]
  },
  {
   "cell_type": "code",
   "execution_count": null,
   "id": "a0f8c9b7",
   "metadata": {},
   "outputs": [],
   "source": [
    "# Ejercicio: calcula cuál es la probabilidad de obtener un as en la baraja americana\n",
    "listaCartas = [\"Das\", \"D2\", \"D3\", \"D4\", \"D5\", \"D6\", \"D7\", \"D9\", \"DJ\", \"DK\", \"DQ\",\"Cas\", \"C2\", \"C3\", \"C4\", \"C5\", \"C6\", \"C7\", \"C9\", \"CJ\", \"CK\", \"CQ\", \"Tas\", \"T2\", \"T3\", \"T4\", \"T5\", \"T6\", \"T7\", \"T9\", \"TJ\", \"TK\", \"TQ\", \"Pas\", \"P2\", \"P3\", \"P4\", \"P5\", \"P6\", \"P7\", \"P9\", \"PJ\", \"PK\", \"PQ\"]\n",
    "probabilidadSacarAs = 4/len(listaCartas)\n",
    "print(len(listaCartas),\":numero de cartas de poker\")\n",
    "print(\"Dados: probabilidad de sacar un As =\", probabilidadSacarAs)\n",
    "p = round(probabilidadSacarAs * 100, 2)\n",
    "print(\"Dados: Porcentaje de probabilidad de sacar un As =\", p, \"%\")\n"
   ]
  },
  {
   "cell_type": "code",
   "execution_count": null,
   "id": "f4cd6e22",
   "metadata": {},
   "outputs": [],
   "source": [
    "# Ejercicio: calcula cuál es la probabilidad de obtener una bola blanca de una bolsa\n",
    "# que contiene 5 bolas rojas, 3 azules y 2 blancas \n",
    "listaBolas = [\"1bolaRoja\", \"2bolaRoja\", \"3bolaRoja\", \"4bolaRoja\", \"5bolaRoja\", \"1bolaAzul\", \"2bolaAzul\", \"3bolaAzul\", \"1bolaBlanca\", \"2bolaBlanca\"]\n",
    "probabilidadSacarBolaBlanca = 2/len(listaBolas)\n",
    "print(len(listaBolas),\":numero de bolas en la bolsa\")\n",
    "print(\"Dados: probabilidad de sacar una vocal =\", probabilidadSacarBolaBlanca)\n",
    "p = round(probabilidadSacarBolaBlanca * 100, 2)\n",
    "print(\"Dados: Porcentaje de probabilidad de sacar una vocal =\", p, \"%\")"
   ]
  },
  {
   "cell_type": "code",
   "execution_count": 83,
   "id": "7730f228",
   "metadata": {},
   "outputs": [
    {
     "name": "stdout",
     "output_type": "stream",
     "text": [
      "10 :numero de bolas en la  PRIMERA bolsa\n",
      "bolsa: probabilidad de sacar una vocal = 0.1\n",
      "bolsa: Porcentaje de probabilidad de sacar una bola blanca = 10.0 %\n",
      "9 :numero de bolas en la  SEGUNDA bolsa\n",
      "bolsa2: probabilidad de sacar una vocal = 0.1111111111111111\n",
      "bolsa2: Porcentaje de probabilidad de sacar una bola blanca = 11.11 %\n",
      "Porcentaje de probabilidad de sacar una bola blanca seguida de otra = 1.11 %\n"
     ]
    }
   ],
   "source": [
    "# Ejercicio: calcula cuál es la probabilidad de obtener dos bolas blancas seguidas\n",
    "# de una bolsa que contiene 5 bolas rojas, 3 azules y 2 blancas \n",
    "listaBolas = [\"1bolaRoja\", \"2bolaRoja\", \"3bolaRoja\", \"4bolaRoja\", \"5bolaRoja\", \"1bolaAzul\", \"2bolaAzul\", \"3bolaAzul\", \"1bolaBlanca\", \"2bolaBlanca\"]\n",
    "probabilidadSacarBolaBlanca = 1/len(listaBolas)\n",
    "print(len(listaBolas),\":numero de bolas en la  PRIMERA bolsa\")\n",
    "print(\"bolsa: probabilidad de sacar una vocal =\", probabilidadSacarBolaBlanca)\n",
    "p = round(probabilidadSacarBolaBlanca * 100, 2)\n",
    "print(\"bolsa: Porcentaje de probabilidad de sacar una bola blanca =\", p, \"%\")\n",
    "\n",
    "# Hacemos lo mismo pero con una bola blanca menos, porque ya la sacamos de la bolsa\n",
    "listaBolas2 = [\"1bolaRoja\", \"2bolaRoja\", \"3bolaRoja\", \"4bolaRoja\", \"5bolaRoja\", \"1bolaAzul\", \"2bolaAzul\", \"3bolaAzul\", \"1bolaBlanca\",]\n",
    "probabilidadSacarBolaBlanca2 = 1/len(listaBolas2)\n",
    "print(len(listaBolas2),\":numero de bolas en la  SEGUNDA bolsa\")\n",
    "print(\"bolsa2: probabilidad de sacar una vocal =\", probabilidadSacarBolaBlanca2)\n",
    "p = round(probabilidadSacarBolaBlanca2 * 100, 2)\n",
    "print(\"bolsa2: Porcentaje de probabilidad de sacar una bola blanca =\", p, \"%\")\n",
    "\n",
    "formula = probabilidadSacarBolaBlanca * probabilidadSacarBolaBlanca2\n",
    "p = round(formula * 100, 2)\n",
    "print(\"Porcentaje de probabilidad de sacar una bola blanca seguida de otra =\", p, \"%\")"
   ]
  },
  {
   "cell_type": "code",
   "execution_count": 84,
   "id": "6f081832",
   "metadata": {},
   "outputs": [],
   "source": [
    "# Ejercicio:\n",
    "\n",
    "# Escribe una función que acepte un argumento o parámetro como input: N\n",
    "# Y esta función va a generar un tensor unidimensional (un vector) de N componentes con la distribución Rademacher.\n",
    "# Luego lo iterará para construir el vector randomWalk.\n",
    "# Finalmente lo dibuja como en el caso de arriba."
   ]
  },
  {
   "cell_type": "code",
   "execution_count": 86,
   "id": "0aba509a",
   "metadata": {},
   "outputs": [
    {
     "ename": "ModuleNotFoundError",
     "evalue": "No module named 'tensorflow'",
     "output_type": "error",
     "traceback": [
      "\u001b[1;31m---------------------------------------------------------------------------\u001b[0m",
      "\u001b[1;31mModuleNotFoundError\u001b[0m                       Traceback (most recent call last)",
      "Input \u001b[1;32mIn [86]\u001b[0m, in \u001b[0;36m<cell line: 1>\u001b[1;34m()\u001b[0m\n\u001b[1;32m----> 1\u001b[0m \u001b[38;5;28;01mimport\u001b[39;00m \u001b[38;5;21;01mtensorflow\u001b[39;00m \u001b[38;5;28;01mas\u001b[39;00m \u001b[38;5;21;01mtf\u001b[39;00m\n\u001b[0;32m      2\u001b[0m os\u001b[38;5;241m.\u001b[39menviron[\u001b[38;5;124m'\u001b[39m\u001b[38;5;124mTF_CPP_MIN_LOG_LEVEL\u001b[39m\u001b[38;5;124m'\u001b[39m] \u001b[38;5;241m=\u001b[39m \u001b[38;5;124m'\u001b[39m\u001b[38;5;124m3\u001b[39m\u001b[38;5;124m'\u001b[39m \u001b[38;5;66;03m# 3 = INFO, WARNING, and ERROR messages are not printed\u001b[39;00m\n\u001b[0;32m      3\u001b[0m \u001b[38;5;28;01mimport\u001b[39;00m \u001b[38;5;21;01mtensorflow_probability\u001b[39;00m \u001b[38;5;28;01mas\u001b[39;00m \u001b[38;5;21;01mtfp\u001b[39;00m\n",
      "\u001b[1;31mModuleNotFoundError\u001b[0m: No module named 'tensorflow'"
     ]
    }
   ],
   "source": [
    "import tensorflow as tf\n",
    "os.environ['TF_CPP_MIN_LOG_LEVEL'] = '3' # 3 = INFO, WARNING, and ERROR messages are not printed\n",
    "import tensorflow_probability as tfp\n",
    "tfd = tfp.distributions # By convention, we refer to the tf probability distributions library as tfd\n",
    "import seaborn as sns\n",
    "from matplotlib import pyplot as plt"
   ]
  },
  {
   "cell_type": "code",
   "execution_count": 87,
   "id": "01bc48ca",
   "metadata": {},
   "outputs": [
    {
     "ename": "ModuleNotFoundError",
     "evalue": "No module named 'tensorflow'",
     "output_type": "error",
     "traceback": [
      "\u001b[1;31m---------------------------------------------------------------------------\u001b[0m",
      "\u001b[1;31mModuleNotFoundError\u001b[0m                       Traceback (most recent call last)",
      "Input \u001b[1;32mIn [87]\u001b[0m, in \u001b[0;36m<cell line: 1>\u001b[1;34m()\u001b[0m\n\u001b[1;32m----> 1\u001b[0m \u001b[38;5;28;01mimport\u001b[39;00m \u001b[38;5;21;01mtensorflow\u001b[39;00m \u001b[38;5;28;01mas\u001b[39;00m \u001b[38;5;21;01mtf\u001b[39;00m\n\u001b[0;32m      2\u001b[0m os\u001b[38;5;241m.\u001b[39menviron[\u001b[38;5;124m'\u001b[39m\u001b[38;5;124mTF_CPP_MIN_LOG_LEVEL\u001b[39m\u001b[38;5;124m'\u001b[39m] \u001b[38;5;241m=\u001b[39m \u001b[38;5;124m'\u001b[39m\u001b[38;5;124m3\u001b[39m\u001b[38;5;124m'\u001b[39m \u001b[38;5;66;03m# 3 = INFO, WARNING, and ERROR messages are not printed\u001b[39;00m\n\u001b[0;32m      3\u001b[0m \u001b[38;5;28;01mimport\u001b[39;00m \u001b[38;5;21;01mtensorflow_probability\u001b[39;00m \u001b[38;5;28;01mas\u001b[39;00m \u001b[38;5;21;01mtfp\u001b[39;00m\n",
      "\u001b[1;31mModuleNotFoundError\u001b[0m: No module named 'tensorflow'"
     ]
    }
   ],
   "source": [
    "import tensorflow as tf\n",
    "os.environ['TF_CPP_MIN_LOG_LEVEL'] = '3' # 3 = INFO, WARNING, and ERROR messages are not printed\n",
    "import tensorflow_probability as tfp\n",
    "tfd = tfp.distributions # By convention, we refer to the tf probability distributions library as tfd\n",
    "import seaborn as sns\n",
    "from matplotlib import pyplot as plt"
   ]
  },
  {
   "cell_type": "code",
   "execution_count": null,
   "id": "658a4ca0",
   "metadata": {},
   "outputs": [],
   "source": []
  },
  {
   "cell_type": "code",
   "execution_count": null,
   "id": "5a249893",
   "metadata": {},
   "outputs": [],
   "source": []
  },
  {
   "cell_type": "code",
   "execution_count": null,
   "id": "c93a7ff9",
   "metadata": {},
   "outputs": [],
   "source": []
  },
  {
   "cell_type": "code",
   "execution_count": null,
   "id": "39834314",
   "metadata": {},
   "outputs": [],
   "source": []
  }
 ],
 "metadata": {
  "kernelspec": {
   "display_name": "Python 3 (ipykernel)",
   "language": "python",
   "name": "python3"
  },
  "language_info": {
   "codemirror_mode": {
    "name": "ipython",
    "version": 3
   },
   "file_extension": ".py",
   "mimetype": "text/x-python",
   "name": "python",
   "nbconvert_exporter": "python",
   "pygments_lexer": "ipython3",
   "version": "3.9.13"
  }
 },
 "nbformat": 4,
 "nbformat_minor": 5
}
